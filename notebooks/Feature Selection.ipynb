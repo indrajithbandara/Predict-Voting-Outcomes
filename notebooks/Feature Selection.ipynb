{
 "cells": [
  {
   "cell_type": "code",
   "execution_count": 1,
   "metadata": {
    "collapsed": false
   },
   "outputs": [],
   "source": [
    "%matplotlib inline \n",
    "\n",
    "import numpy as np\n",
    "import pandas as pd\n",
    "\n",
    "from skfeature.function.information_theoretical_based import CMIM\n",
    "from sklearn.cross_validation import train_test_split, cross_val_score, StratifiedKFold\n",
    "from sklearn.ensemble import RandomForestClassifier\n",
    "from sklearn.metrics import accuracy_score\n",
    "\n",
    "import xgboost as xgb\n",
    "\n",
    "from collections import Counter\n",
    "from datetime import datetime\n",
    "\n",
    "%run ../predict_voting_outcomes/data_preparation.py\n",
    "%run ../predict_voting_outcomes/feature_preprocessing.py\n",
    "\n",
    "np.random.seed(2016) # set seed"
   ]
  },
  {
   "cell_type": "code",
   "execution_count": 2,
   "metadata": {
    "collapsed": false
   },
   "outputs": [],
   "source": [
    "train = pd.read_csv('../data/train2016.csv')\n",
    "test  = pd.read_csv('../data/test2016.csv')\n",
    "sub   = pd.read_csv('../data/sampleSubmission2016.csv')"
   ]
  },
  {
   "cell_type": "code",
   "execution_count": 3,
   "metadata": {
    "collapsed": true
   },
   "outputs": [],
   "source": [
    "# concat training and test data\n",
    "data = pd.concat((train, test))"
   ]
  },
  {
   "cell_type": "code",
   "execution_count": 4,
   "metadata": {
    "collapsed": false
   },
   "outputs": [],
   "source": [
    "# feature engineering\n",
    "def engineer_features(data):\n",
    "    data = missing_value_features(data)\n",
    "    data['Age'] = data.YOB.map(create_age)\n",
    "    data['Age_Mapping'] = data.Age.map(create_age_mapping)\n",
    "    \n",
    "    return data\n",
    "\n",
    "data = engineer_features(data)\n",
    "data = remove_outliers(data)\n",
    "\n",
    "features = data.columns.drop(['USER_ID'])\n",
    "\n",
    "data = fill_missing_values(data[features])\n",
    "data = encode_cat_features(data[features])"
   ]
  },
  {
   "cell_type": "code",
   "execution_count": 5,
   "metadata": {
    "collapsed": true
   },
   "outputs": [],
   "source": [
    "# consider only this feature age mapping and see if it is of any importance\n",
    "mask = (data.Party.notnull())\n",
    "\n",
    "X = data.loc[mask, features.drop('Party')]\n",
    "y = (data[mask].Party == 'Democrat').astype(int)\n",
    "\n",
    "Xtest = data.loc[~mask, features.drop('Party')]"
   ]
  },
  {
   "cell_type": "markdown",
   "metadata": {},
   "source": [
    "** Only include discrete variables for now **"
   ]
  },
  {
   "cell_type": "code",
   "execution_count": 102,
   "metadata": {
    "collapsed": true
   },
   "outputs": [],
   "source": [
    "X     = X.select_dtypes(include=['int64'])\n",
    "Xtest = Xtest.select_dtypes(include=['int64'])"
   ]
  },
  {
   "cell_type": "markdown",
   "metadata": {},
   "source": [
    "** Split into training and test splits **"
   ]
  },
  {
   "cell_type": "code",
   "execution_count": 103,
   "metadata": {
    "collapsed": true
   },
   "outputs": [],
   "source": [
    "Xtr, Xte, ytr, yte = train_test_split(X, y, stratify=y, test_size=0.2, random_state=12386)"
   ]
  },
  {
   "cell_type": "markdown",
   "metadata": {},
   "source": [
    "** Feature Selection **"
   ]
  },
  {
   "cell_type": "code",
   "execution_count": 180,
   "metadata": {
    "collapsed": false
   },
   "outputs": [],
   "source": [
    "feature_indices = CMIM.cmim(Xtr.values, ytr.values, n_selected_features=25)\n",
    "selected_features = X.columns[feature_indices]"
   ]
  },
  {
   "cell_type": "code",
   "execution_count": 154,
   "metadata": {
    "collapsed": true
   },
   "outputs": [
    {
     "ename": "NameError",
     "evalue": "name 'est' is not defined",
     "output_type": "error",
     "traceback": [
      "\u001b[0;31m---------------------------------------------------------------------------\u001b[0m",
      "\u001b[0;31mNameError\u001b[0m                                 Traceback (most recent call last)",
      "\u001b[0;32m<ipython-input-154-9a96c1d96891>\u001b[0m in \u001b[0;36m<module>\u001b[0;34m()\u001b[0m\n\u001b[1;32m      2\u001b[0m \u001b[0mskf\u001b[0m \u001b[0;34m=\u001b[0m \u001b[0mStratifiedKFold\u001b[0m\u001b[0;34m(\u001b[0m\u001b[0mytr\u001b[0m\u001b[0;34m,\u001b[0m \u001b[0mn_folds\u001b[0m\u001b[0;34m=\u001b[0m\u001b[0;36m5\u001b[0m\u001b[0;34m,\u001b[0m \u001b[0mrandom_state\u001b[0m\u001b[0;34m=\u001b[0m\u001b[0;36m123\u001b[0m\u001b[0;34m)\u001b[0m\u001b[0;34m\u001b[0m\u001b[0m\n\u001b[1;32m      3\u001b[0m \u001b[0;34m\u001b[0m\u001b[0m\n\u001b[0;32m----> 4\u001b[0;31m \u001b[0mcv_scores\u001b[0m \u001b[0;34m=\u001b[0m \u001b[0mcross_val_score\u001b[0m\u001b[0;34m(\u001b[0m\u001b[0mest\u001b[0m\u001b[0;34m,\u001b[0m \u001b[0mXtr\u001b[0m\u001b[0;34m[\u001b[0m\u001b[0mselected_features\u001b[0m\u001b[0;34m]\u001b[0m\u001b[0;34m,\u001b[0m \u001b[0mytr\u001b[0m\u001b[0;34m,\u001b[0m \u001b[0mscoring\u001b[0m\u001b[0;34m=\u001b[0m\u001b[0;34m'accuracy'\u001b[0m\u001b[0;34m,\u001b[0m \u001b[0mcv\u001b[0m\u001b[0;34m=\u001b[0m\u001b[0mskf\u001b[0m\u001b[0;34m,\u001b[0m \u001b[0mn_jobs\u001b[0m\u001b[0;34m=\u001b[0m\u001b[0;34m-\u001b[0m\u001b[0;36m1\u001b[0m\u001b[0;34m)\u001b[0m\u001b[0;34m\u001b[0m\u001b[0m\n\u001b[0m",
      "\u001b[0;31mNameError\u001b[0m: name 'est' is not defined"
     ]
    }
   ],
   "source": [
    "# est = RandomForestClassifier(n_estimators=200, max_depth=10, random_state=1231)\n",
    "skf = StratifiedKFold(ytr, n_folds=5, random_state=123)\n",
    "\n",
    "cv_scores = cross_val_score(est, Xtr[selected_features], ytr, scoring='accuracy', cv=skf, n_jobs=-1)"
   ]
  },
  {
   "cell_type": "code",
   "execution_count": 89,
   "metadata": {
    "collapsed": true
   },
   "outputs": [
    {
     "ename": "NameError",
     "evalue": "name 'cv_scores' is not defined",
     "output_type": "error",
     "traceback": [
      "\u001b[0;31m---------------------------------------------------------------------------\u001b[0m",
      "\u001b[0;31mNameError\u001b[0m                                 Traceback (most recent call last)",
      "\u001b[0;32m<ipython-input-89-ddea60221ed0>\u001b[0m in \u001b[0;36m<module>\u001b[0;34m()\u001b[0m\n\u001b[0;32m----> 1\u001b[0;31m \u001b[0mprint\u001b[0m\u001b[0;34m(\u001b[0m\u001b[0;34m'Mean cv-score: %f and std: %f'\u001b[0m\u001b[0;34m%\u001b[0m\u001b[0;34m(\u001b[0m\u001b[0mnp\u001b[0m\u001b[0;34m.\u001b[0m\u001b[0mmean\u001b[0m\u001b[0;34m(\u001b[0m\u001b[0mcv_scores\u001b[0m\u001b[0;34m)\u001b[0m\u001b[0;34m,\u001b[0m \u001b[0mnp\u001b[0m\u001b[0;34m.\u001b[0m\u001b[0mstd\u001b[0m\u001b[0;34m(\u001b[0m\u001b[0mcv_scores\u001b[0m\u001b[0;34m)\u001b[0m\u001b[0;34m)\u001b[0m\u001b[0;34m)\u001b[0m\u001b[0;34m\u001b[0m\u001b[0m\n\u001b[0m",
      "\u001b[0;31mNameError\u001b[0m: name 'cv_scores' is not defined"
     ]
    }
   ],
   "source": [
    "print('Mean cv-score: %f and std: %f'%(np.mean(cv_scores), np.std(cv_scores)))"
   ]
  },
  {
   "cell_type": "code",
   "execution_count": 132,
   "metadata": {
    "collapsed": false
   },
   "outputs": [
    {
     "name": "stdout",
     "output_type": "stream",
     "text": [
      "Accuracy on held out set: 0.636866\n"
     ]
    }
   ],
   "source": [
    "est.fit(Xtr[selected_features], ytr)\n",
    "yhat = est.predict(Xte[selected_features])\n",
    "print('Accuracy on held out set: %f'%(accuracy_score(yte, yhat)))"
   ]
  },
  {
   "cell_type": "markdown",
   "metadata": {},
   "source": [
    "** XGBClassifier **"
   ]
  },
  {
   "cell_type": "code",
   "execution_count": 185,
   "metadata": {
    "collapsed": true
   },
   "outputs": [],
   "source": [
    "model = xgb.XGBClassifier(max_depth=4, learning_rate=0.08, min_child_weight=1, \\\n",
    "                          n_estimators=1000, colsample_bytree=0.8, subsample=0.8, seed=231)"
   ]
  },
  {
   "cell_type": "code",
   "execution_count": 186,
   "metadata": {
    "collapsed": false
   },
   "outputs": [
    {
     "name": "stdout",
     "output_type": "stream",
     "text": [
      "CPU times: user 804 ms, sys: 0 ns, total: 804 ms\n",
      "Wall time: 222 ms\n"
     ]
    },
    {
     "data": {
      "text/plain": [
       "XGBClassifier(base_score=0.5, colsample_bylevel=1, colsample_bytree=0.8,\n",
       "       gamma=0, learning_rate=0.08, max_delta_step=0, max_depth=4,\n",
       "       min_child_weight=1, missing=None, n_estimators=1000, nthread=-1,\n",
       "       objective='binary:logistic', reg_alpha=0, reg_lambda=1,\n",
       "       scale_pos_weight=1, seed=231, silent=True, subsample=0.8)"
      ]
     },
     "execution_count": 186,
     "metadata": {},
     "output_type": "execute_result"
    }
   ],
   "source": [
    "%%time \n",
    "\n",
    "model.fit(\n",
    "    Xtr[selected_features].values, \n",
    "    ytr.values, \n",
    "    eval_set = [(Xte[selected_features].values, yte.values)], \n",
    "    early_stopping_rounds = 50,\n",
    "    verbose = False\n",
    ")"
   ]
  },
  {
   "cell_type": "code",
   "execution_count": 187,
   "metadata": {
    "collapsed": false
   },
   "outputs": [
    {
     "data": {
      "text/plain": [
       "0.63317972350230411"
      ]
     },
     "execution_count": 187,
     "metadata": {},
     "output_type": "execute_result"
    }
   ],
   "source": [
    "p = model.predict(Xte[selected_features].values)\n",
    "score = accuracy_score(yte, p)\n",
    "score"
   ]
  },
  {
   "cell_type": "code",
   "execution_count": 188,
   "metadata": {
    "collapsed": false
   },
   "outputs": [
    {
     "data": {
      "text/plain": [
       "77.77777777777777"
      ]
     },
     "execution_count": 188,
     "metadata": {},
     "output_type": "execute_result"
    }
   ],
   "source": [
    "model.best_iteration / 0.9"
   ]
  },
  {
   "cell_type": "markdown",
   "metadata": {},
   "source": [
    "** Bagging Different Classifiers **"
   ]
  },
  {
   "cell_type": "code",
   "execution_count": 166,
   "metadata": {
    "collapsed": true
   },
   "outputs": [],
   "source": [
    "class BaggingClassifier:\n",
    "    \n",
    "    @staticmethod\n",
    "    def majority_vote(preds):\n",
    "        \"\"\"\n",
    "        Given an array of predictions from various classifiers\n",
    "        return single array with ensemble of predictions based on\n",
    "        simple majority voting\n",
    "\n",
    "        Input: list of list [[y1, y2, y3, ..], [y1, y2, y3, ...], ..] \n",
    "        Output: final prediction [y1, y2, y3, ..]\n",
    "        \"\"\"\n",
    "        length = [len(pred) for pred in preds]\n",
    "\n",
    "        if len(set(length)) != 1:\n",
    "            raise ValueError('Predictions must be of the same length')\n",
    "\n",
    "        pred_matrix = np.matrix(preds)\n",
    "        ensemble_preds = []\n",
    "\n",
    "        for i in range(len(preds[0])):\n",
    "            pred_column = np.array(pred_matrix[:, i]).ravel()\n",
    "            common_pred = Counter(pred_column)\n",
    "            most_common = common_pred.most_common()[0][0]\n",
    "\n",
    "            ensemble_preds.append(most_common)\n",
    "\n",
    "        return ensemble_preds\n",
    "    \n",
    "    def __init__(self, estimators, voting='hard'):\n",
    "        \"\"\"\n",
    "        Estimators will be a list of tuples of (n_selected_features, estimator)\n",
    "        \"\"\"\n",
    "        \n",
    "        self.estimators = estimators\n",
    "        self.fitted_models = []\n",
    "        \n",
    "    def fit(self, X, y=None):\n",
    "        \n",
    "        for n_selected_features, model in self.estimators:\n",
    "            feature_indices = CMIM.cmim(X.values, y.values, n_selected_features=n_selected_features)\n",
    "            selected_features = X.columns[feature_indices]\n",
    "            model.fit(X[selected_features], y)    \n",
    "            self.fitted_models.append((selected_features, model))\n",
    "            \n",
    "        return self\n",
    "    \n",
    "    def predict(self, X):\n",
    "        preds = []\n",
    "        for selected_features, model in self.fitted_models:\n",
    "            yhat = model.predict(X[selected_features])\n",
    "            preds.append(yhat)\n",
    "        \n",
    "        final_preds = self.majority_vote(preds)\n",
    "        return final_preds"
   ]
  },
  {
   "cell_type": "code",
   "execution_count": 189,
   "metadata": {
    "collapsed": true
   },
   "outputs": [],
   "source": [
    "pipe1 = (15, xgb.XGBClassifier(max_depth=3, learning_rate=0.08, min_child_weight=1, \\\n",
    "                          n_estimators=150, colsample_bytree=0.8, subsample=0.8, seed=231))\n",
    "pipe2 = (15, xgb.XGBClassifier(max_depth=4, learning_rate=0.08, min_child_weight=1, \\\n",
    "                          n_estimators=120, colsample_bytree=0.8, subsample=0.8, seed=1231))\n",
    "pipe3 = (25, xgb.XGBClassifier(max_depth=3, learning_rate=0.08, min_child_weight=1, \\\n",
    "                          n_estimators=53, colsample_bytree=0.8, subsample=0.8, seed=2231))\n",
    "pipe4 = (25, xgb.XGBClassifier(max_depth=4, learning_rate=0.08, min_child_weight=1, \\\n",
    "                          n_estimators=78, colsample_bytree=0.8, subsample=0.8, seed=233331))\n",
    "\n",
    "estimators = [pipe1, pipe2, pipe3, pipe4]"
   ]
  },
  {
   "cell_type": "code",
   "execution_count": 190,
   "metadata": {
    "collapsed": false
   },
   "outputs": [
    {
     "data": {
      "text/plain": [
       "<__main__.BaggingClassifier at 0x7fcb9b4c3c50>"
      ]
     },
     "execution_count": 190,
     "metadata": {},
     "output_type": "execute_result"
    }
   ],
   "source": [
    "bag = BaggingClassifier(estimators)\n",
    "bag.fit(Xtr, ytr)"
   ]
  },
  {
   "cell_type": "code",
   "execution_count": 191,
   "metadata": {
    "collapsed": false
   },
   "outputs": [
    {
     "name": "stdout",
     "output_type": "stream",
     "text": [
      "Accuracy on the held out set:0.646083 \n"
     ]
    }
   ],
   "source": [
    "yhat = bag.predict(Xte)\n",
    "print('Accuracy on the held out set:%f '%(accuracy_score(yte, yhat)))"
   ]
  },
  {
   "cell_type": "markdown",
   "metadata": {
    "collapsed": true
   },
   "source": [
    "** Full Training **"
   ]
  },
  {
   "cell_type": "code",
   "execution_count": null,
   "metadata": {
    "collapsed": true
   },
   "outputs": [],
   "source": [
    "bag = BaggingClassifier(estimators)\n",
    "bag.fit(X, y)\n",
    "predictions = bag.predict(Xtest)"
   ]
  },
  {
   "cell_type": "code",
   "execution_count": null,
   "metadata": {
    "collapsed": true
   },
   "outputs": [],
   "source": [
    "est.fit(X[selected_features], y)\n",
    "predictions = est.predict(Xtest[selected_features])"
   ]
  },
  {
   "cell_type": "code",
   "execution_count": 171,
   "metadata": {
    "collapsed": false
   },
   "outputs": [],
   "source": [
    "prediction_labels = map(lambda x: 'Democrat' if x == 1 else 'Republican', predictions)\n",
    "sub['Predictions'] = list(prediction_labels)\n",
    "timestamp = str(datetime.now()).replace(' ', '_')\n",
    "sub.to_csv('../submissions/bag_xgbs%s.csv'%(timestamp), index=False)"
   ]
  },
  {
   "cell_type": "code",
   "execution_count": null,
   "metadata": {
    "collapsed": true
   },
   "outputs": [],
   "source": []
  }
 ],
 "metadata": {
  "anaconda-cloud": {},
  "kernelspec": {
   "display_name": "Python [Root]",
   "language": "python",
   "name": "Python [Root]"
  },
  "language_info": {
   "codemirror_mode": {
    "name": "ipython",
    "version": 3
   },
   "file_extension": ".py",
   "mimetype": "text/x-python",
   "name": "python",
   "nbconvert_exporter": "python",
   "pygments_lexer": "ipython3",
   "version": "3.5.2"
  }
 },
 "nbformat": 4,
 "nbformat_minor": 0
}
