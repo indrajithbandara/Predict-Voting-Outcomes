{
 "cells": [
  {
   "cell_type": "code",
   "execution_count": 1,
   "metadata": {
    "collapsed": true
   },
   "outputs": [],
   "source": [
    "%matplotlib inline\n",
    "\n",
    "import pandas as pd\n",
    "import numpy as np\n",
    "import scipy as sp\n",
    "\n",
    "import matplotlib.pyplot as plt\n",
    "import seaborn as sns\n",
    "\n",
    "from sklearn.cross_validation import KFold, train_test_split, cross_val_score, StratifiedKFold\n",
    "from sklearn.metrics import accuracy_score\n",
    "from sklearn.preprocessing import LabelEncoder, Imputer\n",
    "from sklearn.linear_model import LogisticRegression\n",
    "from sklearn.ensemble import RandomForestClassifier, ExtraTreesClassifier\n",
    "\n",
    "import xgboost as xgb\n",
    "\n",
    "sns.set_context('poster')\n",
    "sns.set_style('whitegrid')\n",
    "\n",
    "np.random.seed(2016)"
   ]
  },
  {
   "cell_type": "code",
   "execution_count": 2,
   "metadata": {
    "collapsed": false
   },
   "outputs": [],
   "source": [
    "# load files\n",
    "train = pd.read_csv('../data/train2016.csv')\n",
    "test  = pd.read_csv('../data/test2016.csv')\n",
    "sub   = pd.read_csv('../data/sampleSubmission2016.csv')"
   ]
  },
  {
   "cell_type": "code",
   "execution_count": 3,
   "metadata": {
    "collapsed": false
   },
   "outputs": [
    {
     "name": "stdout",
     "output_type": "stream",
     "text": [
      "Class Balance\n",
      "  Democrat      2951\n",
      "Republican    2617\n",
      "Name: Party, dtype: int64\n"
     ]
    }
   ],
   "source": [
    "# class balance\n",
    "print('Class Balance\\n ', train.Party.value_counts())"
   ]
  },
  {
   "cell_type": "code",
   "execution_count": 4,
   "metadata": {
    "collapsed": false
   },
   "outputs": [
    {
     "name": "stdout",
     "output_type": "stream",
     "text": [
      "Missing values in training set :\n",
      " 106\n"
     ]
    }
   ],
   "source": [
    "# missing values\n",
    "print('Missing values in training set :\\n', train.isnull().any().sum())"
   ]
  },
  {
   "cell_type": "code",
   "execution_count": 5,
   "metadata": {
    "collapsed": false
   },
   "outputs": [
    {
     "name": "stdout",
     "output_type": "stream",
     "text": [
      "Missing values in test set: \n",
      " 106\n"
     ]
    }
   ],
   "source": [
    "print('Missing values in test set: \\n', test.isnull().any().sum())"
   ]
  },
  {
   "cell_type": "markdown",
   "metadata": {},
   "source": [
    "** Since there are lot of missing values in the data, we can carry out an analysis to see what are the different kind of missing values. **"
   ]
  },
  {
   "cell_type": "markdown",
   "metadata": {},
   "source": [
    "** Most of the features captured are categorical in nature **"
   ]
  },
  {
   "cell_type": "code",
   "execution_count": 6,
   "metadata": {
    "collapsed": true
   },
   "outputs": [],
   "source": [
    "def print_unique_values(data):\n",
    "    categorical_features = data.select_dtypes(include=['object']).columns\n",
    "    \n",
    "    for cat in categorical_features:\n",
    "        print('Number of unique values for feature: %s are: %d'%(cat, data[cat].nunique()))\n",
    "        \n",
    "        if data[cat].nunique() < 10:\n",
    "            print(data[cat].unique())\n",
    "        else:\n",
    "            print(data[cat].unique()[:10] + '...')\n",
    "        \n",
    "        print('-'*75)\n",
    "        print('\\n')"
   ]
  },
  {
   "cell_type": "markdown",
   "metadata": {},
   "source": [
    "** As we can see most of the questions have _yes_ / _no_ answers, we can fill missing values appropriately. **"
   ]
  },
  {
   "cell_type": "code",
   "execution_count": 7,
   "metadata": {
    "collapsed": true
   },
   "outputs": [],
   "source": [
    "# Methods to get training and test dataset from concatenated data\n",
    "\n",
    "def get_training_dataset(data):\n",
    "    mask = data.Party.notnull()\n",
    "    return data[mask]\n",
    "\n",
    "def get_test_dataset(data):\n",
    "    mask = data.Party.isnull()\n",
    "    return data[mask]"
   ]
  },
  {
   "cell_type": "markdown",
   "metadata": {},
   "source": [
    "** Relationship between different variables **"
   ]
  },
  {
   "cell_type": "markdown",
   "metadata": {},
   "source": [
    "```\n",
    "Checking if two categorical variables are independent can be done with Chi-Squared test of independence.\n",
    "\n",
    "This is a typical Chi-Square test: \n",
    "\n",
    "If we assume that two variables are independent, then the values of the contingency table for these variables should be distributed uniformly. And then we check how far away from uniform the actual values are.\n",
    "```"
   ]
  },
  {
   "cell_type": "markdown",
   "metadata": {},
   "source": [
    "```\n",
    "Let's apply this rule to find out if gender and party are independent or not.\n",
    "\n",
    "Null Hypothesis: They are independent\n",
    "Under this hypothesis, we assume their distribution to be uniform.\n",
    "\n",
    "```"
   ]
  },
  {
   "cell_type": "code",
   "execution_count": 8,
   "metadata": {
    "collapsed": false
   },
   "outputs": [
    {
     "data": {
      "text/html": [
       "<div>\n",
       "<table border=\"1\" class=\"dataframe\">\n",
       "  <thead>\n",
       "    <tr style=\"text-align: right;\">\n",
       "      <th>Gender</th>\n",
       "      <th>Female</th>\n",
       "      <th>Male</th>\n",
       "      <th>All</th>\n",
       "    </tr>\n",
       "    <tr>\n",
       "      <th>Party</th>\n",
       "      <th></th>\n",
       "      <th></th>\n",
       "      <th></th>\n",
       "    </tr>\n",
       "  </thead>\n",
       "  <tbody>\n",
       "    <tr>\n",
       "      <th>Democrat</th>\n",
       "      <td>1275</td>\n",
       "      <td>1613</td>\n",
       "      <td>2888</td>\n",
       "    </tr>\n",
       "    <tr>\n",
       "      <th>Republican</th>\n",
       "      <td>855</td>\n",
       "      <td>1712</td>\n",
       "      <td>2567</td>\n",
       "    </tr>\n",
       "    <tr>\n",
       "      <th>All</th>\n",
       "      <td>2130</td>\n",
       "      <td>3325</td>\n",
       "      <td>5455</td>\n",
       "    </tr>\n",
       "  </tbody>\n",
       "</table>\n",
       "</div>"
      ],
      "text/plain": [
       "Gender      Female  Male   All\n",
       "Party                         \n",
       "Democrat      1275  1613  2888\n",
       "Republican     855  1712  2567\n",
       "All           2130  3325  5455"
      ]
     },
     "execution_count": 8,
     "metadata": {},
     "output_type": "execute_result"
    }
   ],
   "source": [
    "pd.crosstab(train.Party, train.Gender, margins=True)"
   ]
  },
  {
   "cell_type": "code",
   "execution_count": 9,
   "metadata": {
    "collapsed": false
   },
   "outputs": [
    {
     "data": {
      "text/html": [
       "<div>\n",
       "<table border=\"1\" class=\"dataframe\">\n",
       "  <thead>\n",
       "    <tr style=\"text-align: right;\">\n",
       "      <th>Gender</th>\n",
       "      <th>Female</th>\n",
       "      <th>Male</th>\n",
       "      <th>All</th>\n",
       "    </tr>\n",
       "    <tr>\n",
       "      <th>Party</th>\n",
       "      <th></th>\n",
       "      <th></th>\n",
       "      <th></th>\n",
       "    </tr>\n",
       "  </thead>\n",
       "  <tbody>\n",
       "    <tr>\n",
       "      <th>Democrat</th>\n",
       "      <td>0.233731</td>\n",
       "      <td>0.295692</td>\n",
       "      <td>0.529423</td>\n",
       "    </tr>\n",
       "    <tr>\n",
       "      <th>Republican</th>\n",
       "      <td>0.156737</td>\n",
       "      <td>0.313841</td>\n",
       "      <td>0.470577</td>\n",
       "    </tr>\n",
       "    <tr>\n",
       "      <th>All</th>\n",
       "      <td>0.390467</td>\n",
       "      <td>0.609533</td>\n",
       "      <td>1.000000</td>\n",
       "    </tr>\n",
       "  </tbody>\n",
       "</table>\n",
       "</div>"
      ],
      "text/plain": [
       "Gender        Female      Male       All\n",
       "Party                                   \n",
       "Democrat    0.233731  0.295692  0.529423\n",
       "Republican  0.156737  0.313841  0.470577\n",
       "All         0.390467  0.609533  1.000000"
      ]
     },
     "execution_count": 9,
     "metadata": {},
     "output_type": "execute_result"
    }
   ],
   "source": [
    "pd.crosstab(train.Party, train.Gender, margins=True, normalize=True)"
   ]
  },
  {
   "cell_type": "code",
   "execution_count": 10,
   "metadata": {
    "collapsed": true
   },
   "outputs": [],
   "source": [
    "cont_table = pd.crosstab(train.Party, train.Gender) \n",
    "chi_2, p, dof, expected = sp.stats.chi2_contingency(cont_table.values, correction=False)"
   ]
  },
  {
   "cell_type": "code",
   "execution_count": 11,
   "metadata": {
    "collapsed": false
   },
   "outputs": [
    {
     "name": "stdout",
     "output_type": "stream",
     "text": [
      "P-value  2.57076096692e-16\n"
     ]
    }
   ],
   "source": [
    "print('P-value ', p)"
   ]
  },
  {
   "cell_type": "markdown",
   "metadata": {},
   "source": [
    "`P-value is very close to zero which is enough to discard the hypothesis of independence.`"
   ]
  },
  {
   "cell_type": "markdown",
   "metadata": {},
   "source": [
    "** Compute Cramer's V**"
   ]
  },
  {
   "cell_type": "code",
   "execution_count": 12,
   "metadata": {
    "collapsed": false
   },
   "outputs": [
    {
     "data": {
      "text/plain": [
       "4.0959636065625222"
      ]
     },
     "execution_count": 12,
     "metadata": {},
     "output_type": "execute_result"
    }
   ],
   "source": [
    "np.sqrt(chi_2 / (len(cont_table) * min(cont_table.shape[0], cont_table.shape[1])))"
   ]
  },
  {
   "cell_type": "markdown",
   "metadata": {},
   "source": [
    "` Lower this value, lower the correlation `"
   ]
  },
  {
   "cell_type": "markdown",
   "metadata": {},
   "source": [
    "** We can say that gender and party are not independent variables. **"
   ]
  },
  {
   "cell_type": "markdown",
   "metadata": {},
   "source": [
    "** We can perform this type of for all of the categorical variables with the target variable to see whether we can any pair of features that are independent and should not be included in the modelling process as it would add noise to the model. **"
   ]
  },
  {
   "cell_type": "code",
   "execution_count": 13,
   "metadata": {
    "collapsed": true
   },
   "outputs": [],
   "source": [
    "def chi_square_test(df, target, candidate_features):\n",
    "    test_summary = {}\n",
    "    \n",
    "    for feat in candidate_features:\n",
    "        test_summary[(target, feat)] = []\n",
    "        \n",
    "        cont_table = pd.crosstab(df[target], df[feat])\n",
    "        chi2_statistic, p_val, dof, expected = sp.stats.chi2_contingency(cont_table.values, correction=False)\n",
    "        print('P-value for the pair (%s, %s): %f'%(target, feat, p_val))\n",
    "        \n",
    "        test_summary[(target, feat)].append(p_val)\n",
    "        \n",
    "        cramer_v = np.sqrt(chi2_statistic / (len(cont_table) * min(cont_table.shape[0], cont_table.shape[1])))\n",
    "        print('Cramer-V value for pair (%s, %s): %f'%(target, feat, cramer_v))\n",
    "        \n",
    "        test_summary[(target, feat)].append(cramer_v)\n",
    "        print('-'*75)\n",
    "        print('\\n')\n",
    "        \n",
    "    return test_summary"
   ]
  },
  {
   "cell_type": "code",
   "execution_count": 14,
   "metadata": {
    "collapsed": false
   },
   "outputs": [],
   "source": [
    "def get_candidate_features(df):\n",
    "    columns = df.select_dtypes(include=['object']).columns\n",
    "    return columns.drop('Party')\n",
    "\n",
    "def get_question_features(columns):\n",
    "    return [col for col in columns if 'Q' in col]"
   ]
  },
  {
   "cell_type": "code",
   "execution_count": 15,
   "metadata": {
    "collapsed": true
   },
   "outputs": [],
   "source": [
    "# candidate_features = get_candidate_features(train)\n",
    "question_features  = get_question_features(train.columns)"
   ]
  },
  {
   "cell_type": "code",
   "execution_count": 16,
   "metadata": {
    "collapsed": false
   },
   "outputs": [
    {
     "name": "stdout",
     "output_type": "stream",
     "text": [
      "P-value for the pair (Party, Q124742): 0.350376\n",
      "Cramer-V value for pair (Party, Q124742): 0.466930\n",
      "---------------------------------------------------------------------------\n",
      "\n",
      "\n",
      "P-value for the pair (Party, Q124122): 0.013485\n",
      "Cramer-V value for pair (Party, Q124122): 1.235344\n",
      "---------------------------------------------------------------------------\n",
      "\n",
      "\n",
      "P-value for the pair (Party, Q123464): 0.390514\n",
      "Cramer-V value for pair (Party, Q123464): 0.429343\n",
      "---------------------------------------------------------------------------\n",
      "\n",
      "\n",
      "P-value for the pair (Party, Q123621): 0.070347\n",
      "Cramer-V value for pair (Party, Q123621): 0.904835\n",
      "---------------------------------------------------------------------------\n",
      "\n",
      "\n",
      "P-value for the pair (Party, Q122769): 0.373139\n",
      "Cramer-V value for pair (Party, Q122769): 0.445305\n",
      "---------------------------------------------------------------------------\n",
      "\n",
      "\n",
      "P-value for the pair (Party, Q122770): 0.343706\n",
      "Cramer-V value for pair (Party, Q122770): 0.473434\n",
      "---------------------------------------------------------------------------\n",
      "\n",
      "\n",
      "P-value for the pair (Party, Q122771): 0.005249\n",
      "Cramer-V value for pair (Party, Q122771): 1.395679\n",
      "---------------------------------------------------------------------------\n",
      "\n",
      "\n",
      "P-value for the pair (Party, Q122120): 0.229362\n",
      "Cramer-V value for pair (Party, Q122120): 0.601002\n",
      "---------------------------------------------------------------------------\n",
      "\n",
      "\n",
      "P-value for the pair (Party, Q121699): 0.000093\n",
      "Cramer-V value for pair (Party, Q121699): 1.954367\n",
      "---------------------------------------------------------------------------\n",
      "\n",
      "\n",
      "P-value for the pair (Party, Q121700): 0.019443\n",
      "Cramer-V value for pair (Party, Q121700): 1.168465\n",
      "---------------------------------------------------------------------------\n",
      "\n",
      "\n",
      "P-value for the pair (Party, Q120978): 0.236572\n",
      "Cramer-V value for pair (Party, Q120978): 0.591799\n",
      "---------------------------------------------------------------------------\n",
      "\n",
      "\n",
      "P-value for the pair (Party, Q121011): 0.042825\n",
      "Cramer-V value for pair (Party, Q121011): 1.012707\n",
      "---------------------------------------------------------------------------\n",
      "\n",
      "\n",
      "P-value for the pair (Party, Q120379): 0.000002\n",
      "Cramer-V value for pair (Party, Q120379): 2.379411\n",
      "---------------------------------------------------------------------------\n",
      "\n",
      "\n",
      "P-value for the pair (Party, Q120650): 0.082415\n",
      "Cramer-V value for pair (Party, Q120650): 0.868422\n",
      "---------------------------------------------------------------------------\n",
      "\n",
      "\n",
      "P-value for the pair (Party, Q120472): 0.000019\n",
      "Cramer-V value for pair (Party, Q120472): 2.138539\n",
      "---------------------------------------------------------------------------\n",
      "\n",
      "\n",
      "P-value for the pair (Party, Q120194): 0.034025\n",
      "Cramer-V value for pair (Party, Q120194): 1.059887\n",
      "---------------------------------------------------------------------------\n",
      "\n",
      "\n",
      "P-value for the pair (Party, Q120012): 0.007747\n",
      "Cramer-V value for pair (Party, Q120012): 1.331453\n",
      "---------------------------------------------------------------------------\n",
      "\n",
      "\n",
      "P-value for the pair (Party, Q120014): 0.008626\n",
      "Cramer-V value for pair (Party, Q120014): 1.313257\n",
      "---------------------------------------------------------------------------\n",
      "\n",
      "\n",
      "P-value for the pair (Party, Q119334): 0.728696\n",
      "Cramer-V value for pair (Party, Q119334): 0.173430\n",
      "---------------------------------------------------------------------------\n",
      "\n",
      "\n",
      "P-value for the pair (Party, Q119851): 0.000163\n",
      "Cramer-V value for pair (Party, Q119851): 1.885159\n",
      "---------------------------------------------------------------------------\n",
      "\n",
      "\n",
      "P-value for the pair (Party, Q119650): 0.265552\n",
      "Cramer-V value for pair (Party, Q119650): 0.556682\n",
      "---------------------------------------------------------------------------\n",
      "\n",
      "\n",
      "P-value for the pair (Party, Q118892): 0.003864\n",
      "Cramer-V value for pair (Party, Q118892): 1.444541\n",
      "---------------------------------------------------------------------------\n",
      "\n",
      "\n",
      "P-value for the pair (Party, Q118117): 0.139587\n",
      "Cramer-V value for pair (Party, Q118117): 0.738665\n",
      "---------------------------------------------------------------------------\n",
      "\n",
      "\n",
      "P-value for the pair (Party, Q118232): 0.006195\n",
      "Cramer-V value for pair (Party, Q118232): 1.368648\n",
      "---------------------------------------------------------------------------\n",
      "\n",
      "\n",
      "P-value for the pair (Party, Q118233): 0.579199\n",
      "Cramer-V value for pair (Party, Q118233): 0.277277\n",
      "---------------------------------------------------------------------------\n",
      "\n",
      "\n",
      "P-value for the pair (Party, Q118237): 0.103023\n",
      "Cramer-V value for pair (Party, Q118237): 0.815186\n",
      "---------------------------------------------------------------------------\n",
      "\n",
      "\n",
      "P-value for the pair (Party, Q117186): 0.396788\n",
      "Cramer-V value for pair (Party, Q117186): 0.423685\n",
      "---------------------------------------------------------------------------\n",
      "\n",
      "\n",
      "P-value for the pair (Party, Q117193): 0.667194\n",
      "Cramer-V value for pair (Party, Q117193): 0.215001\n",
      "---------------------------------------------------------------------------\n",
      "\n",
      "\n",
      "P-value for the pair (Party, Q116797): 0.583372\n",
      "Cramer-V value for pair (Party, Q116797): 0.274233\n",
      "---------------------------------------------------------------------------\n",
      "\n",
      "\n",
      "P-value for the pair (Party, Q116881): 0.000002\n",
      "Cramer-V value for pair (Party, Q116881): 2.402393\n",
      "---------------------------------------------------------------------------\n",
      "\n",
      "\n",
      "P-value for the pair (Party, Q116953): 0.029191\n",
      "Cramer-V value for pair (Party, Q116953): 1.090451\n",
      "---------------------------------------------------------------------------\n",
      "\n",
      "\n",
      "P-value for the pair (Party, Q116601): 0.146709\n",
      "Cramer-V value for pair (Party, Q116601): 0.725628\n",
      "---------------------------------------------------------------------------\n",
      "\n",
      "\n",
      "P-value for the pair (Party, Q116441): 0.052079\n",
      "Cramer-V value for pair (Party, Q116441): 0.971240\n",
      "---------------------------------------------------------------------------\n",
      "\n",
      "\n",
      "P-value for the pair (Party, Q116448): 0.031042\n",
      "Cramer-V value for pair (Party, Q116448): 1.078270\n",
      "---------------------------------------------------------------------------\n",
      "\n",
      "\n",
      "P-value for the pair (Party, Q116197): 0.426194\n",
      "Cramer-V value for pair (Party, Q116197): 0.397861\n",
      "---------------------------------------------------------------------------\n",
      "\n",
      "\n",
      "P-value for the pair (Party, Q115602): 0.656469\n",
      "Cramer-V value for pair (Party, Q115602): 0.222397\n",
      "---------------------------------------------------------------------------\n",
      "\n",
      "\n",
      "P-value for the pair (Party, Q115777): 0.612436\n",
      "Cramer-V value for pair (Party, Q115777): 0.253299\n",
      "---------------------------------------------------------------------------\n",
      "\n",
      "\n",
      "P-value for the pair (Party, Q115610): 0.566887\n",
      "Cramer-V value for pair (Party, Q115610): 0.286321\n",
      "---------------------------------------------------------------------------\n",
      "\n",
      "\n",
      "P-value for the pair (Party, Q115611): 0.000000\n",
      "Cramer-V value for pair (Party, Q115611): 6.241750\n",
      "---------------------------------------------------------------------------\n",
      "\n",
      "\n",
      "P-value for the pair (Party, Q115899): 0.000032\n",
      "Cramer-V value for pair (Party, Q115899): 2.077682\n",
      "---------------------------------------------------------------------------\n",
      "\n",
      "\n",
      "P-value for the pair (Party, Q115390): 0.004693\n",
      "Cramer-V value for pair (Party, Q115390): 1.413704\n",
      "---------------------------------------------------------------------------\n",
      "\n",
      "\n",
      "P-value for the pair (Party, Q114961): 0.233070\n",
      "Cramer-V value for pair (Party, Q114961): 0.596244\n",
      "---------------------------------------------------------------------------\n",
      "\n",
      "\n",
      "P-value for the pair (Party, Q114748): 0.837604\n",
      "Cramer-V value for pair (Party, Q114748): 0.102479\n",
      "---------------------------------------------------------------------------\n",
      "\n",
      "\n",
      "P-value for the pair (Party, Q115195): 0.001322\n",
      "Cramer-V value for pair (Party, Q115195): 1.605551\n",
      "---------------------------------------------------------------------------\n",
      "\n",
      "\n",
      "P-value for the pair (Party, Q114517): 0.796547\n",
      "Cramer-V value for pair (Party, Q114517): 0.128910\n",
      "---------------------------------------------------------------------------\n",
      "\n",
      "\n",
      "P-value for the pair (Party, Q114386): 0.182949\n",
      "Cramer-V value for pair (Party, Q114386): 0.665865\n",
      "---------------------------------------------------------------------------\n",
      "\n",
      "\n",
      "P-value for the pair (Party, Q113992): 0.930766\n",
      "Cramer-V value for pair (Party, Q113992): 0.043441\n",
      "---------------------------------------------------------------------------\n",
      "\n",
      "\n",
      "P-value for the pair (Party, Q114152): 0.074239\n",
      "Cramer-V value for pair (Party, Q114152): 0.892568\n",
      "---------------------------------------------------------------------------\n",
      "\n",
      "\n",
      "P-value for the pair (Party, Q113583): 0.008422\n",
      "Cramer-V value for pair (Party, Q113583): 1.317332\n",
      "---------------------------------------------------------------------------\n",
      "\n",
      "\n",
      "P-value for the pair (Party, Q113584): 0.857335\n",
      "Cramer-V value for pair (Party, Q113584): 0.089884\n",
      "---------------------------------------------------------------------------\n",
      "\n",
      "\n",
      "P-value for the pair (Party, Q113181): 0.000000\n",
      "Cramer-V value for pair (Party, Q113181): 5.258840\n",
      "---------------------------------------------------------------------------\n",
      "\n",
      "\n",
      "P-value for the pair (Party, Q112478): 0.006309\n",
      "Cramer-V value for pair (Party, Q112478): 1.365642\n",
      "---------------------------------------------------------------------------\n",
      "\n",
      "\n",
      "P-value for the pair (Party, Q112512): 0.706586\n",
      "Cramer-V value for pair (Party, Q112512): 0.188223\n",
      "---------------------------------------------------------------------------\n",
      "\n",
      "\n",
      "P-value for the pair (Party, Q112270): 0.046569\n",
      "Cramer-V value for pair (Party, Q112270): 0.995102\n",
      "---------------------------------------------------------------------------\n",
      "\n",
      "\n",
      "P-value for the pair (Party, Q111848): 0.030880\n",
      "Cramer-V value for pair (Party, Q111848): 1.079308\n",
      "---------------------------------------------------------------------------\n",
      "\n",
      "\n",
      "P-value for the pair (Party, Q111580): 0.505370\n",
      "Cramer-V value for pair (Party, Q111580): 0.333032\n",
      "---------------------------------------------------------------------------\n",
      "\n",
      "\n",
      "P-value for the pair (Party, Q111220): 0.055294\n",
      "Cramer-V value for pair (Party, Q111220): 0.958280\n",
      "---------------------------------------------------------------------------\n",
      "\n",
      "\n",
      "P-value for the pair (Party, Q110740): 0.000340\n",
      "Cramer-V value for pair (Party, Q110740): 1.791205\n",
      "---------------------------------------------------------------------------\n",
      "\n",
      "\n",
      "P-value for the pair (Party, Q109367): 0.113131\n",
      "Cramer-V value for pair (Party, Q109367): 0.792138\n",
      "---------------------------------------------------------------------------\n",
      "\n",
      "\n",
      "P-value for the pair (Party, Q108950): 0.554916\n",
      "Cramer-V value for pair (Party, Q108950): 0.295205\n",
      "---------------------------------------------------------------------------\n",
      "\n",
      "\n",
      "P-value for the pair (Party, Q109244): 0.000000\n",
      "Cramer-V value for pair (Party, Q109244): 9.866240\n",
      "---------------------------------------------------------------------------\n",
      "\n",
      "\n",
      "P-value for the pair (Party, Q108855): 0.017761\n",
      "Cramer-V value for pair (Party, Q108855): 1.185277\n",
      "---------------------------------------------------------------------------\n",
      "\n",
      "\n",
      "P-value for the pair (Party, Q108617): 0.056087\n",
      "Cramer-V value for pair (Party, Q108617): 0.955179\n",
      "---------------------------------------------------------------------------\n",
      "\n",
      "\n",
      "P-value for the pair (Party, Q108856): 0.189996\n",
      "Cramer-V value for pair (Party, Q108856): 0.655296\n",
      "---------------------------------------------------------------------------\n",
      "\n",
      "\n",
      "P-value for the pair (Party, Q108754): 0.613435\n",
      "Cramer-V value for pair (Party, Q108754): 0.252588\n",
      "---------------------------------------------------------------------------\n",
      "\n",
      "\n",
      "P-value for the pair (Party, Q108342): 0.004197\n",
      "Cramer-V value for pair (Party, Q108342): 1.431467\n",
      "---------------------------------------------------------------------------\n",
      "\n",
      "\n",
      "P-value for the pair (Party, Q108343): 0.685475\n",
      "Cramer-V value for pair (Party, Q108343): 0.202502\n",
      "---------------------------------------------------------------------------\n",
      "\n",
      "\n",
      "P-value for the pair (Party, Q107869): 0.005212\n",
      "Cramer-V value for pair (Party, Q107869): 1.396817\n",
      "---------------------------------------------------------------------------\n",
      "\n",
      "\n",
      "P-value for the pair (Party, Q107491): 0.071006\n",
      "Cramer-V value for pair (Party, Q107491): 0.902720\n",
      "---------------------------------------------------------------------------\n",
      "\n",
      "\n",
      "P-value for the pair (Party, Q106993): 0.286597\n",
      "Cramer-V value for pair (Party, Q106993): 0.532808\n",
      "---------------------------------------------------------------------------\n",
      "\n",
      "\n",
      "P-value for the pair (Party, Q106997): 0.127623\n",
      "Cramer-V value for pair (Party, Q106997): 0.761772\n",
      "---------------------------------------------------------------------------\n",
      "\n",
      "\n",
      "P-value for the pair (Party, Q106272): 0.000022\n",
      "Cramer-V value for pair (Party, Q106272): 2.122604\n",
      "---------------------------------------------------------------------------\n",
      "\n",
      "\n",
      "P-value for the pair (Party, Q106388): 0.022621\n",
      "Cramer-V value for pair (Party, Q106388): 1.139885\n",
      "---------------------------------------------------------------------------\n",
      "\n",
      "\n",
      "P-value for the pair (Party, Q106389): 0.043008\n",
      "Cramer-V value for pair (Party, Q106389): 1.011817\n",
      "---------------------------------------------------------------------------\n",
      "\n",
      "\n",
      "P-value for the pair (Party, Q106042): 0.000820\n",
      "Cramer-V value for pair (Party, Q106042): 1.672902\n",
      "---------------------------------------------------------------------------\n",
      "\n",
      "\n",
      "P-value for the pair (Party, Q105840): 0.000001\n",
      "Cramer-V value for pair (Party, Q105840): 2.484835\n",
      "---------------------------------------------------------------------------\n",
      "\n",
      "\n",
      "P-value for the pair (Party, Q105655): 0.359655\n",
      "Cramer-V value for pair (Party, Q105655): 0.458011\n",
      "---------------------------------------------------------------------------\n",
      "\n",
      "\n",
      "P-value for the pair (Party, Q104996): 0.081643\n",
      "Cramer-V value for pair (Party, Q104996): 0.870617\n",
      "---------------------------------------------------------------------------\n",
      "\n",
      "\n",
      "P-value for the pair (Party, Q103293): 0.184715\n",
      "Cramer-V value for pair (Party, Q103293): 0.663188\n",
      "---------------------------------------------------------------------------\n",
      "\n",
      "\n",
      "P-value for the pair (Party, Q102906): 0.285508\n",
      "Cramer-V value for pair (Party, Q102906): 0.534014\n",
      "---------------------------------------------------------------------------\n",
      "\n",
      "\n",
      "P-value for the pair (Party, Q102674): 0.293971\n",
      "Cramer-V value for pair (Party, Q102674): 0.524725\n",
      "---------------------------------------------------------------------------\n",
      "\n",
      "\n",
      "P-value for the pair (Party, Q102687): 0.492314\n",
      "Cramer-V value for pair (Party, Q102687): 0.343316\n",
      "---------------------------------------------------------------------------\n",
      "\n",
      "\n",
      "P-value for the pair (Party, Q102289): 0.127472\n",
      "Cramer-V value for pair (Party, Q102289): 0.762073\n",
      "---------------------------------------------------------------------------\n",
      "\n",
      "\n",
      "P-value for the pair (Party, Q102089): 0.000719\n",
      "Cramer-V value for pair (Party, Q102089): 1.691191\n",
      "---------------------------------------------------------------------------\n",
      "\n",
      "\n",
      "P-value for the pair (Party, Q101162): 0.450197\n",
      "Cramer-V value for pair (Party, Q101162): 0.377543\n",
      "---------------------------------------------------------------------------\n",
      "\n",
      "\n",
      "P-value for the pair (Party, Q101163): 0.000000\n",
      "Cramer-V value for pair (Party, Q101163): 3.050908\n",
      "---------------------------------------------------------------------------\n",
      "\n",
      "\n",
      "P-value for the pair (Party, Q101596): 0.002777\n",
      "Cramer-V value for pair (Party, Q101596): 1.495714\n",
      "---------------------------------------------------------------------------\n",
      "\n",
      "\n",
      "P-value for the pair (Party, Q100689): 0.009072\n",
      "Cramer-V value for pair (Party, Q100689): 1.304660\n",
      "---------------------------------------------------------------------------\n",
      "\n",
      "\n",
      "P-value for the pair (Party, Q100680): 0.001354\n",
      "Cramer-V value for pair (Party, Q100680): 1.602146\n",
      "---------------------------------------------------------------------------\n",
      "\n",
      "\n",
      "P-value for the pair (Party, Q100562): 0.694740\n",
      "Cramer-V value for pair (Party, Q100562): 0.196216\n",
      "---------------------------------------------------------------------------\n",
      "\n",
      "\n",
      "P-value for the pair (Party, Q99982): 0.312800\n",
      "Cramer-V value for pair (Party, Q99982): 0.504682\n",
      "---------------------------------------------------------------------------\n",
      "\n",
      "\n",
      "P-value for the pair (Party, Q100010): 0.452121\n",
      "Cramer-V value for pair (Party, Q100010): 0.375942\n",
      "---------------------------------------------------------------------------\n",
      "\n",
      "\n",
      "P-value for the pair (Party, Q99716): 0.003612\n",
      "Cramer-V value for pair (Party, Q99716): 1.455087\n",
      "---------------------------------------------------------------------------\n",
      "\n",
      "\n",
      "P-value for the pair (Party, Q99581): 0.898056\n",
      "Cramer-V value for pair (Party, Q99581): 0.064059\n",
      "---------------------------------------------------------------------------\n",
      "\n",
      "\n",
      "P-value for the pair (Party, Q99480): 0.000000\n",
      "Cramer-V value for pair (Party, Q99480): 2.818402\n",
      "---------------------------------------------------------------------------\n",
      "\n",
      "\n",
      "P-value for the pair (Party, Q98869): 0.000000\n",
      "Cramer-V value for pair (Party, Q98869): 3.634175\n",
      "---------------------------------------------------------------------------\n",
      "\n",
      "\n",
      "P-value for the pair (Party, Q98578): 0.990670\n",
      "Cramer-V value for pair (Party, Q98578): 0.005847\n",
      "---------------------------------------------------------------------------\n",
      "\n",
      "\n",
      "P-value for the pair (Party, Q98059): 0.799829\n",
      "Cramer-V value for pair (Party, Q98059): 0.126784\n",
      "---------------------------------------------------------------------------\n",
      "\n",
      "\n",
      "P-value for the pair (Party, Q98078): 0.014461\n",
      "Cramer-V value for pair (Party, Q98078): 1.222797\n",
      "---------------------------------------------------------------------------\n",
      "\n",
      "\n",
      "P-value for the pair (Party, Q98197): 0.000000\n",
      "Cramer-V value for pair (Party, Q98197): 5.367056\n",
      "---------------------------------------------------------------------------\n",
      "\n",
      "\n",
      "P-value for the pair (Party, Q96024): 0.014541\n",
      "Cramer-V value for pair (Party, Q96024): 1.221805\n",
      "---------------------------------------------------------------------------\n",
      "\n",
      "\n"
     ]
    }
   ],
   "source": [
    "test_summary = chi_square_test(train, 'Party', question_features)"
   ]
  },
  {
   "cell_type": "code",
   "execution_count": 15,
   "metadata": {
    "collapsed": false
   },
   "outputs": [],
   "source": [
    "def select_features_chi2(test_summary, n=10):\n",
    "    return [k[1] for k, v in sorted(test_summary.items(), key=lambda x: x[1])[:n]]"
   ]
  },
  {
   "cell_type": "code",
   "execution_count": 16,
   "metadata": {
    "collapsed": false
   },
   "outputs": [],
   "source": [
    "top_chi2_features = select_features_chi2(test_summary, n=10)"
   ]
  },
  {
   "cell_type": "code",
   "execution_count": 17,
   "metadata": {
    "collapsed": false
   },
   "outputs": [
    {
     "name": "stdout",
     "output_type": "stream",
     "text": [
      "Selected Features are: \n",
      "['Q109244', 'Q115611', 'Q98197', 'Q113181', 'Q98869', 'Q101163', 'Q99480', 'Q105840', 'Q116881', 'Q120379']\n"
     ]
    }
   ],
   "source": [
    "print('Top features selected after chi2 selection are: \\n%s'%(top_chi2_features))"
   ]
  },
  {
   "cell_type": "markdown",
   "metadata": {},
   "source": [
    "** Preprocessing **"
   ]
  },
  {
   "cell_type": "code",
   "execution_count": 18,
   "metadata": {
    "collapsed": false
   },
   "outputs": [
    {
     "name": "stdout",
     "output_type": "stream",
     "text": [
      "Max YOB in the training set 2039.0\n",
      "Min YOB in the training set  1880.0\n"
     ]
    }
   ],
   "source": [
    "print('Max YOB in the training set', train.YOB.max())\n",
    "print('Min YOB in the training set ', train.YOB.min())"
   ]
  },
  {
   "cell_type": "code",
   "execution_count": 19,
   "metadata": {
    "collapsed": false
   },
   "outputs": [],
   "source": [
    "# combine categorical features\n",
    "def combine_feature(data, feature1, feature2):\n",
    "    data[feature1 + '_' + feature2] = data[feature1].astype(str) + data[feature2].astype(str)\n",
    "    return data"
   ]
  },
  {
   "cell_type": "code",
   "execution_count": 20,
   "metadata": {
    "collapsed": true
   },
   "outputs": [],
   "source": [
    "# remove entries with YOB < 1930 and YOB greater than 2000\n",
    "\n",
    "def remove_entries(data):\n",
    "    mask = (data.YOB < 1930) & (data.YOB > 2000)\n",
    "    return data[~mask]"
   ]
  },
  {
   "cell_type": "code",
   "execution_count": 21,
   "metadata": {
    "collapsed": false
   },
   "outputs": [],
   "source": [
    "def fill_missing_values(data, selected_features):\n",
    "    for col in selected_features:\n",
    "        if data[col].isnull().any():\n",
    "            data[col] = data[col].fillna(data[col].value_counts().argmax())\n",
    "    \n",
    "    return data\n",
    "\n",
    "def fill_missing_values_with_unique_label(data, selected_features):\n",
    "    for col in selected_features:\n",
    "        if data[col].isnull().any():\n",
    "            data[col] = data[col].fillna('-99999')\n",
    "            \n",
    "    return data\n",
    "\n",
    "def fill_missing_values_with_flag(data, selected_features):\n",
    "    for col in selected_features:\n",
    "        if data[col].isnull().any():\n",
    "            data[col + '_missing'] = data[col].isnull().astype(int)\n",
    "            data[col] = data[col].fillna(data[col].value_counts().argmax())\n",
    "    \n",
    "    return data"
   ]
  },
  {
   "cell_type": "code",
   "execution_count": 22,
   "metadata": {
    "collapsed": true
   },
   "outputs": [],
   "source": [
    "def missing_value_features(columns):\n",
    "    return [col for col in columns if 'missing' in col]"
   ]
  },
  {
   "cell_type": "code",
   "execution_count": 33,
   "metadata": {
    "collapsed": true
   },
   "outputs": [],
   "source": [
    "def encode_features(data, selected_features):\n",
    "    for cat in selected_features:\n",
    "        if data[cat].dtype == 'object':\n",
    "            lbl = LabelEncoder()\n",
    "            lbl.fit(data[cat])\n",
    "        \n",
    "            data[cat] = lbl.transform(data[cat])\n",
    "    \n",
    "    return data"
   ]
  },
  {
   "cell_type": "code",
   "execution_count": 24,
   "metadata": {
    "collapsed": false
   },
   "outputs": [],
   "source": [
    "# concat train and test data-frames\n",
    "data = pd.concat((train, test))"
   ]
  },
  {
   "cell_type": "code",
   "execution_count": 28,
   "metadata": {
    "collapsed": true
   },
   "outputs": [],
   "source": [
    "data['Age'] = 2016 - data['YOB']"
   ]
  },
  {
   "cell_type": "code",
   "execution_count": 27,
   "metadata": {
    "collapsed": false
   },
   "outputs": [],
   "source": [
    "features = ['EducationLevel', 'Gender', 'HouseholdStatus', 'Income', 'Age'] + top_chi2_features"
   ]
  },
  {
   "cell_type": "code",
   "execution_count": 34,
   "metadata": {
    "collapsed": false
   },
   "outputs": [],
   "source": [
    "data = remove_entries(data)\n",
    "\n",
    "# fill missing values for only the selected features\n",
    "data = fill_missing_values_with_unique_label(data, features)\n",
    "data = encode_features(data, features)"
   ]
  },
  {
   "cell_type": "markdown",
   "metadata": {},
   "source": [
    "** Datasets **"
   ]
  },
  {
   "cell_type": "code",
   "execution_count": 35,
   "metadata": {
    "collapsed": false
   },
   "outputs": [],
   "source": [
    "train_ = get_training_dataset(data)\n",
    "test_  = get_test_dataset(data)"
   ]
  },
  {
   "cell_type": "code",
   "execution_count": 472,
   "metadata": {
    "collapsed": false
   },
   "outputs": [],
   "source": [
    "# add list of features created to mark missing values\n",
    "# selected_features = top_chi2_features + missing_value_features(train_.columns)"
   ]
  },
  {
   "cell_type": "code",
   "execution_count": 36,
   "metadata": {
    "collapsed": true
   },
   "outputs": [],
   "source": [
    "X = train_[features]\n",
    "y = (train_.Party == 'Democrat').astype(int)\n",
    "\n",
    "Xtest = test_[features]"
   ]
  },
  {
   "cell_type": "code",
   "execution_count": 37,
   "metadata": {
    "collapsed": false
   },
   "outputs": [],
   "source": [
    "Xtr, Xte, ytr, yte = train_test_split(X, y, stratify=y, test_size=0.33, random_state=12128)"
   ]
  },
  {
   "cell_type": "markdown",
   "metadata": {},
   "source": [
    "** Logistic Regression **"
   ]
  },
  {
   "cell_type": "code",
   "execution_count": 38,
   "metadata": {
    "collapsed": false
   },
   "outputs": [
    {
     "name": "stdout",
     "output_type": "stream",
     "text": [
      "Accuracy score on unseen examples  0.562568008705\n"
     ]
    }
   ],
   "source": [
    "log = LogisticRegression(C=1.)\n",
    "log.fit(Xtr, ytr)\n",
    "\n",
    "yhat = log.predict(Xte)\n",
    "print('Accuracy score on unseen examples ', accuracy_score(yte, yhat))"
   ]
  },
  {
   "cell_type": "markdown",
   "metadata": {},
   "source": [
    "** Random Forest Classifier **"
   ]
  },
  {
   "cell_type": "code",
   "execution_count": 39,
   "metadata": {
    "collapsed": false
   },
   "outputs": [
    {
     "name": "stdout",
     "output_type": "stream",
     "text": [
      "Accuracy score on unseen examples  0.607725788901\n"
     ]
    }
   ],
   "source": [
    "rf = RandomForestClassifier(class_weight='balanced', n_estimators=100, max_depth=5, n_jobs=-1, random_state=1231)\n",
    "rf.fit(Xtr, ytr)\n",
    "\n",
    "yhat = rf.predict(Xte)\n",
    "print('Accuracy score on unseen examples ', accuracy_score(yte, yhat))"
   ]
  },
  {
   "cell_type": "markdown",
   "metadata": {},
   "source": [
    "** Extra Trees Classifier **"
   ]
  },
  {
   "cell_type": "code",
   "execution_count": 40,
   "metadata": {
    "collapsed": false
   },
   "outputs": [
    {
     "name": "stdout",
     "output_type": "stream",
     "text": [
      "Accuracy score on unseen examples  0.606637649619\n"
     ]
    }
   ],
   "source": [
    "etr = ExtraTreesClassifier(class_weight='balanced', n_estimators=150, max_depth=5, n_jobs=-1, random_state=1232)\n",
    "etr.fit(Xtr, ytr)\n",
    "\n",
    "yhat = etr.predict(Xte)\n",
    "print('Accuracy score on unseen examples ', accuracy_score(yte, yhat))"
   ]
  },
  {
   "cell_type": "markdown",
   "metadata": {},
   "source": [
    "** Extreme Gradient Boosting **"
   ]
  },
  {
   "cell_type": "code",
   "execution_count": 41,
   "metadata": {
    "collapsed": false
   },
   "outputs": [
    {
     "name": "stdout",
     "output_type": "stream",
     "text": [
      "Accuracy score on unseen examples  0.602285092492\n"
     ]
    }
   ],
   "source": [
    "xgb_est = xgb.XGBClassifier(n_estimators=100, learning_rate=0.07, min_child_weight=3, seed=21)\n",
    "xgb_est.fit(Xtr, ytr)\n",
    "\n",
    "yhat = xgb_est.predict(Xte)\n",
    "print('Accuracy score on unseen examples ', accuracy_score(yte, yhat))"
   ]
  },
  {
   "cell_type": "markdown",
   "metadata": {},
   "source": [
    "#### Estimating error "
   ]
  },
  {
   "cell_type": "code",
   "execution_count": 42,
   "metadata": {
    "collapsed": true
   },
   "outputs": [],
   "source": [
    "def estimating_error(X, y, est, n_folds=10):\n",
    "    skf = StratifiedKFold(y, n_folds=n_folds, shuffle=True, random_state=2318)\n",
    "    cv_score = cross_val_score(est, X, y, scoring='accuracy', cv=skf, n_jobs=-1)\n",
    "    return cv_score"
   ]
  },
  {
   "cell_type": "code",
   "execution_count": 43,
   "metadata": {
    "collapsed": false
   },
   "outputs": [
    {
     "name": "stdout",
     "output_type": "stream",
     "text": [
      "Mean cross-validation score for Logistic Regression: 0.595152 and std: 0.021785 \n"
     ]
    }
   ],
   "source": [
    "cv_score_log_10 = estimating_error(Xtr, ytr, log, 10)\n",
    "print('Mean cross-validation score for Logistic Regression: %f and std: %f '%(np.mean(cv_score_log_10), np.std(cv_score_log_10)))"
   ]
  },
  {
   "cell_type": "code",
   "execution_count": 44,
   "metadata": {
    "collapsed": false
   },
   "outputs": [
    {
     "name": "stdout",
     "output_type": "stream",
     "text": [
      "Mean cross-validation score for Random Forest: 0.637545 and std: 0.026881 \n"
     ]
    }
   ],
   "source": [
    "cv_score_rf_10 = estimating_error(Xtr, ytr, rf, 10)\n",
    "print('Mean cross-validation score for Random Forest: %f and std: %f '%(np.mean(cv_score_rf_10), np.std(cv_score_rf_10)))"
   ]
  },
  {
   "cell_type": "code",
   "execution_count": 45,
   "metadata": {
    "collapsed": false
   },
   "outputs": [
    {
     "name": "stdout",
     "output_type": "stream",
     "text": [
      "Mean cross-validation score for Extra Trees: 0.635938 and std: 0.026269 \n"
     ]
    }
   ],
   "source": [
    "cv_score_etr_10 = estimating_error(Xtr, ytr, etr, 10)\n",
    "print('Mean cross-validation score for Extra Trees: %f and std: %f '%(np.mean(cv_score_etr_10), np.std(cv_score_etr_10)))"
   ]
  },
  {
   "cell_type": "code",
   "execution_count": 46,
   "metadata": {
    "collapsed": false
   },
   "outputs": [
    {
     "name": "stdout",
     "output_type": "stream",
     "text": [
      "Mean cross-validation score for Extra Trees: 0.645862 and std: 0.022450 \n"
     ]
    }
   ],
   "source": [
    "cv_score_xgb_10 = estimating_error(Xtr, ytr, xgb_est, 10)\n",
    "print('Mean cross-validation score for Extra Trees: %f and std: %f '%(np.mean(cv_score_xgb_10), np.std(cv_score_xgb_10)))"
   ]
  },
  {
   "cell_type": "code",
   "execution_count": 47,
   "metadata": {
    "collapsed": true
   },
   "outputs": [],
   "source": [
    "def get_predictions(model, test):\n",
    "    return model.predict(test)"
   ]
  },
  {
   "cell_type": "code",
   "execution_count": 48,
   "metadata": {
    "collapsed": false
   },
   "outputs": [],
   "source": [
    "log_preds = get_predictions(log, Xte)\n",
    "rf_preds  = get_predictions(rf, Xte)\n",
    "etr_preds = get_predictions(etr, Xte)\n",
    "xgb_preds = get_predictions(xgb_est, Xte)"
   ]
  },
  {
   "cell_type": "markdown",
   "metadata": {},
   "source": [
    "** Analyze our errors **"
   ]
  },
  {
   "cell_type": "code",
   "execution_count": 49,
   "metadata": {
    "collapsed": false
   },
   "outputs": [],
   "source": [
    "def get_error_summary(test_df, true, preds, features=['Gender', 'HouseholdStatus']):\n",
    "    mask = preds != true\n",
    "    error_summary = {}\n",
    "    \n",
    "    gr = test_df[mask].groupby(features).size()\n",
    "    \n",
    "    for idx in gr.index.values:\n",
    "        error_summary[idx] = gr.ix[idx]\n",
    "    \n",
    "    return error_summary"
   ]
  },
  {
   "cell_type": "code",
   "execution_count": 50,
   "metadata": {
    "collapsed": true
   },
   "outputs": [],
   "source": [
    "log_summary = get_error_summary(Xte, yte, log_preds)\n",
    "rf_summary = get_error_summary(Xte, yte, rf_preds)\n",
    "etr_summary = get_error_summary(Xte, yte, etr_preds)\n",
    "xgb_summary = get_error_summary(Xte, yte, xgb_preds)"
   ]
  },
  {
   "cell_type": "code",
   "execution_count": 509,
   "metadata": {
    "collapsed": true
   },
   "outputs": [
    {
     "data": {
      "text/plain": [
       "{(0, 0): 10,\n",
       " (0, 1): 7,\n",
       " (0, 2): 34,\n",
       " (0, 3): 62,\n",
       " (0, 4): 138,\n",
       " (0, 5): 14,\n",
       " (1, 0): 15,\n",
       " (1, 1): 6,\n",
       " (1, 2): 57,\n",
       " (1, 3): 144,\n",
       " (1, 4): 231,\n",
       " (1, 5): 11}"
      ]
     },
     "execution_count": 509,
     "metadata": {},
     "output_type": "execute_result"
    }
   ],
   "source": [
    "log_summary"
   ]
  },
  {
   "cell_type": "code",
   "execution_count": 441,
   "metadata": {
    "collapsed": false
   },
   "outputs": [
    {
     "data": {
      "text/plain": [
       "{(0, 0): 9,\n",
       " (0, 1): 7,\n",
       " (0, 2): 34,\n",
       " (0, 3): 60,\n",
       " (0, 4): 134,\n",
       " (0, 5): 14,\n",
       " (1, 0): 15,\n",
       " (1, 1): 6,\n",
       " (1, 2): 58,\n",
       " (1, 3): 145,\n",
       " (1, 4): 241,\n",
       " (1, 5): 11}"
      ]
     },
     "execution_count": 441,
     "metadata": {},
     "output_type": "execute_result"
    }
   ],
   "source": [
    "rf_summary"
   ]
  },
  {
   "cell_type": "code",
   "execution_count": 442,
   "metadata": {
    "collapsed": false
   },
   "outputs": [
    {
     "data": {
      "text/plain": [
       "{(0, 0): 10,\n",
       " (0, 1): 7,\n",
       " (0, 2): 34,\n",
       " (0, 3): 60,\n",
       " (0, 4): 137,\n",
       " (0, 5): 13,\n",
       " (1, 0): 14,\n",
       " (1, 1): 5,\n",
       " (1, 2): 57,\n",
       " (1, 3): 143,\n",
       " (1, 4): 239,\n",
       " (1, 5): 16}"
      ]
     },
     "execution_count": 442,
     "metadata": {},
     "output_type": "execute_result"
    }
   ],
   "source": [
    "etr_summary"
   ]
  },
  {
   "cell_type": "code",
   "execution_count": 443,
   "metadata": {
    "collapsed": false
   },
   "outputs": [
    {
     "data": {
      "text/plain": [
       "{(0, 0): 8,\n",
       " (0, 1): 7,\n",
       " (0, 2): 33,\n",
       " (0, 3): 60,\n",
       " (0, 4): 135,\n",
       " (0, 5): 13,\n",
       " (1, 0): 17,\n",
       " (1, 1): 4,\n",
       " (1, 2): 59,\n",
       " (1, 3): 145,\n",
       " (1, 4): 244,\n",
       " (1, 5): 13}"
      ]
     },
     "execution_count": 443,
     "metadata": {},
     "output_type": "execute_result"
    }
   ],
   "source": [
    "xgb_summary"
   ]
  },
  {
   "cell_type": "markdown",
   "metadata": {},
   "source": [
    "** So it is proving to be difficult to get gender type 2 and household type 5 correct in general **"
   ]
  },
  {
   "cell_type": "code",
   "execution_count": 444,
   "metadata": {
    "collapsed": false
   },
   "outputs": [
    {
     "data": {
      "text/plain": [
       "Gender  HouseholdStatus\n",
       "0       0                   27\n",
       "        1                   12\n",
       "        2                   93\n",
       "        3                  184\n",
       "        4                  354\n",
       "        5                   36\n",
       "1       0                   42\n",
       "        1                   10\n",
       "        2                  132\n",
       "        3                  339\n",
       "        4                  577\n",
       "        5                   32\n",
       "dtype: int64"
      ]
     },
     "execution_count": 444,
     "metadata": {},
     "output_type": "execute_result"
    }
   ],
   "source": [
    "Xte.groupby(['Gender', 'HouseholdStatus']).size()"
   ]
  },
  {
   "cell_type": "markdown",
   "metadata": {},
   "source": [
    "** Reason might be that this is the most common pair **"
   ]
  },
  {
   "cell_type": "markdown",
   "metadata": {},
   "source": [
    "** Lets see whether predictions of these models are correlated or not **"
   ]
  },
  {
   "cell_type": "code",
   "execution_count": 51,
   "metadata": {
    "collapsed": false
   },
   "outputs": [
    {
     "data": {
      "text/html": [
       "<div>\n",
       "<table border=\"1\" class=\"dataframe\">\n",
       "  <thead>\n",
       "    <tr style=\"text-align: right;\">\n",
       "      <th>col_0</th>\n",
       "      <th>0</th>\n",
       "      <th>1</th>\n",
       "      <th>All</th>\n",
       "    </tr>\n",
       "    <tr>\n",
       "      <th>row_0</th>\n",
       "      <th></th>\n",
       "      <th></th>\n",
       "      <th></th>\n",
       "    </tr>\n",
       "  </thead>\n",
       "  <tbody>\n",
       "    <tr>\n",
       "      <th>0</th>\n",
       "      <td>0.336235</td>\n",
       "      <td>0.079434</td>\n",
       "      <td>0.415669</td>\n",
       "    </tr>\n",
       "    <tr>\n",
       "      <th>1</th>\n",
       "      <td>0.156148</td>\n",
       "      <td>0.428183</td>\n",
       "      <td>0.584331</td>\n",
       "    </tr>\n",
       "    <tr>\n",
       "      <th>All</th>\n",
       "      <td>0.492383</td>\n",
       "      <td>0.507617</td>\n",
       "      <td>1.000000</td>\n",
       "    </tr>\n",
       "  </tbody>\n",
       "</table>\n",
       "</div>"
      ],
      "text/plain": [
       "col_0         0         1       All\n",
       "row_0                              \n",
       "0      0.336235  0.079434  0.415669\n",
       "1      0.156148  0.428183  0.584331\n",
       "All    0.492383  0.507617  1.000000"
      ]
     },
     "execution_count": 51,
     "metadata": {},
     "output_type": "execute_result"
    }
   ],
   "source": [
    "pd.crosstab(log_preds, rf_preds, margins=True, normalize=True)"
   ]
  },
  {
   "cell_type": "code",
   "execution_count": 52,
   "metadata": {
    "collapsed": false
   },
   "outputs": [
    {
     "data": {
      "text/html": [
       "<div>\n",
       "<table border=\"1\" class=\"dataframe\">\n",
       "  <thead>\n",
       "    <tr style=\"text-align: right;\">\n",
       "      <th>col_0</th>\n",
       "      <th>0</th>\n",
       "      <th>1</th>\n",
       "      <th>All</th>\n",
       "    </tr>\n",
       "    <tr>\n",
       "      <th>row_0</th>\n",
       "      <th></th>\n",
       "      <th></th>\n",
       "      <th></th>\n",
       "    </tr>\n",
       "  </thead>\n",
       "  <tbody>\n",
       "    <tr>\n",
       "      <th>0</th>\n",
       "      <td>0.454842</td>\n",
       "      <td>0.016866</td>\n",
       "      <td>0.471708</td>\n",
       "    </tr>\n",
       "    <tr>\n",
       "      <th>1</th>\n",
       "      <td>0.037541</td>\n",
       "      <td>0.490751</td>\n",
       "      <td>0.528292</td>\n",
       "    </tr>\n",
       "    <tr>\n",
       "      <th>All</th>\n",
       "      <td>0.492383</td>\n",
       "      <td>0.507617</td>\n",
       "      <td>1.000000</td>\n",
       "    </tr>\n",
       "  </tbody>\n",
       "</table>\n",
       "</div>"
      ],
      "text/plain": [
       "col_0         0         1       All\n",
       "row_0                              \n",
       "0      0.454842  0.016866  0.471708\n",
       "1      0.037541  0.490751  0.528292\n",
       "All    0.492383  0.507617  1.000000"
      ]
     },
     "execution_count": 52,
     "metadata": {},
     "output_type": "execute_result"
    }
   ],
   "source": [
    "pd.crosstab(etr_preds, rf_preds, margins=True, normalize=True)"
   ]
  },
  {
   "cell_type": "code",
   "execution_count": 53,
   "metadata": {
    "collapsed": false
   },
   "outputs": [
    {
     "data": {
      "text/html": [
       "<div>\n",
       "<table border=\"1\" class=\"dataframe\">\n",
       "  <thead>\n",
       "    <tr style=\"text-align: right;\">\n",
       "      <th>col_0</th>\n",
       "      <th>0</th>\n",
       "      <th>1</th>\n",
       "      <th>All</th>\n",
       "    </tr>\n",
       "    <tr>\n",
       "      <th>row_0</th>\n",
       "      <th></th>\n",
       "      <th></th>\n",
       "      <th></th>\n",
       "    </tr>\n",
       "  </thead>\n",
       "  <tbody>\n",
       "    <tr>\n",
       "      <th>0</th>\n",
       "      <td>0.321545</td>\n",
       "      <td>0.094124</td>\n",
       "      <td>0.415669</td>\n",
       "    </tr>\n",
       "    <tr>\n",
       "      <th>1</th>\n",
       "      <td>0.150163</td>\n",
       "      <td>0.434168</td>\n",
       "      <td>0.584331</td>\n",
       "    </tr>\n",
       "    <tr>\n",
       "      <th>All</th>\n",
       "      <td>0.471708</td>\n",
       "      <td>0.528292</td>\n",
       "      <td>1.000000</td>\n",
       "    </tr>\n",
       "  </tbody>\n",
       "</table>\n",
       "</div>"
      ],
      "text/plain": [
       "col_0         0         1       All\n",
       "row_0                              \n",
       "0      0.321545  0.094124  0.415669\n",
       "1      0.150163  0.434168  0.584331\n",
       "All    0.471708  0.528292  1.000000"
      ]
     },
     "execution_count": 53,
     "metadata": {},
     "output_type": "execute_result"
    }
   ],
   "source": [
    "pd.crosstab(log_preds, etr_preds, margins=True, normalize=True)"
   ]
  },
  {
   "cell_type": "code",
   "execution_count": 54,
   "metadata": {
    "collapsed": false
   },
   "outputs": [
    {
     "data": {
      "text/html": [
       "<div>\n",
       "<table border=\"1\" class=\"dataframe\">\n",
       "  <thead>\n",
       "    <tr style=\"text-align: right;\">\n",
       "      <th>col_0</th>\n",
       "      <th>0</th>\n",
       "      <th>1</th>\n",
       "      <th>All</th>\n",
       "    </tr>\n",
       "    <tr>\n",
       "      <th>row_0</th>\n",
       "      <th></th>\n",
       "      <th></th>\n",
       "      <th></th>\n",
       "    </tr>\n",
       "  </thead>\n",
       "  <tbody>\n",
       "    <tr>\n",
       "      <th>0</th>\n",
       "      <td>0.301959</td>\n",
       "      <td>0.113711</td>\n",
       "      <td>0.415669</td>\n",
       "    </tr>\n",
       "    <tr>\n",
       "      <th>1</th>\n",
       "      <td>0.124048</td>\n",
       "      <td>0.460283</td>\n",
       "      <td>0.584331</td>\n",
       "    </tr>\n",
       "    <tr>\n",
       "      <th>All</th>\n",
       "      <td>0.426007</td>\n",
       "      <td>0.573993</td>\n",
       "      <td>1.000000</td>\n",
       "    </tr>\n",
       "  </tbody>\n",
       "</table>\n",
       "</div>"
      ],
      "text/plain": [
       "col_0         0         1       All\n",
       "row_0                              \n",
       "0      0.301959  0.113711  0.415669\n",
       "1      0.124048  0.460283  0.584331\n",
       "All    0.426007  0.573993  1.000000"
      ]
     },
     "execution_count": 54,
     "metadata": {},
     "output_type": "execute_result"
    }
   ],
   "source": [
    "pd.crosstab(log_preds, xgb_preds, margins=True, normalize=True)"
   ]
  },
  {
   "cell_type": "code",
   "execution_count": 55,
   "metadata": {
    "collapsed": false
   },
   "outputs": [
    {
     "data": {
      "text/html": [
       "<div>\n",
       "<table border=\"1\" class=\"dataframe\">\n",
       "  <thead>\n",
       "    <tr style=\"text-align: right;\">\n",
       "      <th>col_0</th>\n",
       "      <th>0</th>\n",
       "      <th>1</th>\n",
       "      <th>All</th>\n",
       "    </tr>\n",
       "    <tr>\n",
       "      <th>row_0</th>\n",
       "      <th></th>\n",
       "      <th></th>\n",
       "      <th></th>\n",
       "    </tr>\n",
       "  </thead>\n",
       "  <tbody>\n",
       "    <tr>\n",
       "      <th>0</th>\n",
       "      <td>0.410773</td>\n",
       "      <td>0.081610</td>\n",
       "      <td>0.492383</td>\n",
       "    </tr>\n",
       "    <tr>\n",
       "      <th>1</th>\n",
       "      <td>0.015234</td>\n",
       "      <td>0.492383</td>\n",
       "      <td>0.507617</td>\n",
       "    </tr>\n",
       "    <tr>\n",
       "      <th>All</th>\n",
       "      <td>0.426007</td>\n",
       "      <td>0.573993</td>\n",
       "      <td>1.000000</td>\n",
       "    </tr>\n",
       "  </tbody>\n",
       "</table>\n",
       "</div>"
      ],
      "text/plain": [
       "col_0         0         1       All\n",
       "row_0                              \n",
       "0      0.410773  0.081610  0.492383\n",
       "1      0.015234  0.492383  0.507617\n",
       "All    0.426007  0.573993  1.000000"
      ]
     },
     "execution_count": 55,
     "metadata": {},
     "output_type": "execute_result"
    }
   ],
   "source": [
    "pd.crosstab(rf_preds, xgb_preds, margins=True, normalize=True)"
   ]
  },
  {
   "cell_type": "code",
   "execution_count": 56,
   "metadata": {
    "collapsed": false
   },
   "outputs": [
    {
     "data": {
      "text/html": [
       "<div>\n",
       "<table border=\"1\" class=\"dataframe\">\n",
       "  <thead>\n",
       "    <tr style=\"text-align: right;\">\n",
       "      <th>col_0</th>\n",
       "      <th>0</th>\n",
       "      <th>1</th>\n",
       "      <th>All</th>\n",
       "    </tr>\n",
       "    <tr>\n",
       "      <th>row_0</th>\n",
       "      <th></th>\n",
       "      <th></th>\n",
       "      <th></th>\n",
       "    </tr>\n",
       "  </thead>\n",
       "  <tbody>\n",
       "    <tr>\n",
       "      <th>0</th>\n",
       "      <td>0.404244</td>\n",
       "      <td>0.067465</td>\n",
       "      <td>0.471708</td>\n",
       "    </tr>\n",
       "    <tr>\n",
       "      <th>1</th>\n",
       "      <td>0.021763</td>\n",
       "      <td>0.506529</td>\n",
       "      <td>0.528292</td>\n",
       "    </tr>\n",
       "    <tr>\n",
       "      <th>All</th>\n",
       "      <td>0.426007</td>\n",
       "      <td>0.573993</td>\n",
       "      <td>1.000000</td>\n",
       "    </tr>\n",
       "  </tbody>\n",
       "</table>\n",
       "</div>"
      ],
      "text/plain": [
       "col_0         0         1       All\n",
       "row_0                              \n",
       "0      0.404244  0.067465  0.471708\n",
       "1      0.021763  0.506529  0.528292\n",
       "All    0.426007  0.573993  1.000000"
      ]
     },
     "execution_count": 56,
     "metadata": {},
     "output_type": "execute_result"
    }
   ],
   "source": [
    "pd.crosstab(etr_preds, xgb_preds, margins=True, normalize=True)"
   ]
  },
  {
   "cell_type": "code",
   "execution_count": 57,
   "metadata": {
    "collapsed": false
   },
   "outputs": [],
   "source": [
    "def majority_voting(preds, n_examples, ytest=None):\n",
    "    final_preds = []\n",
    "    for i in range(n_examples):\n",
    "        model_preds = []\n",
    "        for j in range(len(preds)):\n",
    "            model_preds.append(preds[j][i])\n",
    "        \n",
    "        bin_count = np.bincount(model_preds)\n",
    "        final_preds.append(np.argmax(bin_count))\n",
    "    \n",
    "    if ytest is not None:\n",
    "        print('Accuracy of majority voting ensemble: %f'%(accuracy_score(ytest, final_preds)))\n",
    "    return final_preds"
   ]
  },
  {
   "cell_type": "code",
   "execution_count": 58,
   "metadata": {
    "collapsed": false
   },
   "outputs": [
    {
     "name": "stdout",
     "output_type": "stream",
     "text": [
      "Accuracy of majority voting ensemble: 0.607182\n"
     ]
    }
   ],
   "source": [
    "_ = majority_voting([log_preds, rf_preds, etr_preds, xgb_preds], len(yte), yte)"
   ]
  },
  {
   "cell_type": "markdown",
   "metadata": {},
   "source": [
    "#### Full Training"
   ]
  },
  {
   "cell_type": "code",
   "execution_count": 59,
   "metadata": {
    "collapsed": true
   },
   "outputs": [],
   "source": [
    "log.fit(X, y)\n",
    "log_preds = log.predict(Xtest)\n",
    "\n",
    "rf.fit(X, y)\n",
    "rf_preds  = rf.predict(Xtest)\n",
    "\n",
    "etr.fit(X, y)\n",
    "etr_preds = etr.predict(Xtest)\n",
    "\n",
    "xgb_est.fit(X, y)\n",
    "xgb_preds = xgb_est.predict(Xtest)\n",
    "\n",
    "predictions = majority_voting([log_preds, rf_preds, etr_preds, xgb_preds], len(Xtest))"
   ]
  },
  {
   "cell_type": "code",
   "execution_count": 60,
   "metadata": {
    "collapsed": false
   },
   "outputs": [],
   "source": [
    "prediction_labels = map(lambda x: 'Democrat' if x == 1 else 'Republican', predictions)"
   ]
  },
  {
   "cell_type": "code",
   "execution_count": 61,
   "metadata": {
    "collapsed": false
   },
   "outputs": [],
   "source": [
    "sub['Predictions'] = list(prediction_labels)"
   ]
  },
  {
   "cell_type": "markdown",
   "metadata": {},
   "source": [
    "* Logistic Regression - Public : 0.61638\tPrivate: 0.60632\n",
    "* Ensemble Model ( Logistic, Random Forest, Extra Trees ) - Public : 0.62356\tPrivate : 0.62213\n",
    "* Ensemble with -999 filled in for missing values - Public: 0.62069 Private: 0.63218\n",
    "* 10 Questions with other variables - Public: 0.62787 Private: 0.60632"
   ]
  },
  {
   "cell_type": "code",
   "execution_count": 62,
   "metadata": {
    "collapsed": true
   },
   "outputs": [],
   "source": [
    "sub.to_csv('../submissions/10_questions.csv', index=False)"
   ]
  },
  {
   "cell_type": "code",
   "execution_count": null,
   "metadata": {
    "collapsed": true
   },
   "outputs": [],
   "source": []
  }
 ],
 "metadata": {
  "kernelspec": {
   "display_name": "Python [Root]",
   "language": "python",
   "name": "Python [Root]"
  },
  "language_info": {
   "codemirror_mode": {
    "name": "ipython",
    "version": 3
   },
   "file_extension": ".py",
   "mimetype": "text/x-python",
   "name": "python",
   "nbconvert_exporter": "python",
   "pygments_lexer": "ipython3",
   "version": "3.5.2"
  }
 },
 "nbformat": 4,
 "nbformat_minor": 0
}
