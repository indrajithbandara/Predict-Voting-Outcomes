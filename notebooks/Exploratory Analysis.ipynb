{
 "cells": [
  {
   "cell_type": "code",
   "execution_count": 272,
   "metadata": {
    "collapsed": true
   },
   "outputs": [],
   "source": [
    "%matplotlib inline\n",
    "\n",
    "import pandas as pd\n",
    "import numpy as np\n",
    "import scipy as sp\n",
    "\n",
    "import matplotlib.pyplot as plt\n",
    "import seaborn as sns\n",
    "\n",
    "from sklearn.cross_validation import KFold, train_test_split, cross_val_score, StratifiedKFold\n",
    "from sklearn.metrics import accuracy_score\n",
    "from sklearn.preprocessing import LabelEncoder, Imputer\n",
    "from sklearn.linear_model import LogisticRegression\n",
    "from sklearn.ensemble import RandomForestClassifier, ExtraTreesClassifier\n",
    "\n",
    "import xgboost as xgb\n",
    "\n",
    "sns.set_context('poster')\n",
    "sns.set_style('whitegrid')\n",
    "\n",
    "np.random.seed(2016)"
   ]
  },
  {
   "cell_type": "code",
   "execution_count": 2,
   "metadata": {
    "collapsed": true
   },
   "outputs": [],
   "source": [
    "# load files\n",
    "train = pd.read_csv('../data/train2016.csv')\n",
    "test  = pd.read_csv('../data/test2016.csv')\n",
    "sub   = pd.read_csv('../data/sampleSubmission2016.csv')"
   ]
  },
  {
   "cell_type": "code",
   "execution_count": 3,
   "metadata": {
    "collapsed": false
   },
   "outputs": [
    {
     "data": {
      "text/html": [
       "<div>\n",
       "<table border=\"1\" class=\"dataframe\">\n",
       "  <thead>\n",
       "    <tr style=\"text-align: right;\">\n",
       "      <th></th>\n",
       "      <th>USER_ID</th>\n",
       "      <th>YOB</th>\n",
       "      <th>Gender</th>\n",
       "      <th>Income</th>\n",
       "      <th>HouseholdStatus</th>\n",
       "      <th>EducationLevel</th>\n",
       "      <th>Party</th>\n",
       "      <th>Q124742</th>\n",
       "      <th>Q124122</th>\n",
       "      <th>Q123464</th>\n",
       "      <th>...</th>\n",
       "      <th>Q100010</th>\n",
       "      <th>Q99716</th>\n",
       "      <th>Q99581</th>\n",
       "      <th>Q99480</th>\n",
       "      <th>Q98869</th>\n",
       "      <th>Q98578</th>\n",
       "      <th>Q98059</th>\n",
       "      <th>Q98078</th>\n",
       "      <th>Q98197</th>\n",
       "      <th>Q96024</th>\n",
       "    </tr>\n",
       "  </thead>\n",
       "  <tbody>\n",
       "    <tr>\n",
       "      <th>0</th>\n",
       "      <td>1</td>\n",
       "      <td>1938.0</td>\n",
       "      <td>Male</td>\n",
       "      <td>NaN</td>\n",
       "      <td>Married (w/kids)</td>\n",
       "      <td>NaN</td>\n",
       "      <td>Democrat</td>\n",
       "      <td>No</td>\n",
       "      <td>NaN</td>\n",
       "      <td>No</td>\n",
       "      <td>...</td>\n",
       "      <td>Yes</td>\n",
       "      <td>No</td>\n",
       "      <td>No</td>\n",
       "      <td>NaN</td>\n",
       "      <td>No</td>\n",
       "      <td>NaN</td>\n",
       "      <td>Only-child</td>\n",
       "      <td>No</td>\n",
       "      <td>No</td>\n",
       "      <td>Yes</td>\n",
       "    </tr>\n",
       "    <tr>\n",
       "      <th>1</th>\n",
       "      <td>4</td>\n",
       "      <td>1970.0</td>\n",
       "      <td>Female</td>\n",
       "      <td>over $150,000</td>\n",
       "      <td>Domestic Partners (w/kids)</td>\n",
       "      <td>Bachelor's Degree</td>\n",
       "      <td>Democrat</td>\n",
       "      <td>NaN</td>\n",
       "      <td>Yes</td>\n",
       "      <td>No</td>\n",
       "      <td>...</td>\n",
       "      <td>NaN</td>\n",
       "      <td>NaN</td>\n",
       "      <td>NaN</td>\n",
       "      <td>No</td>\n",
       "      <td>No</td>\n",
       "      <td>No</td>\n",
       "      <td>Only-child</td>\n",
       "      <td>Yes</td>\n",
       "      <td>No</td>\n",
       "      <td>No</td>\n",
       "    </tr>\n",
       "    <tr>\n",
       "      <th>2</th>\n",
       "      <td>5</td>\n",
       "      <td>1997.0</td>\n",
       "      <td>Male</td>\n",
       "      <td>$75,000 - $100,000</td>\n",
       "      <td>Single (no kids)</td>\n",
       "      <td>High School Diploma</td>\n",
       "      <td>Republican</td>\n",
       "      <td>NaN</td>\n",
       "      <td>Yes</td>\n",
       "      <td>Yes</td>\n",
       "      <td>...</td>\n",
       "      <td>Yes</td>\n",
       "      <td>No</td>\n",
       "      <td>No</td>\n",
       "      <td>No</td>\n",
       "      <td>Yes</td>\n",
       "      <td>No</td>\n",
       "      <td>Yes</td>\n",
       "      <td>No</td>\n",
       "      <td>Yes</td>\n",
       "      <td>No</td>\n",
       "    </tr>\n",
       "    <tr>\n",
       "      <th>3</th>\n",
       "      <td>8</td>\n",
       "      <td>1983.0</td>\n",
       "      <td>Male</td>\n",
       "      <td>$100,001 - $150,000</td>\n",
       "      <td>Married (w/kids)</td>\n",
       "      <td>Bachelor's Degree</td>\n",
       "      <td>Democrat</td>\n",
       "      <td>No</td>\n",
       "      <td>Yes</td>\n",
       "      <td>No</td>\n",
       "      <td>...</td>\n",
       "      <td>No</td>\n",
       "      <td>No</td>\n",
       "      <td>No</td>\n",
       "      <td>Yes</td>\n",
       "      <td>Yes</td>\n",
       "      <td>No</td>\n",
       "      <td>Yes</td>\n",
       "      <td>No</td>\n",
       "      <td>No</td>\n",
       "      <td>Yes</td>\n",
       "    </tr>\n",
       "    <tr>\n",
       "      <th>4</th>\n",
       "      <td>9</td>\n",
       "      <td>1984.0</td>\n",
       "      <td>Female</td>\n",
       "      <td>$50,000 - $74,999</td>\n",
       "      <td>Married (w/kids)</td>\n",
       "      <td>High School Diploma</td>\n",
       "      <td>Republican</td>\n",
       "      <td>No</td>\n",
       "      <td>Yes</td>\n",
       "      <td>No</td>\n",
       "      <td>...</td>\n",
       "      <td>Yes</td>\n",
       "      <td>No</td>\n",
       "      <td>No</td>\n",
       "      <td>Yes</td>\n",
       "      <td>No</td>\n",
       "      <td>No</td>\n",
       "      <td>Yes</td>\n",
       "      <td>No</td>\n",
       "      <td>No</td>\n",
       "      <td>Yes</td>\n",
       "    </tr>\n",
       "  </tbody>\n",
       "</table>\n",
       "<p>5 rows × 108 columns</p>\n",
       "</div>"
      ],
      "text/plain": [
       "   USER_ID     YOB  Gender               Income             HouseholdStatus  \\\n",
       "0        1  1938.0    Male                  NaN            Married (w/kids)   \n",
       "1        4  1970.0  Female        over $150,000  Domestic Partners (w/kids)   \n",
       "2        5  1997.0    Male   $75,000 - $100,000            Single (no kids)   \n",
       "3        8  1983.0    Male  $100,001 - $150,000            Married (w/kids)   \n",
       "4        9  1984.0  Female    $50,000 - $74,999            Married (w/kids)   \n",
       "\n",
       "        EducationLevel       Party Q124742 Q124122 Q123464  ...   Q100010  \\\n",
       "0                  NaN    Democrat      No     NaN      No  ...       Yes   \n",
       "1    Bachelor's Degree    Democrat     NaN     Yes      No  ...       NaN   \n",
       "2  High School Diploma  Republican     NaN     Yes     Yes  ...       Yes   \n",
       "3    Bachelor's Degree    Democrat      No     Yes      No  ...        No   \n",
       "4  High School Diploma  Republican      No     Yes      No  ...       Yes   \n",
       "\n",
       "  Q99716 Q99581 Q99480 Q98869 Q98578      Q98059 Q98078 Q98197 Q96024  \n",
       "0     No     No    NaN     No    NaN  Only-child     No     No    Yes  \n",
       "1    NaN    NaN     No     No     No  Only-child    Yes     No     No  \n",
       "2     No     No     No    Yes     No         Yes     No    Yes     No  \n",
       "3     No     No    Yes    Yes     No         Yes     No     No    Yes  \n",
       "4     No     No    Yes     No     No         Yes     No     No    Yes  \n",
       "\n",
       "[5 rows x 108 columns]"
      ]
     },
     "execution_count": 3,
     "metadata": {},
     "output_type": "execute_result"
    }
   ],
   "source": [
    "train.head()"
   ]
  },
  {
   "cell_type": "code",
   "execution_count": 4,
   "metadata": {
    "collapsed": false
   },
   "outputs": [
    {
     "data": {
      "text/html": [
       "<div>\n",
       "<table border=\"1\" class=\"dataframe\">\n",
       "  <thead>\n",
       "    <tr style=\"text-align: right;\">\n",
       "      <th></th>\n",
       "      <th>USER_ID</th>\n",
       "      <th>YOB</th>\n",
       "      <th>Gender</th>\n",
       "      <th>Income</th>\n",
       "      <th>HouseholdStatus</th>\n",
       "      <th>EducationLevel</th>\n",
       "      <th>Q124742</th>\n",
       "      <th>Q124122</th>\n",
       "      <th>Q123464</th>\n",
       "      <th>Q123621</th>\n",
       "      <th>...</th>\n",
       "      <th>Q100010</th>\n",
       "      <th>Q99716</th>\n",
       "      <th>Q99581</th>\n",
       "      <th>Q99480</th>\n",
       "      <th>Q98869</th>\n",
       "      <th>Q98578</th>\n",
       "      <th>Q98059</th>\n",
       "      <th>Q98078</th>\n",
       "      <th>Q98197</th>\n",
       "      <th>Q96024</th>\n",
       "    </tr>\n",
       "  </thead>\n",
       "  <tbody>\n",
       "    <tr>\n",
       "      <th>0</th>\n",
       "      <td>2</td>\n",
       "      <td>1985.0</td>\n",
       "      <td>Female</td>\n",
       "      <td>$25,001 - $50,000</td>\n",
       "      <td>Single (no kids)</td>\n",
       "      <td>Master's Degree</td>\n",
       "      <td>NaN</td>\n",
       "      <td>Yes</td>\n",
       "      <td>No</td>\n",
       "      <td>Yes</td>\n",
       "      <td>...</td>\n",
       "      <td>NaN</td>\n",
       "      <td>NaN</td>\n",
       "      <td>NaN</td>\n",
       "      <td>NaN</td>\n",
       "      <td>Yes</td>\n",
       "      <td>NaN</td>\n",
       "      <td>NaN</td>\n",
       "      <td>NaN</td>\n",
       "      <td>NaN</td>\n",
       "      <td>NaN</td>\n",
       "    </tr>\n",
       "    <tr>\n",
       "      <th>1</th>\n",
       "      <td>3</td>\n",
       "      <td>1983.0</td>\n",
       "      <td>Male</td>\n",
       "      <td>$50,000 - $74,999</td>\n",
       "      <td>Married (w/kids)</td>\n",
       "      <td>Current Undergraduate</td>\n",
       "      <td>NaN</td>\n",
       "      <td>NaN</td>\n",
       "      <td>No</td>\n",
       "      <td>NaN</td>\n",
       "      <td>...</td>\n",
       "      <td>NaN</td>\n",
       "      <td>NaN</td>\n",
       "      <td>NaN</td>\n",
       "      <td>NaN</td>\n",
       "      <td>Yes</td>\n",
       "      <td>NaN</td>\n",
       "      <td>Yes</td>\n",
       "      <td>Yes</td>\n",
       "      <td>No</td>\n",
       "      <td>Yes</td>\n",
       "    </tr>\n",
       "    <tr>\n",
       "      <th>2</th>\n",
       "      <td>6</td>\n",
       "      <td>1995.0</td>\n",
       "      <td>Male</td>\n",
       "      <td>$75,000 - $100,000</td>\n",
       "      <td>Single (no kids)</td>\n",
       "      <td>Current K-12</td>\n",
       "      <td>NaN</td>\n",
       "      <td>NaN</td>\n",
       "      <td>NaN</td>\n",
       "      <td>NaN</td>\n",
       "      <td>...</td>\n",
       "      <td>No</td>\n",
       "      <td>No</td>\n",
       "      <td>No</td>\n",
       "      <td>Yes</td>\n",
       "      <td>Yes</td>\n",
       "      <td>No</td>\n",
       "      <td>Yes</td>\n",
       "      <td>No</td>\n",
       "      <td>Yes</td>\n",
       "      <td>Yes</td>\n",
       "    </tr>\n",
       "    <tr>\n",
       "      <th>3</th>\n",
       "      <td>7</td>\n",
       "      <td>1980.0</td>\n",
       "      <td>Female</td>\n",
       "      <td>$50,000 - $74,999</td>\n",
       "      <td>Single (no kids)</td>\n",
       "      <td>Master's Degree</td>\n",
       "      <td>Yes</td>\n",
       "      <td>Yes</td>\n",
       "      <td>No</td>\n",
       "      <td>Yes</td>\n",
       "      <td>...</td>\n",
       "      <td>Yes</td>\n",
       "      <td>No</td>\n",
       "      <td>No</td>\n",
       "      <td>No</td>\n",
       "      <td>Yes</td>\n",
       "      <td>No</td>\n",
       "      <td>Yes</td>\n",
       "      <td>No</td>\n",
       "      <td>No</td>\n",
       "      <td>Yes</td>\n",
       "    </tr>\n",
       "    <tr>\n",
       "      <th>4</th>\n",
       "      <td>14</td>\n",
       "      <td>1980.0</td>\n",
       "      <td>Female</td>\n",
       "      <td>NaN</td>\n",
       "      <td>Married (no kids)</td>\n",
       "      <td>Current Undergraduate</td>\n",
       "      <td>NaN</td>\n",
       "      <td>Yes</td>\n",
       "      <td>No</td>\n",
       "      <td>Yes</td>\n",
       "      <td>...</td>\n",
       "      <td>Yes</td>\n",
       "      <td>No</td>\n",
       "      <td>No</td>\n",
       "      <td>Yes</td>\n",
       "      <td>No</td>\n",
       "      <td>No</td>\n",
       "      <td>Yes</td>\n",
       "      <td>No</td>\n",
       "      <td>No</td>\n",
       "      <td>No</td>\n",
       "    </tr>\n",
       "  </tbody>\n",
       "</table>\n",
       "<p>5 rows × 107 columns</p>\n",
       "</div>"
      ],
      "text/plain": [
       "   USER_ID     YOB  Gender              Income    HouseholdStatus  \\\n",
       "0        2  1985.0  Female   $25,001 - $50,000   Single (no kids)   \n",
       "1        3  1983.0    Male   $50,000 - $74,999   Married (w/kids)   \n",
       "2        6  1995.0    Male  $75,000 - $100,000   Single (no kids)   \n",
       "3        7  1980.0  Female   $50,000 - $74,999   Single (no kids)   \n",
       "4       14  1980.0  Female                 NaN  Married (no kids)   \n",
       "\n",
       "          EducationLevel Q124742 Q124122 Q123464 Q123621  ...   Q100010  \\\n",
       "0        Master's Degree     NaN     Yes      No     Yes  ...       NaN   \n",
       "1  Current Undergraduate     NaN     NaN      No     NaN  ...       NaN   \n",
       "2           Current K-12     NaN     NaN     NaN     NaN  ...        No   \n",
       "3        Master's Degree     Yes     Yes      No     Yes  ...       Yes   \n",
       "4  Current Undergraduate     NaN     Yes      No     Yes  ...       Yes   \n",
       "\n",
       "  Q99716 Q99581 Q99480 Q98869 Q98578 Q98059 Q98078 Q98197 Q96024  \n",
       "0    NaN    NaN    NaN    Yes    NaN    NaN    NaN    NaN    NaN  \n",
       "1    NaN    NaN    NaN    Yes    NaN    Yes    Yes     No    Yes  \n",
       "2     No     No    Yes    Yes     No    Yes     No    Yes    Yes  \n",
       "3     No     No     No    Yes     No    Yes     No     No    Yes  \n",
       "4     No     No    Yes     No     No    Yes     No     No     No  \n",
       "\n",
       "[5 rows x 107 columns]"
      ]
     },
     "execution_count": 4,
     "metadata": {},
     "output_type": "execute_result"
    }
   ],
   "source": [
    "test.head()"
   ]
  },
  {
   "cell_type": "code",
   "execution_count": 11,
   "metadata": {
    "collapsed": false
   },
   "outputs": [
    {
     "name": "stdout",
     "output_type": "stream",
     "text": [
      "Shape of training set:  (5568, 108)\n",
      "Shape of test set:  (1392, 107)\n"
     ]
    }
   ],
   "source": [
    "print('Shape of training set: ',(train.shape))\n",
    "print('Shape of test set: ', (test.shape))"
   ]
  },
  {
   "cell_type": "code",
   "execution_count": 5,
   "metadata": {
    "collapsed": false
   },
   "outputs": [
    {
     "name": "stdout",
     "output_type": "stream",
     "text": [
      "List of all the features :\n",
      "['USER_ID', 'YOB', 'Gender', 'Income', 'HouseholdStatus', 'EducationLevel', 'Party', 'Q124742', 'Q124122', 'Q123464', 'Q123621', 'Q122769', 'Q122770', 'Q122771', 'Q122120', 'Q121699', 'Q121700', 'Q120978', 'Q121011', 'Q120379', 'Q120650', 'Q120472', 'Q120194', 'Q120012', 'Q120014', 'Q119334', 'Q119851', 'Q119650', 'Q118892', 'Q118117', 'Q118232', 'Q118233', 'Q118237', 'Q117186', 'Q117193', 'Q116797', 'Q116881', 'Q116953', 'Q116601', 'Q116441', 'Q116448', 'Q116197', 'Q115602', 'Q115777', 'Q115610', 'Q115611', 'Q115899', 'Q115390', 'Q114961', 'Q114748', 'Q115195', 'Q114517', 'Q114386', 'Q113992', 'Q114152', 'Q113583', 'Q113584', 'Q113181', 'Q112478', 'Q112512', 'Q112270', 'Q111848', 'Q111580', 'Q111220', 'Q110740', 'Q109367', 'Q108950', 'Q109244', 'Q108855', 'Q108617', 'Q108856', 'Q108754', 'Q108342', 'Q108343', 'Q107869', 'Q107491', 'Q106993', 'Q106997', 'Q106272', 'Q106388', 'Q106389', 'Q106042', 'Q105840', 'Q105655', 'Q104996', 'Q103293', 'Q102906', 'Q102674', 'Q102687', 'Q102289', 'Q102089', 'Q101162', 'Q101163', 'Q101596', 'Q100689', 'Q100680', 'Q100562', 'Q99982', 'Q100010', 'Q99716', 'Q99581', 'Q99480', 'Q98869', 'Q98578', 'Q98059', 'Q98078', 'Q98197', 'Q96024']\n"
     ]
    }
   ],
   "source": [
    "# list of all the features\n",
    "print('List of all the features :\\n%s'%(train.columns.tolist()))"
   ]
  },
  {
   "cell_type": "code",
   "execution_count": 13,
   "metadata": {
    "collapsed": false
   },
   "outputs": [
    {
     "name": "stdout",
     "output_type": "stream",
     "text": [
      "Party Balance\n",
      "  Democrat      2951\n",
      "Republican    2617\n",
      "Name: Party, dtype: int64\n"
     ]
    }
   ],
   "source": [
    "# class balance\n",
    "print('Party Balance\\n ', train.Party.value_counts())"
   ]
  },
  {
   "cell_type": "code",
   "execution_count": 15,
   "metadata": {
    "collapsed": false
   },
   "outputs": [
    {
     "name": "stdout",
     "output_type": "stream",
     "text": [
      "Missing values in training set :\n",
      " 106\n"
     ]
    }
   ],
   "source": [
    "# missing values\n",
    "print('Missing values in training set :\\n', train.isnull().any().sum())"
   ]
  },
  {
   "cell_type": "code",
   "execution_count": 16,
   "metadata": {
    "collapsed": false
   },
   "outputs": [
    {
     "name": "stdout",
     "output_type": "stream",
     "text": [
      "Missing values in test set: \n",
      " 106\n"
     ]
    }
   ],
   "source": [
    "print('Missing values in test set: \\n', test.isnull().any().sum())"
   ]
  },
  {
   "cell_type": "markdown",
   "metadata": {},
   "source": [
    "** Since there are lot of missing values in the data, we can carry out an analysis to see what are the different kind of missing values. **"
   ]
  },
  {
   "cell_type": "code",
   "execution_count": 17,
   "metadata": {
    "collapsed": true
   },
   "outputs": [
    {
     "name": "stdout",
     "output_type": "stream",
     "text": [
      "Datatypes of various features:\n",
      "USER_ID              int64\n",
      "YOB                float64\n",
      "Gender              object\n",
      "Income              object\n",
      "HouseholdStatus     object\n",
      "EducationLevel      object\n",
      "Party               object\n",
      "Q124742             object\n",
      "Q124122             object\n",
      "Q123464             object\n",
      "Q123621             object\n",
      "Q122769             object\n",
      "Q122770             object\n",
      "Q122771             object\n",
      "Q122120             object\n",
      "Q121699             object\n",
      "Q121700             object\n",
      "Q120978             object\n",
      "Q121011             object\n",
      "Q120379             object\n",
      "Q120650             object\n",
      "Q120472             object\n",
      "Q120194             object\n",
      "Q120012             object\n",
      "Q120014             object\n",
      "Q119334             object\n",
      "Q119851             object\n",
      "Q119650             object\n",
      "Q118892             object\n",
      "Q118117             object\n",
      "                    ...   \n",
      "Q106272             object\n",
      "Q106388             object\n",
      "Q106389             object\n",
      "Q106042             object\n",
      "Q105840             object\n",
      "Q105655             object\n",
      "Q104996             object\n",
      "Q103293             object\n",
      "Q102906             object\n",
      "Q102674             object\n",
      "Q102687             object\n",
      "Q102289             object\n",
      "Q102089             object\n",
      "Q101162             object\n",
      "Q101163             object\n",
      "Q101596             object\n",
      "Q100689             object\n",
      "Q100680             object\n",
      "Q100562             object\n",
      "Q99982              object\n",
      "Q100010             object\n",
      "Q99716              object\n",
      "Q99581              object\n",
      "Q99480              object\n",
      "Q98869              object\n",
      "Q98578              object\n",
      "Q98059              object\n",
      "Q98078              object\n",
      "Q98197              object\n",
      "Q96024              object\n",
      "dtype: object\n"
     ]
    }
   ],
   "source": [
    "print('Datatypes of various features:\\n%s'%(train.dtypes))"
   ]
  },
  {
   "cell_type": "markdown",
   "metadata": {},
   "source": [
    "** Most of the features captured are categorical in nature **"
   ]
  },
  {
   "cell_type": "code",
   "execution_count": 19,
   "metadata": {
    "collapsed": true
   },
   "outputs": [],
   "source": [
    "# concat train and test\n",
    "data = pd.concat((train, test))"
   ]
  },
  {
   "cell_type": "code",
   "execution_count": 25,
   "metadata": {
    "collapsed": true
   },
   "outputs": [],
   "source": [
    "def print_unique_values(data):\n",
    "    categorical_features = data.select_dtypes(include=['object']).columns\n",
    "    \n",
    "    for cat in categorical_features:\n",
    "        print('Number of unique values for feature: %s are: %d'%(cat, data[cat].nunique()))\n",
    "        \n",
    "        if data[cat].nunique() < 10:\n",
    "            print(data[cat].unique())\n",
    "        else:\n",
    "            print(data[cat].unique()[:10] + '...')\n",
    "        \n",
    "        print('-'*75)\n",
    "        print('\\n')"
   ]
  },
  {
   "cell_type": "code",
   "execution_count": 26,
   "metadata": {
    "collapsed": true
   },
   "outputs": [
    {
     "name": "stdout",
     "output_type": "stream",
     "text": [
      "Number of unique values for feature: EducationLevel are: 7\n",
      "[nan \"Bachelor's Degree\" 'High School Diploma' 'Current K-12'\n",
      " 'Current Undergraduate' \"Master's Degree\" \"Associate's Degree\"\n",
      " 'Doctoral Degree']\n",
      "---------------------------------------------------------------------------\n",
      "\n",
      "\n",
      "Number of unique values for feature: Gender are: 2\n",
      "['Male' 'Female' nan]\n",
      "---------------------------------------------------------------------------\n",
      "\n",
      "\n",
      "Number of unique values for feature: HouseholdStatus are: 6\n",
      "['Married (w/kids)' 'Domestic Partners (w/kids)' 'Single (no kids)'\n",
      " 'Married (no kids)' 'Domestic Partners (no kids)' nan 'Single (w/kids)']\n",
      "---------------------------------------------------------------------------\n",
      "\n",
      "\n",
      "Number of unique values for feature: Income are: 6\n",
      "[nan 'over $150,000' '$75,000 - $100,000' '$100,001 - $150,000'\n",
      " '$50,000 - $74,999' '$25,001 - $50,000' 'under $25,000']\n",
      "---------------------------------------------------------------------------\n",
      "\n",
      "\n",
      "Number of unique values for feature: Party are: 2\n",
      "['Democrat' 'Republican' nan]\n",
      "---------------------------------------------------------------------------\n",
      "\n",
      "\n",
      "Number of unique values for feature: Q100010 are: 2\n",
      "['Yes' nan 'No']\n",
      "---------------------------------------------------------------------------\n",
      "\n",
      "\n",
      "Number of unique values for feature: Q100562 are: 2\n",
      "['No' nan 'Yes']\n",
      "---------------------------------------------------------------------------\n",
      "\n",
      "\n",
      "Number of unique values for feature: Q100680 are: 2\n",
      "['No' nan 'Yes']\n",
      "---------------------------------------------------------------------------\n",
      "\n",
      "\n",
      "Number of unique values for feature: Q100689 are: 2\n",
      "['Yes' nan 'No']\n",
      "---------------------------------------------------------------------------\n",
      "\n",
      "\n",
      "Number of unique values for feature: Q101162 are: 2\n",
      "['Optimist' nan 'Pessimist']\n",
      "---------------------------------------------------------------------------\n",
      "\n",
      "\n",
      "Number of unique values for feature: Q101163 are: 2\n",
      "[nan 'Mom' 'Dad']\n",
      "---------------------------------------------------------------------------\n",
      "\n",
      "\n",
      "Number of unique values for feature: Q101596 are: 2\n",
      "['Yes' nan 'No']\n",
      "---------------------------------------------------------------------------\n",
      "\n",
      "\n",
      "Number of unique values for feature: Q102089 are: 2\n",
      "['Own' nan 'Rent']\n",
      "---------------------------------------------------------------------------\n",
      "\n",
      "\n",
      "Number of unique values for feature: Q102289 are: 2\n",
      "['No' nan 'Yes']\n",
      "---------------------------------------------------------------------------\n",
      "\n",
      "\n",
      "Number of unique values for feature: Q102674 are: 2\n",
      "['No' nan 'Yes']\n",
      "---------------------------------------------------------------------------\n",
      "\n",
      "\n",
      "Number of unique values for feature: Q102687 are: 2\n",
      "['Yes' nan 'No']\n",
      "---------------------------------------------------------------------------\n",
      "\n",
      "\n",
      "Number of unique values for feature: Q102906 are: 2\n",
      "['No' nan 'Yes']\n",
      "---------------------------------------------------------------------------\n",
      "\n",
      "\n",
      "Number of unique values for feature: Q103293 are: 2\n",
      "['No' nan 'Yes']\n",
      "---------------------------------------------------------------------------\n",
      "\n",
      "\n",
      "Number of unique values for feature: Q104996 are: 2\n",
      "['Yes' 'No' nan]\n",
      "---------------------------------------------------------------------------\n",
      "\n",
      "\n",
      "Number of unique values for feature: Q105655 are: 2\n",
      "['No' 'Yes' nan]\n",
      "---------------------------------------------------------------------------\n",
      "\n",
      "\n",
      "Number of unique values for feature: Q105840 are: 2\n",
      "[nan 'Yes' 'No']\n",
      "---------------------------------------------------------------------------\n",
      "\n",
      "\n",
      "Number of unique values for feature: Q106042 are: 2\n",
      "['Yes' 'No' nan]\n",
      "---------------------------------------------------------------------------\n",
      "\n",
      "\n",
      "Number of unique values for feature: Q106272 are: 2\n",
      "['Yes' 'No' nan]\n",
      "---------------------------------------------------------------------------\n",
      "\n",
      "\n",
      "Number of unique values for feature: Q106388 are: 2\n",
      "['No' 'Yes' nan]\n",
      "---------------------------------------------------------------------------\n",
      "\n",
      "\n",
      "Number of unique values for feature: Q106389 are: 2\n",
      "['Yes' 'No' nan]\n",
      "---------------------------------------------------------------------------\n",
      "\n",
      "\n",
      "Number of unique values for feature: Q106993 are: 2\n",
      "['Yes' 'No' nan]\n",
      "---------------------------------------------------------------------------\n",
      "\n",
      "\n",
      "Number of unique values for feature: Q106997 are: 2\n",
      "['Yay people!' 'Grrr people' nan]\n",
      "---------------------------------------------------------------------------\n",
      "\n",
      "\n",
      "Number of unique values for feature: Q107491 are: 2\n",
      "['No' 'Yes' nan]\n",
      "---------------------------------------------------------------------------\n",
      "\n",
      "\n",
      "Number of unique values for feature: Q107869 are: 2\n",
      "['Yes' 'No' nan]\n",
      "---------------------------------------------------------------------------\n",
      "\n",
      "\n",
      "Number of unique values for feature: Q108342 are: 2\n",
      "['In-person' 'Online' nan]\n",
      "---------------------------------------------------------------------------\n",
      "\n",
      "\n",
      "Number of unique values for feature: Q108343 are: 2\n",
      "[nan 'No' 'Yes']\n",
      "---------------------------------------------------------------------------\n",
      "\n",
      "\n",
      "Number of unique values for feature: Q108617 are: 2\n",
      "['No' nan 'Yes']\n",
      "---------------------------------------------------------------------------\n",
      "\n",
      "\n",
      "Number of unique values for feature: Q108754 are: 2\n",
      "['No' 'Yes' nan]\n",
      "---------------------------------------------------------------------------\n",
      "\n",
      "\n",
      "Number of unique values for feature: Q108855 are: 2\n",
      "['Yes!' 'Umm...' nan]\n",
      "---------------------------------------------------------------------------\n",
      "\n",
      "\n",
      "Number of unique values for feature: Q108856 are: 2\n",
      "['Space' 'Socialize' nan]\n",
      "---------------------------------------------------------------------------\n",
      "\n",
      "\n",
      "Number of unique values for feature: Q108950 are: 2\n",
      "['Cautious' 'Risk-friendly' nan]\n",
      "---------------------------------------------------------------------------\n",
      "\n",
      "\n",
      "Number of unique values for feature: Q109244 are: 2\n",
      "['No' nan 'Yes']\n",
      "---------------------------------------------------------------------------\n",
      "\n",
      "\n",
      "Number of unique values for feature: Q109367 are: 2\n",
      "['No' 'Yes' nan]\n",
      "---------------------------------------------------------------------------\n",
      "\n",
      "\n",
      "Number of unique values for feature: Q110740 are: 2\n",
      "[nan 'Mac' 'PC']\n",
      "---------------------------------------------------------------------------\n",
      "\n",
      "\n",
      "Number of unique values for feature: Q111220 are: 2\n",
      "['No' nan 'Yes']\n",
      "---------------------------------------------------------------------------\n",
      "\n",
      "\n",
      "Number of unique values for feature: Q111580 are: 2\n",
      "['Demanding' nan 'Supportive']\n",
      "---------------------------------------------------------------------------\n",
      "\n",
      "\n",
      "Number of unique values for feature: Q111848 are: 2\n",
      "['No' nan 'Yes']\n",
      "---------------------------------------------------------------------------\n",
      "\n",
      "\n",
      "Number of unique values for feature: Q112270 are: 2\n",
      "[nan 'Yes' 'No']\n",
      "---------------------------------------------------------------------------\n",
      "\n",
      "\n",
      "Number of unique values for feature: Q112478 are: 2\n",
      "['No' nan 'Yes']\n",
      "---------------------------------------------------------------------------\n",
      "\n",
      "\n",
      "Number of unique values for feature: Q112512 are: 2\n",
      "['Yes' nan 'No']\n",
      "---------------------------------------------------------------------------\n",
      "\n",
      "\n",
      "Number of unique values for feature: Q113181 are: 2\n",
      "['No' nan 'Yes']\n",
      "---------------------------------------------------------------------------\n",
      "\n",
      "\n",
      "Number of unique values for feature: Q113583 are: 2\n",
      "['Talk' nan 'Tunes']\n",
      "---------------------------------------------------------------------------\n",
      "\n",
      "\n",
      "Number of unique values for feature: Q113584 are: 2\n",
      "['Technology' nan 'People']\n",
      "---------------------------------------------------------------------------\n",
      "\n",
      "\n",
      "Number of unique values for feature: Q113992 are: 2\n",
      "['Yes' 'No' nan]\n",
      "---------------------------------------------------------------------------\n",
      "\n",
      "\n",
      "Number of unique values for feature: Q114152 are: 2\n",
      "['Yes' 'No' nan]\n",
      "---------------------------------------------------------------------------\n",
      "\n",
      "\n",
      "Number of unique values for feature: Q114386 are: 2\n",
      "[nan 'Mysterious' 'TMI']\n",
      "---------------------------------------------------------------------------\n",
      "\n",
      "\n",
      "Number of unique values for feature: Q114517 are: 2\n",
      "['No' 'Yes' nan]\n",
      "---------------------------------------------------------------------------\n",
      "\n",
      "\n",
      "Number of unique values for feature: Q114748 are: 2\n",
      "['Yes' 'No' nan]\n",
      "---------------------------------------------------------------------------\n",
      "\n",
      "\n",
      "Number of unique values for feature: Q114961 are: 2\n",
      "['Yes' 'No' nan]\n",
      "---------------------------------------------------------------------------\n",
      "\n",
      "\n",
      "Number of unique values for feature: Q115195 are: 2\n",
      "['Yes' nan 'No']\n",
      "---------------------------------------------------------------------------\n",
      "\n",
      "\n",
      "Number of unique values for feature: Q115390 are: 2\n",
      "['Yes' 'No' nan]\n",
      "---------------------------------------------------------------------------\n",
      "\n",
      "\n",
      "Number of unique values for feature: Q115602 are: 2\n",
      "['Yes' 'No' nan]\n",
      "---------------------------------------------------------------------------\n",
      "\n",
      "\n",
      "Number of unique values for feature: Q115610 are: 2\n",
      "['Yes' 'No' nan]\n",
      "---------------------------------------------------------------------------\n",
      "\n",
      "\n",
      "Number of unique values for feature: Q115611 are: 2\n",
      "['No' 'Yes' nan]\n",
      "---------------------------------------------------------------------------\n",
      "\n",
      "\n",
      "Number of unique values for feature: Q115777 are: 2\n",
      "['Start' 'End' nan]\n",
      "---------------------------------------------------------------------------\n",
      "\n",
      "\n",
      "Number of unique values for feature: Q115899 are: 2\n",
      "['Circumstances' 'Me' nan]\n",
      "---------------------------------------------------------------------------\n",
      "\n",
      "\n",
      "Number of unique values for feature: Q116197 are: 2\n",
      "['P.M.' 'A.M.' nan]\n",
      "---------------------------------------------------------------------------\n",
      "\n",
      "\n",
      "Number of unique values for feature: Q116441 are: 2\n",
      "['No' 'Yes' nan]\n",
      "---------------------------------------------------------------------------\n",
      "\n",
      "\n",
      "Number of unique values for feature: Q116448 are: 2\n",
      "['No' 'Yes' nan]\n",
      "---------------------------------------------------------------------------\n",
      "\n",
      "\n",
      "Number of unique values for feature: Q116601 are: 2\n",
      "['Yes' 'No' nan]\n",
      "---------------------------------------------------------------------------\n",
      "\n",
      "\n",
      "Number of unique values for feature: Q116797 are: 2\n",
      "['Yes' 'No' nan]\n",
      "---------------------------------------------------------------------------\n",
      "\n",
      "\n",
      "Number of unique values for feature: Q116881 are: 2\n",
      "['Happy' 'Right' nan]\n",
      "---------------------------------------------------------------------------\n",
      "\n",
      "\n",
      "Number of unique values for feature: Q116953 are: 2\n",
      "['Yes' nan 'No']\n",
      "---------------------------------------------------------------------------\n",
      "\n",
      "\n",
      "Number of unique values for feature: Q117186 are: 2\n",
      "[nan 'Cool headed' 'Hot headed']\n",
      "---------------------------------------------------------------------------\n",
      "\n",
      "\n",
      "Number of unique values for feature: Q117193 are: 2\n",
      "[nan 'Standard hours' 'Odd hours']\n",
      "---------------------------------------------------------------------------\n",
      "\n",
      "\n",
      "Number of unique values for feature: Q118117 are: 2\n",
      "['Yes' 'No' nan]\n",
      "---------------------------------------------------------------------------\n",
      "\n",
      "\n",
      "Number of unique values for feature: Q118232 are: 2\n",
      "['Idealist' 'Pragmatist' nan]\n",
      "---------------------------------------------------------------------------\n",
      "\n",
      "\n",
      "Number of unique values for feature: Q118233 are: 2\n",
      "['No' 'Yes' nan]\n",
      "---------------------------------------------------------------------------\n",
      "\n",
      "\n",
      "Number of unique values for feature: Q118237 are: 2\n",
      "['No' 'Yes' nan]\n",
      "---------------------------------------------------------------------------\n",
      "\n",
      "\n",
      "Number of unique values for feature: Q118892 are: 2\n",
      "['Yes' 'No' nan]\n",
      "---------------------------------------------------------------------------\n",
      "\n",
      "\n",
      "Number of unique values for feature: Q119334 are: 2\n",
      "[nan 'No' 'Yes']\n",
      "---------------------------------------------------------------------------\n",
      "\n",
      "\n",
      "Number of unique values for feature: Q119650 are: 2\n",
      "[nan 'Receiving' 'Giving']\n",
      "---------------------------------------------------------------------------\n",
      "\n",
      "\n",
      "Number of unique values for feature: Q119851 are: 2\n",
      "['Yes' 'No' nan]\n",
      "---------------------------------------------------------------------------\n",
      "\n",
      "\n",
      "Number of unique values for feature: Q120012 are: 2\n",
      "['No' 'Yes' nan]\n",
      "---------------------------------------------------------------------------\n",
      "\n",
      "\n",
      "Number of unique values for feature: Q120014 are: 2\n",
      "['No' 'Yes' nan]\n",
      "---------------------------------------------------------------------------\n",
      "\n",
      "\n",
      "Number of unique values for feature: Q120194 are: 2\n",
      "['Try first' 'Study first' nan]\n",
      "---------------------------------------------------------------------------\n",
      "\n",
      "\n",
      "Number of unique values for feature: Q120379 are: 2\n",
      "['No' 'Yes' nan]\n",
      "---------------------------------------------------------------------------\n",
      "\n",
      "\n",
      "Number of unique values for feature: Q120472 are: 2\n",
      "[nan 'Science' 'Art']\n",
      "---------------------------------------------------------------------------\n",
      "\n",
      "\n",
      "Number of unique values for feature: Q120650 are: 2\n",
      "['Yes' nan 'No']\n",
      "---------------------------------------------------------------------------\n",
      "\n",
      "\n",
      "Number of unique values for feature: Q120978 are: 2\n",
      "[nan 'Yes' 'No']\n",
      "---------------------------------------------------------------------------\n",
      "\n",
      "\n",
      "Number of unique values for feature: Q121011 are: 2\n",
      "['No' 'Yes' nan]\n",
      "---------------------------------------------------------------------------\n",
      "\n",
      "\n",
      "Number of unique values for feature: Q121699 are: 2\n",
      "['Yes' 'No' nan]\n",
      "---------------------------------------------------------------------------\n",
      "\n",
      "\n",
      "Number of unique values for feature: Q121700 are: 2\n",
      "['No' nan 'Yes']\n",
      "---------------------------------------------------------------------------\n",
      "\n",
      "\n",
      "Number of unique values for feature: Q122120 are: 2\n",
      "['No' nan 'Yes']\n",
      "---------------------------------------------------------------------------\n",
      "\n",
      "\n",
      "Number of unique values for feature: Q122769 are: 2\n",
      "['No' nan 'Yes']\n",
      "---------------------------------------------------------------------------\n",
      "\n",
      "\n",
      "Number of unique values for feature: Q122770 are: 2\n",
      "['Yes' 'No' nan]\n",
      "---------------------------------------------------------------------------\n",
      "\n",
      "\n",
      "Number of unique values for feature: Q122771 are: 2\n",
      "['Public' 'Private' nan]\n",
      "---------------------------------------------------------------------------\n",
      "\n",
      "\n",
      "Number of unique values for feature: Q123464 are: 2\n",
      "['No' 'Yes' nan]\n",
      "---------------------------------------------------------------------------\n",
      "\n",
      "\n",
      "Number of unique values for feature: Q123621 are: 2\n",
      "['No' 'Yes' nan]\n",
      "---------------------------------------------------------------------------\n",
      "\n",
      "\n",
      "Number of unique values for feature: Q124122 are: 2\n",
      "[nan 'Yes' 'No']\n",
      "---------------------------------------------------------------------------\n",
      "\n",
      "\n",
      "Number of unique values for feature: Q124742 are: 2\n",
      "['No' nan 'Yes']\n",
      "---------------------------------------------------------------------------\n",
      "\n",
      "\n",
      "Number of unique values for feature: Q96024 are: 2\n",
      "['Yes' 'No' nan]\n",
      "---------------------------------------------------------------------------\n",
      "\n",
      "\n",
      "Number of unique values for feature: Q98059 are: 2\n",
      "['Only-child' 'Yes' nan]\n",
      "---------------------------------------------------------------------------\n",
      "\n",
      "\n",
      "Number of unique values for feature: Q98078 are: 2\n",
      "['No' 'Yes' nan]\n",
      "---------------------------------------------------------------------------\n",
      "\n",
      "\n",
      "Number of unique values for feature: Q98197 are: 2\n",
      "['No' 'Yes' nan]\n",
      "---------------------------------------------------------------------------\n",
      "\n",
      "\n",
      "Number of unique values for feature: Q98578 are: 2\n",
      "[nan 'No' 'Yes']\n",
      "---------------------------------------------------------------------------\n",
      "\n",
      "\n",
      "Number of unique values for feature: Q98869 are: 2\n",
      "['No' 'Yes' nan]\n",
      "---------------------------------------------------------------------------\n",
      "\n",
      "\n",
      "Number of unique values for feature: Q99480 are: 2\n",
      "[nan 'No' 'Yes']\n",
      "---------------------------------------------------------------------------\n",
      "\n",
      "\n",
      "Number of unique values for feature: Q99581 are: 2\n",
      "['No' nan 'Yes']\n",
      "---------------------------------------------------------------------------\n",
      "\n",
      "\n",
      "Number of unique values for feature: Q99716 are: 2\n",
      "['No' nan 'Yes']\n",
      "---------------------------------------------------------------------------\n",
      "\n",
      "\n",
      "Number of unique values for feature: Q99982 are: 2\n",
      "['Nope' nan 'Check!']\n",
      "---------------------------------------------------------------------------\n",
      "\n",
      "\n"
     ]
    }
   ],
   "source": [
    "print_unique_values(data)"
   ]
  },
  {
   "cell_type": "markdown",
   "metadata": {},
   "source": [
    "** As we can see most of the questions have _yes_ / _no_ answers, we can fill missing values appropriately. **"
   ]
  },
  {
   "cell_type": "code",
   "execution_count": 27,
   "metadata": {
    "collapsed": true
   },
   "outputs": [],
   "source": [
    "# Methods to get training and test dataset from concatenated data\n",
    "\n",
    "def get_training_dataset(data):\n",
    "    mask = data.Party.notnull()\n",
    "    return data[mask]\n",
    "\n",
    "def get_test_dataset(data):\n",
    "    mask = data.Party.isnull()\n",
    "    return data[mask]"
   ]
  },
  {
   "cell_type": "markdown",
   "metadata": {},
   "source": [
    "** Relationship between different variables **"
   ]
  },
  {
   "cell_type": "markdown",
   "metadata": {},
   "source": [
    "```\n",
    "Checking if two categorical variables are independent can be done with Chi-Squared test of independence.\n",
    "\n",
    "This is a typical Chi-Square test: \n",
    "\n",
    "If we assume that two variables are independent, then the values of the contingency table for these variables should be distributed uniformly. And then we check how far away from uniform the actual values are.\n",
    "```"
   ]
  },
  {
   "cell_type": "markdown",
   "metadata": {},
   "source": [
    "```\n",
    "Let's apply this rule to find out if gender and party are independent or not.\n",
    "\n",
    "Null Hypothesis: They are independent\n",
    "Under this hypothesis, we assume their distribution to be uniform.\n",
    "\n",
    "```"
   ]
  },
  {
   "cell_type": "code",
   "execution_count": 29,
   "metadata": {
    "collapsed": false
   },
   "outputs": [
    {
     "data": {
      "text/html": [
       "<div>\n",
       "<table border=\"1\" class=\"dataframe\">\n",
       "  <thead>\n",
       "    <tr style=\"text-align: right;\">\n",
       "      <th>Gender</th>\n",
       "      <th>Female</th>\n",
       "      <th>Male</th>\n",
       "      <th>All</th>\n",
       "    </tr>\n",
       "    <tr>\n",
       "      <th>Party</th>\n",
       "      <th></th>\n",
       "      <th></th>\n",
       "      <th></th>\n",
       "    </tr>\n",
       "  </thead>\n",
       "  <tbody>\n",
       "    <tr>\n",
       "      <th>Democrat</th>\n",
       "      <td>1275</td>\n",
       "      <td>1613</td>\n",
       "      <td>2888</td>\n",
       "    </tr>\n",
       "    <tr>\n",
       "      <th>Republican</th>\n",
       "      <td>855</td>\n",
       "      <td>1712</td>\n",
       "      <td>2567</td>\n",
       "    </tr>\n",
       "    <tr>\n",
       "      <th>All</th>\n",
       "      <td>2130</td>\n",
       "      <td>3325</td>\n",
       "      <td>5455</td>\n",
       "    </tr>\n",
       "  </tbody>\n",
       "</table>\n",
       "</div>"
      ],
      "text/plain": [
       "Gender      Female  Male   All\n",
       "Party                         \n",
       "Democrat      1275  1613  2888\n",
       "Republican     855  1712  2567\n",
       "All           2130  3325  5455"
      ]
     },
     "execution_count": 29,
     "metadata": {},
     "output_type": "execute_result"
    }
   ],
   "source": [
    "pd.crosstab(train.Party, train.Gender, margins=True)"
   ]
  },
  {
   "cell_type": "code",
   "execution_count": 30,
   "metadata": {
    "collapsed": false
   },
   "outputs": [
    {
     "data": {
      "text/html": [
       "<div>\n",
       "<table border=\"1\" class=\"dataframe\">\n",
       "  <thead>\n",
       "    <tr style=\"text-align: right;\">\n",
       "      <th>Gender</th>\n",
       "      <th>Female</th>\n",
       "      <th>Male</th>\n",
       "      <th>All</th>\n",
       "    </tr>\n",
       "    <tr>\n",
       "      <th>Party</th>\n",
       "      <th></th>\n",
       "      <th></th>\n",
       "      <th></th>\n",
       "    </tr>\n",
       "  </thead>\n",
       "  <tbody>\n",
       "    <tr>\n",
       "      <th>Democrat</th>\n",
       "      <td>0.233731</td>\n",
       "      <td>0.295692</td>\n",
       "      <td>0.529423</td>\n",
       "    </tr>\n",
       "    <tr>\n",
       "      <th>Republican</th>\n",
       "      <td>0.156737</td>\n",
       "      <td>0.313841</td>\n",
       "      <td>0.470577</td>\n",
       "    </tr>\n",
       "    <tr>\n",
       "      <th>All</th>\n",
       "      <td>0.390467</td>\n",
       "      <td>0.609533</td>\n",
       "      <td>1.000000</td>\n",
       "    </tr>\n",
       "  </tbody>\n",
       "</table>\n",
       "</div>"
      ],
      "text/plain": [
       "Gender        Female      Male       All\n",
       "Party                                   \n",
       "Democrat    0.233731  0.295692  0.529423\n",
       "Republican  0.156737  0.313841  0.470577\n",
       "All         0.390467  0.609533  1.000000"
      ]
     },
     "execution_count": 30,
     "metadata": {},
     "output_type": "execute_result"
    }
   ],
   "source": [
    "pd.crosstab(train.Party, train.Gender, margins=True, normalize=True)"
   ]
  },
  {
   "cell_type": "code",
   "execution_count": 57,
   "metadata": {
    "collapsed": true
   },
   "outputs": [],
   "source": [
    "cont_table = pd.crosstab(train.Party, train.Gender) \n",
    "chi_2, p, dof, expected = sp.stats.chi2_contingency(cont_table.values, correction=False)"
   ]
  },
  {
   "cell_type": "code",
   "execution_count": 58,
   "metadata": {
    "collapsed": false
   },
   "outputs": [
    {
     "name": "stdout",
     "output_type": "stream",
     "text": [
      "P-value  2.57076096692e-16\n"
     ]
    }
   ],
   "source": [
    "print('P-value ', p)"
   ]
  },
  {
   "cell_type": "markdown",
   "metadata": {},
   "source": [
    "`P-value is very close to zero which is enough to discard the hypothesis of independence.`"
   ]
  },
  {
   "cell_type": "markdown",
   "metadata": {},
   "source": [
    "** Compute Cramer's V**"
   ]
  },
  {
   "cell_type": "code",
   "execution_count": 60,
   "metadata": {
    "collapsed": false
   },
   "outputs": [
    {
     "data": {
      "text/plain": [
       "4.0959636065625222"
      ]
     },
     "execution_count": 60,
     "metadata": {},
     "output_type": "execute_result"
    }
   ],
   "source": [
    "np.sqrt(chi_2 / (len(cont_table) * min(cont_table.shape[0], cont_table.shape[1])))"
   ]
  },
  {
   "cell_type": "markdown",
   "metadata": {},
   "source": [
    "` Lower this value, lower the correlation `"
   ]
  },
  {
   "cell_type": "markdown",
   "metadata": {},
   "source": [
    "** We can say that gender and party are not independent variables. **"
   ]
  },
  {
   "cell_type": "markdown",
   "metadata": {},
   "source": [
    "** We can perform this type of for all of the categorical variables with the target variable to see whether we can any pair of features that are independent and should not be included in the modelling process as it would add noise to the model. **"
   ]
  },
  {
   "cell_type": "code",
   "execution_count": 76,
   "metadata": {
    "collapsed": true
   },
   "outputs": [],
   "source": [
    "def chi_square_test(df, target, candidate_features):\n",
    "    test_summary = {}\n",
    "    \n",
    "    for feat in candidate_features:\n",
    "        test_summary[(target, feat)] = []\n",
    "        \n",
    "        cont_table = pd.crosstab(df[target], df[feat])\n",
    "        chi2_statistic, p_val, dof, expected = sp.stats.chi2_contingency(cont_table.values, correction=False)\n",
    "        print('P-value for the pair (%s, %s): %f'%(target, feat, p_val))\n",
    "        \n",
    "        test_summary[(target, feat)].append(p_val)\n",
    "        \n",
    "        cramer_v = np.sqrt(chi2_statistic / (len(cont_table) * min(cont_table.shape[0], cont_table.shape[1])))\n",
    "        print('Cramer-V value for pair (%s, %s): %f'%(target, feat, cramer_v))\n",
    "        \n",
    "        test_summary[(target, feat)].append(cramer_v)\n",
    "        print('-'*75)\n",
    "        print('\\n')\n",
    "        \n",
    "    return test_summary"
   ]
  },
  {
   "cell_type": "code",
   "execution_count": 64,
   "metadata": {
    "collapsed": false
   },
   "outputs": [],
   "source": [
    "def get_candidate_features(df):\n",
    "    columns = df.select_dtypes(include=['object']).columns\n",
    "    return columns.drop('Party')"
   ]
  },
  {
   "cell_type": "code",
   "execution_count": 65,
   "metadata": {
    "collapsed": true
   },
   "outputs": [],
   "source": [
    "candidate_features = get_candidate_features(train)"
   ]
  },
  {
   "cell_type": "code",
   "execution_count": 77,
   "metadata": {
    "collapsed": true
   },
   "outputs": [
    {
     "name": "stdout",
     "output_type": "stream",
     "text": [
      "P-value for the pair (Party, Gender): 0.000000\n",
      "Cramer-V value for pair (Party, Gender): 4.095964\n",
      "---------------------------------------------------------------------------\n",
      "\n",
      "\n",
      "P-value for the pair (Party, Income): 0.072121\n",
      "Cramer-V value for pair (Party, Income): 1.589976\n",
      "---------------------------------------------------------------------------\n",
      "\n",
      "\n",
      "P-value for the pair (Party, HouseholdStatus): 0.000000\n",
      "Cramer-V value for pair (Party, HouseholdStatus): 3.814418\n",
      "---------------------------------------------------------------------------\n",
      "\n",
      "\n",
      "P-value for the pair (Party, EducationLevel): 0.014332\n",
      "Cramer-V value for pair (Party, EducationLevel): 1.993395\n",
      "---------------------------------------------------------------------------\n",
      "\n",
      "\n",
      "P-value for the pair (Party, Q124742): 0.350376\n",
      "Cramer-V value for pair (Party, Q124742): 0.466930\n",
      "---------------------------------------------------------------------------\n",
      "\n",
      "\n",
      "P-value for the pair (Party, Q124122): 0.013485\n",
      "Cramer-V value for pair (Party, Q124122): 1.235344\n",
      "---------------------------------------------------------------------------\n",
      "\n",
      "\n",
      "P-value for the pair (Party, Q123464): 0.390514\n",
      "Cramer-V value for pair (Party, Q123464): 0.429343\n",
      "---------------------------------------------------------------------------\n",
      "\n",
      "\n",
      "P-value for the pair (Party, Q123621): 0.070347\n",
      "Cramer-V value for pair (Party, Q123621): 0.904835\n",
      "---------------------------------------------------------------------------\n",
      "\n",
      "\n",
      "P-value for the pair (Party, Q122769): 0.373139\n",
      "Cramer-V value for pair (Party, Q122769): 0.445305\n",
      "---------------------------------------------------------------------------\n",
      "\n",
      "\n",
      "P-value for the pair (Party, Q122770): 0.343706\n",
      "Cramer-V value for pair (Party, Q122770): 0.473434\n",
      "---------------------------------------------------------------------------\n",
      "\n",
      "\n",
      "P-value for the pair (Party, Q122771): 0.005249\n",
      "Cramer-V value for pair (Party, Q122771): 1.395679\n",
      "---------------------------------------------------------------------------\n",
      "\n",
      "\n",
      "P-value for the pair (Party, Q122120): 0.229362\n",
      "Cramer-V value for pair (Party, Q122120): 0.601002\n",
      "---------------------------------------------------------------------------\n",
      "\n",
      "\n",
      "P-value for the pair (Party, Q121699): 0.000093\n",
      "Cramer-V value for pair (Party, Q121699): 1.954367\n",
      "---------------------------------------------------------------------------\n",
      "\n",
      "\n",
      "P-value for the pair (Party, Q121700): 0.019443\n",
      "Cramer-V value for pair (Party, Q121700): 1.168465\n",
      "---------------------------------------------------------------------------\n",
      "\n",
      "\n",
      "P-value for the pair (Party, Q120978): 0.236572\n",
      "Cramer-V value for pair (Party, Q120978): 0.591799\n",
      "---------------------------------------------------------------------------\n",
      "\n",
      "\n",
      "P-value for the pair (Party, Q121011): 0.042825\n",
      "Cramer-V value for pair (Party, Q121011): 1.012707\n",
      "---------------------------------------------------------------------------\n",
      "\n",
      "\n",
      "P-value for the pair (Party, Q120379): 0.000002\n",
      "Cramer-V value for pair (Party, Q120379): 2.379411\n",
      "---------------------------------------------------------------------------\n",
      "\n",
      "\n",
      "P-value for the pair (Party, Q120650): 0.082415\n",
      "Cramer-V value for pair (Party, Q120650): 0.868422\n",
      "---------------------------------------------------------------------------\n",
      "\n",
      "\n",
      "P-value for the pair (Party, Q120472): 0.000019\n",
      "Cramer-V value for pair (Party, Q120472): 2.138539\n",
      "---------------------------------------------------------------------------\n",
      "\n",
      "\n",
      "P-value for the pair (Party, Q120194): 0.034025\n",
      "Cramer-V value for pair (Party, Q120194): 1.059887\n",
      "---------------------------------------------------------------------------\n",
      "\n",
      "\n",
      "P-value for the pair (Party, Q120012): 0.007747\n",
      "Cramer-V value for pair (Party, Q120012): 1.331453\n",
      "---------------------------------------------------------------------------\n",
      "\n",
      "\n",
      "P-value for the pair (Party, Q120014): 0.008626\n",
      "Cramer-V value for pair (Party, Q120014): 1.313257\n",
      "---------------------------------------------------------------------------\n",
      "\n",
      "\n",
      "P-value for the pair (Party, Q119334): 0.728696\n",
      "Cramer-V value for pair (Party, Q119334): 0.173430\n",
      "---------------------------------------------------------------------------\n",
      "\n",
      "\n",
      "P-value for the pair (Party, Q119851): 0.000163\n",
      "Cramer-V value for pair (Party, Q119851): 1.885159\n",
      "---------------------------------------------------------------------------\n",
      "\n",
      "\n",
      "P-value for the pair (Party, Q119650): 0.265552\n",
      "Cramer-V value for pair (Party, Q119650): 0.556682\n",
      "---------------------------------------------------------------------------\n",
      "\n",
      "\n",
      "P-value for the pair (Party, Q118892): 0.003864\n",
      "Cramer-V value for pair (Party, Q118892): 1.444541\n",
      "---------------------------------------------------------------------------\n",
      "\n",
      "\n",
      "P-value for the pair (Party, Q118117): 0.139587\n",
      "Cramer-V value for pair (Party, Q118117): 0.738665\n",
      "---------------------------------------------------------------------------\n",
      "\n",
      "\n",
      "P-value for the pair (Party, Q118232): 0.006195\n",
      "Cramer-V value for pair (Party, Q118232): 1.368648\n",
      "---------------------------------------------------------------------------\n",
      "\n",
      "\n",
      "P-value for the pair (Party, Q118233): 0.579199\n",
      "Cramer-V value for pair (Party, Q118233): 0.277277\n",
      "---------------------------------------------------------------------------\n",
      "\n",
      "\n",
      "P-value for the pair (Party, Q118237): 0.103023\n",
      "Cramer-V value for pair (Party, Q118237): 0.815186\n",
      "---------------------------------------------------------------------------\n",
      "\n",
      "\n",
      "P-value for the pair (Party, Q117186): 0.396788\n",
      "Cramer-V value for pair (Party, Q117186): 0.423685\n",
      "---------------------------------------------------------------------------\n",
      "\n",
      "\n",
      "P-value for the pair (Party, Q117193): 0.667194\n",
      "Cramer-V value for pair (Party, Q117193): 0.215001\n",
      "---------------------------------------------------------------------------\n",
      "\n",
      "\n",
      "P-value for the pair (Party, Q116797): 0.583372\n",
      "Cramer-V value for pair (Party, Q116797): 0.274233\n",
      "---------------------------------------------------------------------------\n",
      "\n",
      "\n",
      "P-value for the pair (Party, Q116881): 0.000002\n",
      "Cramer-V value for pair (Party, Q116881): 2.402393\n",
      "---------------------------------------------------------------------------\n",
      "\n",
      "\n",
      "P-value for the pair (Party, Q116953): 0.029191\n",
      "Cramer-V value for pair (Party, Q116953): 1.090451\n",
      "---------------------------------------------------------------------------\n",
      "\n",
      "\n",
      "P-value for the pair (Party, Q116601): 0.146709\n",
      "Cramer-V value for pair (Party, Q116601): 0.725628\n",
      "---------------------------------------------------------------------------\n",
      "\n",
      "\n",
      "P-value for the pair (Party, Q116441): 0.052079\n",
      "Cramer-V value for pair (Party, Q116441): 0.971240\n",
      "---------------------------------------------------------------------------\n",
      "\n",
      "\n",
      "P-value for the pair (Party, Q116448): 0.031042\n",
      "Cramer-V value for pair (Party, Q116448): 1.078270\n",
      "---------------------------------------------------------------------------\n",
      "\n",
      "\n",
      "P-value for the pair (Party, Q116197): 0.426194\n",
      "Cramer-V value for pair (Party, Q116197): 0.397861\n",
      "---------------------------------------------------------------------------\n",
      "\n",
      "\n",
      "P-value for the pair (Party, Q115602): 0.656469\n",
      "Cramer-V value for pair (Party, Q115602): 0.222397\n",
      "---------------------------------------------------------------------------\n",
      "\n",
      "\n",
      "P-value for the pair (Party, Q115777): 0.612436\n",
      "Cramer-V value for pair (Party, Q115777): 0.253299\n",
      "---------------------------------------------------------------------------\n",
      "\n",
      "\n",
      "P-value for the pair (Party, Q115610): 0.566887\n",
      "Cramer-V value for pair (Party, Q115610): 0.286321\n",
      "---------------------------------------------------------------------------\n",
      "\n",
      "\n",
      "P-value for the pair (Party, Q115611): 0.000000\n",
      "Cramer-V value for pair (Party, Q115611): 6.241750\n",
      "---------------------------------------------------------------------------\n",
      "\n",
      "\n",
      "P-value for the pair (Party, Q115899): 0.000032\n",
      "Cramer-V value for pair (Party, Q115899): 2.077682\n",
      "---------------------------------------------------------------------------\n",
      "\n",
      "\n",
      "P-value for the pair (Party, Q115390): 0.004693\n",
      "Cramer-V value for pair (Party, Q115390): 1.413704\n",
      "---------------------------------------------------------------------------\n",
      "\n",
      "\n",
      "P-value for the pair (Party, Q114961): 0.233070\n",
      "Cramer-V value for pair (Party, Q114961): 0.596244\n",
      "---------------------------------------------------------------------------\n",
      "\n",
      "\n",
      "P-value for the pair (Party, Q114748): 0.837604\n",
      "Cramer-V value for pair (Party, Q114748): 0.102479\n",
      "---------------------------------------------------------------------------\n",
      "\n",
      "\n",
      "P-value for the pair (Party, Q115195): 0.001322\n",
      "Cramer-V value for pair (Party, Q115195): 1.605551\n",
      "---------------------------------------------------------------------------\n",
      "\n",
      "\n",
      "P-value for the pair (Party, Q114517): 0.796547\n",
      "Cramer-V value for pair (Party, Q114517): 0.128910\n",
      "---------------------------------------------------------------------------\n",
      "\n",
      "\n",
      "P-value for the pair (Party, Q114386): 0.182949\n",
      "Cramer-V value for pair (Party, Q114386): 0.665865\n",
      "---------------------------------------------------------------------------\n",
      "\n",
      "\n",
      "P-value for the pair (Party, Q113992): 0.930766\n",
      "Cramer-V value for pair (Party, Q113992): 0.043441\n",
      "---------------------------------------------------------------------------\n",
      "\n",
      "\n",
      "P-value for the pair (Party, Q114152): 0.074239\n",
      "Cramer-V value for pair (Party, Q114152): 0.892568\n",
      "---------------------------------------------------------------------------\n",
      "\n",
      "\n",
      "P-value for the pair (Party, Q113583): 0.008422\n",
      "Cramer-V value for pair (Party, Q113583): 1.317332\n",
      "---------------------------------------------------------------------------\n",
      "\n",
      "\n",
      "P-value for the pair (Party, Q113584): 0.857335\n",
      "Cramer-V value for pair (Party, Q113584): 0.089884\n",
      "---------------------------------------------------------------------------\n",
      "\n",
      "\n",
      "P-value for the pair (Party, Q113181): 0.000000\n",
      "Cramer-V value for pair (Party, Q113181): 5.258840\n",
      "---------------------------------------------------------------------------\n",
      "\n",
      "\n",
      "P-value for the pair (Party, Q112478): 0.006309\n",
      "Cramer-V value for pair (Party, Q112478): 1.365642\n",
      "---------------------------------------------------------------------------\n",
      "\n",
      "\n",
      "P-value for the pair (Party, Q112512): 0.706586\n",
      "Cramer-V value for pair (Party, Q112512): 0.188223\n",
      "---------------------------------------------------------------------------\n",
      "\n",
      "\n",
      "P-value for the pair (Party, Q112270): 0.046569\n",
      "Cramer-V value for pair (Party, Q112270): 0.995102\n",
      "---------------------------------------------------------------------------\n",
      "\n",
      "\n",
      "P-value for the pair (Party, Q111848): 0.030880\n",
      "Cramer-V value for pair (Party, Q111848): 1.079308\n",
      "---------------------------------------------------------------------------\n",
      "\n",
      "\n",
      "P-value for the pair (Party, Q111580): 0.505370\n",
      "Cramer-V value for pair (Party, Q111580): 0.333032\n",
      "---------------------------------------------------------------------------\n",
      "\n",
      "\n",
      "P-value for the pair (Party, Q111220): 0.055294\n",
      "Cramer-V value for pair (Party, Q111220): 0.958280\n",
      "---------------------------------------------------------------------------\n",
      "\n",
      "\n",
      "P-value for the pair (Party, Q110740): 0.000340\n",
      "Cramer-V value for pair (Party, Q110740): 1.791205\n",
      "---------------------------------------------------------------------------\n",
      "\n",
      "\n",
      "P-value for the pair (Party, Q109367): 0.113131\n",
      "Cramer-V value for pair (Party, Q109367): 0.792138\n",
      "---------------------------------------------------------------------------\n",
      "\n",
      "\n",
      "P-value for the pair (Party, Q108950): 0.554916\n",
      "Cramer-V value for pair (Party, Q108950): 0.295205\n",
      "---------------------------------------------------------------------------\n",
      "\n",
      "\n",
      "P-value for the pair (Party, Q109244): 0.000000\n",
      "Cramer-V value for pair (Party, Q109244): 9.866240\n",
      "---------------------------------------------------------------------------\n",
      "\n",
      "\n",
      "P-value for the pair (Party, Q108855): 0.017761\n",
      "Cramer-V value for pair (Party, Q108855): 1.185277\n",
      "---------------------------------------------------------------------------\n",
      "\n",
      "\n",
      "P-value for the pair (Party, Q108617): 0.056087\n",
      "Cramer-V value for pair (Party, Q108617): 0.955179\n",
      "---------------------------------------------------------------------------\n",
      "\n",
      "\n",
      "P-value for the pair (Party, Q108856): 0.189996\n",
      "Cramer-V value for pair (Party, Q108856): 0.655296\n",
      "---------------------------------------------------------------------------\n",
      "\n",
      "\n",
      "P-value for the pair (Party, Q108754): 0.613435\n",
      "Cramer-V value for pair (Party, Q108754): 0.252588\n",
      "---------------------------------------------------------------------------\n",
      "\n",
      "\n",
      "P-value for the pair (Party, Q108342): 0.004197\n",
      "Cramer-V value for pair (Party, Q108342): 1.431467\n",
      "---------------------------------------------------------------------------\n",
      "\n",
      "\n",
      "P-value for the pair (Party, Q108343): 0.685475\n",
      "Cramer-V value for pair (Party, Q108343): 0.202502\n",
      "---------------------------------------------------------------------------\n",
      "\n",
      "\n",
      "P-value for the pair (Party, Q107869): 0.005212\n",
      "Cramer-V value for pair (Party, Q107869): 1.396817\n",
      "---------------------------------------------------------------------------\n",
      "\n",
      "\n",
      "P-value for the pair (Party, Q107491): 0.071006\n",
      "Cramer-V value for pair (Party, Q107491): 0.902720\n",
      "---------------------------------------------------------------------------\n",
      "\n",
      "\n",
      "P-value for the pair (Party, Q106993): 0.286597\n",
      "Cramer-V value for pair (Party, Q106993): 0.532808\n",
      "---------------------------------------------------------------------------\n",
      "\n",
      "\n",
      "P-value for the pair (Party, Q106997): 0.127623\n",
      "Cramer-V value for pair (Party, Q106997): 0.761772\n",
      "---------------------------------------------------------------------------\n",
      "\n",
      "\n",
      "P-value for the pair (Party, Q106272): 0.000022\n",
      "Cramer-V value for pair (Party, Q106272): 2.122604\n",
      "---------------------------------------------------------------------------\n",
      "\n",
      "\n",
      "P-value for the pair (Party, Q106388): 0.022621\n",
      "Cramer-V value for pair (Party, Q106388): 1.139885\n",
      "---------------------------------------------------------------------------\n",
      "\n",
      "\n",
      "P-value for the pair (Party, Q106389): 0.043008\n",
      "Cramer-V value for pair (Party, Q106389): 1.011817\n",
      "---------------------------------------------------------------------------\n",
      "\n",
      "\n",
      "P-value for the pair (Party, Q106042): 0.000820\n",
      "Cramer-V value for pair (Party, Q106042): 1.672902\n",
      "---------------------------------------------------------------------------\n",
      "\n",
      "\n",
      "P-value for the pair (Party, Q105840): 0.000001\n",
      "Cramer-V value for pair (Party, Q105840): 2.484835\n",
      "---------------------------------------------------------------------------\n",
      "\n",
      "\n",
      "P-value for the pair (Party, Q105655): 0.359655\n",
      "Cramer-V value for pair (Party, Q105655): 0.458011\n",
      "---------------------------------------------------------------------------\n",
      "\n",
      "\n",
      "P-value for the pair (Party, Q104996): 0.081643\n",
      "Cramer-V value for pair (Party, Q104996): 0.870617\n",
      "---------------------------------------------------------------------------\n",
      "\n",
      "\n",
      "P-value for the pair (Party, Q103293): 0.184715\n",
      "Cramer-V value for pair (Party, Q103293): 0.663188\n",
      "---------------------------------------------------------------------------\n",
      "\n",
      "\n",
      "P-value for the pair (Party, Q102906): 0.285508\n",
      "Cramer-V value for pair (Party, Q102906): 0.534014\n",
      "---------------------------------------------------------------------------\n",
      "\n",
      "\n",
      "P-value for the pair (Party, Q102674): 0.293971\n",
      "Cramer-V value for pair (Party, Q102674): 0.524725\n",
      "---------------------------------------------------------------------------\n",
      "\n",
      "\n",
      "P-value for the pair (Party, Q102687): 0.492314\n",
      "Cramer-V value for pair (Party, Q102687): 0.343316\n",
      "---------------------------------------------------------------------------\n",
      "\n",
      "\n",
      "P-value for the pair (Party, Q102289): 0.127472\n",
      "Cramer-V value for pair (Party, Q102289): 0.762073\n",
      "---------------------------------------------------------------------------\n",
      "\n",
      "\n",
      "P-value for the pair (Party, Q102089): 0.000719\n",
      "Cramer-V value for pair (Party, Q102089): 1.691191\n",
      "---------------------------------------------------------------------------\n",
      "\n",
      "\n",
      "P-value for the pair (Party, Q101162): 0.450197\n",
      "Cramer-V value for pair (Party, Q101162): 0.377543\n",
      "---------------------------------------------------------------------------\n",
      "\n",
      "\n",
      "P-value for the pair (Party, Q101163): 0.000000\n",
      "Cramer-V value for pair (Party, Q101163): 3.050908\n",
      "---------------------------------------------------------------------------\n",
      "\n",
      "\n",
      "P-value for the pair (Party, Q101596): 0.002777\n",
      "Cramer-V value for pair (Party, Q101596): 1.495714\n",
      "---------------------------------------------------------------------------\n",
      "\n",
      "\n",
      "P-value for the pair (Party, Q100689): 0.009072\n",
      "Cramer-V value for pair (Party, Q100689): 1.304660\n",
      "---------------------------------------------------------------------------\n",
      "\n",
      "\n",
      "P-value for the pair (Party, Q100680): 0.001354\n",
      "Cramer-V value for pair (Party, Q100680): 1.602146\n",
      "---------------------------------------------------------------------------\n",
      "\n",
      "\n",
      "P-value for the pair (Party, Q100562): 0.694740\n",
      "Cramer-V value for pair (Party, Q100562): 0.196216\n",
      "---------------------------------------------------------------------------\n",
      "\n",
      "\n",
      "P-value for the pair (Party, Q99982): 0.312800\n",
      "Cramer-V value for pair (Party, Q99982): 0.504682\n",
      "---------------------------------------------------------------------------\n",
      "\n",
      "\n",
      "P-value for the pair (Party, Q100010): 0.452121\n",
      "Cramer-V value for pair (Party, Q100010): 0.375942\n",
      "---------------------------------------------------------------------------\n",
      "\n",
      "\n",
      "P-value for the pair (Party, Q99716): 0.003612\n",
      "Cramer-V value for pair (Party, Q99716): 1.455087\n",
      "---------------------------------------------------------------------------\n",
      "\n",
      "\n",
      "P-value for the pair (Party, Q99581): 0.898056\n",
      "Cramer-V value for pair (Party, Q99581): 0.064059\n",
      "---------------------------------------------------------------------------\n",
      "\n",
      "\n",
      "P-value for the pair (Party, Q99480): 0.000000\n",
      "Cramer-V value for pair (Party, Q99480): 2.818402\n",
      "---------------------------------------------------------------------------\n",
      "\n",
      "\n",
      "P-value for the pair (Party, Q98869): 0.000000\n",
      "Cramer-V value for pair (Party, Q98869): 3.634175\n",
      "---------------------------------------------------------------------------\n",
      "\n",
      "\n",
      "P-value for the pair (Party, Q98578): 0.990670\n",
      "Cramer-V value for pair (Party, Q98578): 0.005847\n",
      "---------------------------------------------------------------------------\n",
      "\n",
      "\n",
      "P-value for the pair (Party, Q98059): 0.799829\n",
      "Cramer-V value for pair (Party, Q98059): 0.126784\n",
      "---------------------------------------------------------------------------\n",
      "\n",
      "\n",
      "P-value for the pair (Party, Q98078): 0.014461\n",
      "Cramer-V value for pair (Party, Q98078): 1.222797\n",
      "---------------------------------------------------------------------------\n",
      "\n",
      "\n",
      "P-value for the pair (Party, Q98197): 0.000000\n",
      "Cramer-V value for pair (Party, Q98197): 5.367056\n",
      "---------------------------------------------------------------------------\n",
      "\n",
      "\n",
      "P-value for the pair (Party, Q96024): 0.014541\n",
      "Cramer-V value for pair (Party, Q96024): 1.221805\n",
      "---------------------------------------------------------------------------\n",
      "\n",
      "\n"
     ]
    }
   ],
   "source": [
    "test_summary = chi_square_test(train, 'Party', candidate_features)"
   ]
  },
  {
   "cell_type": "code",
   "execution_count": 165,
   "metadata": {
    "collapsed": false
   },
   "outputs": [],
   "source": [
    "def select_features_chi2(test_summary, n=10):\n",
    "    return [k[1] for k, v in sorted(test_summary.items(), key=lambda x: x[1])[:n]]"
   ]
  },
  {
   "cell_type": "code",
   "execution_count": 522,
   "metadata": {
    "collapsed": false
   },
   "outputs": [],
   "source": [
    "top_chi2_features = select_features_chi2(test_summary, n=30)"
   ]
  },
  {
   "cell_type": "code",
   "execution_count": 524,
   "metadata": {
    "collapsed": false
   },
   "outputs": [
    {
     "name": "stdout",
     "output_type": "stream",
     "text": [
      "Selected Features are: \n",
      "['Q109244', 'Q115611', 'Q98197', 'Q113181', 'Gender', 'Q98869', 'HouseholdStatus', 'Q101163', 'Q99480', 'Q105840', 'Q116881', 'Q120379', 'Q120472', 'Q106272', 'Q115899', 'Q121699', 'Q119851', 'Q110740', 'Q102089', 'Q106042', 'Q115195', 'Q100680', 'Q101596', 'Q99716', 'Q118892', 'Q108342', 'Q115390', 'Q107869', 'Q122771', 'Q118232']\n"
     ]
    }
   ],
   "source": [
    "print('Selected Features are: \\n%s'%(top_chi2_features))"
   ]
  },
  {
   "cell_type": "markdown",
   "metadata": {},
   "source": [
    "** Preprocessing **"
   ]
  },
  {
   "cell_type": "code",
   "execution_count": 525,
   "metadata": {
    "collapsed": false
   },
   "outputs": [
    {
     "name": "stdout",
     "output_type": "stream",
     "text": [
      "Max YOB in the training set 2039.0\n",
      "Min YOB in the training set  1880.0\n"
     ]
    }
   ],
   "source": [
    "print('Max YOB in the training set', train.YOB.max())\n",
    "print('Min YOB in the training set ', train.YOB.min())"
   ]
  },
  {
   "cell_type": "code",
   "execution_count": 455,
   "metadata": {
    "collapsed": false
   },
   "outputs": [],
   "source": [
    "# combine categorical features\n",
    "def combine_feature(data, feature1, feature2):\n",
    "    data[feature1 + '_' + feature2] = data[feature1].astype(str) + data[feature2].astype(str)\n",
    "    return data"
   ]
  },
  {
   "cell_type": "code",
   "execution_count": 421,
   "metadata": {
    "collapsed": true
   },
   "outputs": [],
   "source": [
    "# remove entries with YOB < 1930 and YOB greater than 2000\n",
    "\n",
    "def remove_entries(data):\n",
    "    mask = (data.YOB < 1930) & (data.YOB > 2000)\n",
    "    return data[~mask]"
   ]
  },
  {
   "cell_type": "code",
   "execution_count": 356,
   "metadata": {
    "collapsed": false
   },
   "outputs": [],
   "source": [
    "def fill_missing_values(data, selected_features):\n",
    "    for col in selected_features:\n",
    "        if data[col].isnull().any():\n",
    "            data[col] = data[col].fillna(data[col].value_counts().argmax())\n",
    "    \n",
    "    return data\n",
    "\n",
    "def fill_missing_values_with_unique_label(data, selected_features):\n",
    "    for col in selected_features:\n",
    "        if data[col].isnull().any():\n",
    "            data[col] = data[col].fillna('-99999')\n",
    "            \n",
    "    return data\n",
    "\n",
    "def fill_missing_values_with_flag(data, selected_features):\n",
    "    for col in selected_features:\n",
    "        if data[col].isnull().any():\n",
    "            data[col + '_missing'] = data[col].isnull().astype(int)\n",
    "            data[col] = data[col].fillna(data[col].value_counts().argmax())\n",
    "    \n",
    "    return data"
   ]
  },
  {
   "cell_type": "code",
   "execution_count": 362,
   "metadata": {
    "collapsed": true
   },
   "outputs": [],
   "source": [
    "def missing_value_features(columns):\n",
    "    return [col for col in columns if 'missing' in col]"
   ]
  },
  {
   "cell_type": "code",
   "execution_count": 357,
   "metadata": {
    "collapsed": true
   },
   "outputs": [],
   "source": [
    "def encode_features(data, selected_features):\n",
    "    for cat in selected_features:\n",
    "        lbl = LabelEncoder()\n",
    "        lbl.fit(data[cat])\n",
    "        \n",
    "        data[cat] = lbl.transform(data[cat])\n",
    "    \n",
    "    return data"
   ]
  },
  {
   "cell_type": "code",
   "execution_count": 526,
   "metadata": {
    "collapsed": false
   },
   "outputs": [],
   "source": [
    "# concat train and test data-frames\n",
    "data = pd.concat((train, test))"
   ]
  },
  {
   "cell_type": "code",
   "execution_count": 527,
   "metadata": {
    "collapsed": false
   },
   "outputs": [],
   "source": [
    "data = remove_entries(data)\n",
    "# fill missing values for only the selected features\n",
    "data = fill_missing_values_with_unique_label(data, top_chi2_features)\n",
    "data = combine_feature(data, 'HouseholdStatus', 'Gender')\n",
    "data = encode_features(data, top_chi2_features + ['HouseholdStatus_Gender'])"
   ]
  },
  {
   "cell_type": "markdown",
   "metadata": {},
   "source": [
    "** Datasets **"
   ]
  },
  {
   "cell_type": "code",
   "execution_count": 528,
   "metadata": {
    "collapsed": false
   },
   "outputs": [],
   "source": [
    "train_ = get_training_dataset(data)\n",
    "test_  = get_test_dataset(data)"
   ]
  },
  {
   "cell_type": "code",
   "execution_count": 472,
   "metadata": {
    "collapsed": false
   },
   "outputs": [],
   "source": [
    "# add list of features created to mark missing values\n",
    "# selected_features = top_chi2_features + missing_value_features(train_.columns)"
   ]
  },
  {
   "cell_type": "code",
   "execution_count": 529,
   "metadata": {
    "collapsed": true
   },
   "outputs": [],
   "source": [
    "# include interaction variable\n",
    "selected_features = pd.Index(top_chi2_features).drop(['Gender', 'HouseholdStatus'])\n",
    "selected_features = list(selected_features) + ['HouseholdStatus_Gender']"
   ]
  },
  {
   "cell_type": "code",
   "execution_count": 530,
   "metadata": {
    "collapsed": true
   },
   "outputs": [],
   "source": [
    "X = train_[selected_features]\n",
    "y = (train_.Party == 'Democrat').astype(int)\n",
    "\n",
    "Xtest = test_[selected_features]"
   ]
  },
  {
   "cell_type": "code",
   "execution_count": 531,
   "metadata": {
    "collapsed": false
   },
   "outputs": [],
   "source": [
    "Xtr, Xte, ytr, yte = train_test_split(X, y, stratify=y, test_size=0.33, random_state=12128)"
   ]
  },
  {
   "cell_type": "markdown",
   "metadata": {},
   "source": [
    "** Logistic Regression **"
   ]
  },
  {
   "cell_type": "code",
   "execution_count": 532,
   "metadata": {
    "collapsed": false
   },
   "outputs": [
    {
     "name": "stdout",
     "output_type": "stream",
     "text": [
      "Accuracy score on unseen examples  0.578890097933\n"
     ]
    }
   ],
   "source": [
    "log = LogisticRegression(C=1.)\n",
    "log.fit(Xtr, ytr)\n",
    "\n",
    "yhat = log.predict(Xte)\n",
    "print('Accuracy score on unseen examples ', accuracy_score(yte, yhat))"
   ]
  },
  {
   "cell_type": "markdown",
   "metadata": {},
   "source": [
    "** Random Forest Classifier **"
   ]
  },
  {
   "cell_type": "code",
   "execution_count": 533,
   "metadata": {
    "collapsed": false
   },
   "outputs": [
    {
     "name": "stdout",
     "output_type": "stream",
     "text": [
      "Accuracy score on unseen examples  0.595756256801\n"
     ]
    }
   ],
   "source": [
    "rf = RandomForestClassifier(class_weight='balanced', n_estimators=100, max_depth=5, n_jobs=-1, random_state=1231)\n",
    "rf.fit(Xtr, ytr)\n",
    "\n",
    "yhat = rf.predict(Xte)\n",
    "print('Accuracy score on unseen examples ', accuracy_score(yte, yhat))"
   ]
  },
  {
   "cell_type": "markdown",
   "metadata": {},
   "source": [
    "** Extra Trees Classifier **"
   ]
  },
  {
   "cell_type": "code",
   "execution_count": 534,
   "metadata": {
    "collapsed": false
   },
   "outputs": [
    {
     "name": "stdout",
     "output_type": "stream",
     "text": [
      "Accuracy score on unseen examples  0.600652883569\n"
     ]
    }
   ],
   "source": [
    "etr = ExtraTreesClassifier(class_weight='balanced', n_estimators=150, max_depth=5, n_jobs=-1, random_state=1232)\n",
    "etr.fit(Xtr, ytr)\n",
    "\n",
    "yhat = etr.predict(Xte)\n",
    "print('Accuracy score on unseen examples ', accuracy_score(yte, yhat))"
   ]
  },
  {
   "cell_type": "markdown",
   "metadata": {},
   "source": [
    "** Extreme Gradient Boosting **"
   ]
  },
  {
   "cell_type": "code",
   "execution_count": 535,
   "metadata": {
    "collapsed": false
   },
   "outputs": [
    {
     "name": "stdout",
     "output_type": "stream",
     "text": [
      "Accuracy score on unseen examples  0.597388465724\n"
     ]
    }
   ],
   "source": [
    "xgb_est = xgb.XGBClassifier(n_estimators=100, learning_rate=0.07, min_child_weight=3, seed=21)\n",
    "xgb_est.fit(Xtr, ytr)\n",
    "\n",
    "yhat = xgb_est.predict(Xte)\n",
    "print('Accuracy score on unseen examples ', accuracy_score(yte, yhat))"
   ]
  },
  {
   "cell_type": "markdown",
   "metadata": {},
   "source": [
    "#### Estimating error "
   ]
  },
  {
   "cell_type": "code",
   "execution_count": 536,
   "metadata": {
    "collapsed": true
   },
   "outputs": [],
   "source": [
    "def estimating_error(X, y, est, n_folds=10):\n",
    "    skf = StratifiedKFold(y, n_folds=n_folds, shuffle=True, random_state=2318)\n",
    "    cv_score = cross_val_score(est, X, y, scoring='accuracy', cv=skf, n_jobs=-1)\n",
    "    return cv_score"
   ]
  },
  {
   "cell_type": "code",
   "execution_count": 537,
   "metadata": {
    "collapsed": false
   },
   "outputs": [
    {
     "name": "stdout",
     "output_type": "stream",
     "text": [
      "Mean cross-validation score for Logistic Regression: 0.604567 and std: 0.017831 \n"
     ]
    }
   ],
   "source": [
    "cv_score_log_10 = estimating_error(Xtr, ytr, log, 10)\n",
    "print('Mean cross-validation score for Logistic Regression: %f and std: %f '%(np.mean(cv_score_log_10), np.std(cv_score_log_10)))"
   ]
  },
  {
   "cell_type": "code",
   "execution_count": 538,
   "metadata": {
    "collapsed": false
   },
   "outputs": [
    {
     "name": "stdout",
     "output_type": "stream",
     "text": [
      "Mean cross-validation score for Random Forest: 0.633799 and std: 0.021993 \n"
     ]
    }
   ],
   "source": [
    "cv_score_rf_10 = estimating_error(Xtr, ytr, rf, 10)\n",
    "print('Mean cross-validation score for Random Forest: %f and std: %f '%(np.mean(cv_score_rf_10), np.std(cv_score_rf_10)))"
   ]
  },
  {
   "cell_type": "code",
   "execution_count": 539,
   "metadata": {
    "collapsed": false
   },
   "outputs": [
    {
     "name": "stdout",
     "output_type": "stream",
     "text": [
      "Mean cross-validation score for Extra Trees: 0.631639 and std: 0.019711 \n"
     ]
    }
   ],
   "source": [
    "cv_score_etr_10 = estimating_error(Xtr, ytr, etr, 10)\n",
    "print('Mean cross-validation score for Extra Trees: %f and std: %f '%(np.mean(cv_score_etr_10), np.std(cv_score_etr_10)))"
   ]
  },
  {
   "cell_type": "code",
   "execution_count": 540,
   "metadata": {
    "collapsed": false
   },
   "outputs": [
    {
     "name": "stdout",
     "output_type": "stream",
     "text": [
      "Mean cross-validation score for Extra Trees: 0.640478 and std: 0.024337 \n"
     ]
    }
   ],
   "source": [
    "cv_score_xgb_10 = estimating_error(Xtr, ytr, xgb_est, 10)\n",
    "print('Mean cross-validation score for Extra Trees: %f and std: %f '%(np.mean(cv_score_xgb_10), np.std(cv_score_xgb_10)))"
   ]
  },
  {
   "cell_type": "code",
   "execution_count": 541,
   "metadata": {
    "collapsed": true
   },
   "outputs": [],
   "source": [
    "def get_predictions(model, test):\n",
    "    return model.predict(test)"
   ]
  },
  {
   "cell_type": "code",
   "execution_count": 542,
   "metadata": {
    "collapsed": false
   },
   "outputs": [],
   "source": [
    "log_preds = get_predictions(log, Xte)\n",
    "rf_preds  = get_predictions(rf, Xte)\n",
    "etr_preds = get_predictions(etr, Xte)\n",
    "xgb_preds = get_predictions(xgb_est, Xte)"
   ]
  },
  {
   "cell_type": "markdown",
   "metadata": {},
   "source": [
    "** Analyze our errors **"
   ]
  },
  {
   "cell_type": "code",
   "execution_count": 543,
   "metadata": {
    "collapsed": false
   },
   "outputs": [],
   "source": [
    "def get_error_summary(test_df, true, preds, features=['Gender', 'HouseholdStatus']):\n",
    "    mask = preds != true\n",
    "    error_summary = {}\n",
    "    \n",
    "    gr = test_df[mask].groupby(features).size()\n",
    "    \n",
    "    for idx in gr.index.values:\n",
    "        error_summary[idx] = gr.ix[idx]\n",
    "    \n",
    "    return error_summary"
   ]
  },
  {
   "cell_type": "code",
   "execution_count": 544,
   "metadata": {
    "collapsed": true
   },
   "outputs": [
    {
     "ename": "KeyError",
     "evalue": "'Gender'",
     "output_type": "error",
     "traceback": [
      "\u001b[0;31m---------------------------------------------------------------------------\u001b[0m",
      "\u001b[0;31mKeyError\u001b[0m                                  Traceback (most recent call last)",
      "\u001b[0;32m/home/abhishek/anaconda3/lib/python3.5/site-packages/pandas/indexes/base.py\u001b[0m in \u001b[0;36mget_loc\u001b[0;34m(self, key, method, tolerance)\u001b[0m\n\u001b[1;32m   1944\u001b[0m             \u001b[0;32mtry\u001b[0m\u001b[0;34m:\u001b[0m\u001b[0;34m\u001b[0m\u001b[0m\n\u001b[0;32m-> 1945\u001b[0;31m                 \u001b[0;32mreturn\u001b[0m \u001b[0mself\u001b[0m\u001b[0;34m.\u001b[0m\u001b[0m_engine\u001b[0m\u001b[0;34m.\u001b[0m\u001b[0mget_loc\u001b[0m\u001b[0;34m(\u001b[0m\u001b[0mkey\u001b[0m\u001b[0;34m)\u001b[0m\u001b[0;34m\u001b[0m\u001b[0m\n\u001b[0m\u001b[1;32m   1946\u001b[0m             \u001b[0;32mexcept\u001b[0m \u001b[0mKeyError\u001b[0m\u001b[0;34m:\u001b[0m\u001b[0;34m\u001b[0m\u001b[0m\n",
      "\u001b[0;32mpandas/index.pyx\u001b[0m in \u001b[0;36mpandas.index.IndexEngine.get_loc (pandas/index.c:4154)\u001b[0;34m()\u001b[0m\n",
      "\u001b[0;32mpandas/index.pyx\u001b[0m in \u001b[0;36mpandas.index.IndexEngine.get_loc (pandas/index.c:4018)\u001b[0;34m()\u001b[0m\n",
      "\u001b[0;32mpandas/hashtable.pyx\u001b[0m in \u001b[0;36mpandas.hashtable.PyObjectHashTable.get_item (pandas/hashtable.c:12368)\u001b[0;34m()\u001b[0m\n",
      "\u001b[0;32mpandas/hashtable.pyx\u001b[0m in \u001b[0;36mpandas.hashtable.PyObjectHashTable.get_item (pandas/hashtable.c:12322)\u001b[0;34m()\u001b[0m\n",
      "\u001b[0;31mKeyError\u001b[0m: 'Gender'",
      "\nDuring handling of the above exception, another exception occurred:\n",
      "\u001b[0;31mKeyError\u001b[0m                                  Traceback (most recent call last)",
      "\u001b[0;32m<ipython-input-544-dd7fa330a887>\u001b[0m in \u001b[0;36m<module>\u001b[0;34m()\u001b[0m\n\u001b[0;32m----> 1\u001b[0;31m \u001b[0mlog_summary\u001b[0m \u001b[0;34m=\u001b[0m \u001b[0mget_error_summary\u001b[0m\u001b[0;34m(\u001b[0m\u001b[0mXte\u001b[0m\u001b[0;34m,\u001b[0m \u001b[0myte\u001b[0m\u001b[0;34m,\u001b[0m \u001b[0mlog_preds\u001b[0m\u001b[0;34m)\u001b[0m\u001b[0;34m\u001b[0m\u001b[0m\n\u001b[0m\u001b[1;32m      2\u001b[0m \u001b[0mrf_summary\u001b[0m \u001b[0;34m=\u001b[0m \u001b[0mget_error_summary\u001b[0m\u001b[0;34m(\u001b[0m\u001b[0mXte\u001b[0m\u001b[0;34m,\u001b[0m \u001b[0myte\u001b[0m\u001b[0;34m,\u001b[0m \u001b[0mrf_preds\u001b[0m\u001b[0;34m)\u001b[0m\u001b[0;34m\u001b[0m\u001b[0m\n\u001b[1;32m      3\u001b[0m \u001b[0metr_summary\u001b[0m \u001b[0;34m=\u001b[0m \u001b[0mget_error_summary\u001b[0m\u001b[0;34m(\u001b[0m\u001b[0mXte\u001b[0m\u001b[0;34m,\u001b[0m \u001b[0myte\u001b[0m\u001b[0;34m,\u001b[0m \u001b[0metr_preds\u001b[0m\u001b[0;34m)\u001b[0m\u001b[0;34m\u001b[0m\u001b[0m\n\u001b[1;32m      4\u001b[0m \u001b[0mxgb_summary\u001b[0m \u001b[0;34m=\u001b[0m \u001b[0mget_error_summary\u001b[0m\u001b[0;34m(\u001b[0m\u001b[0mXte\u001b[0m\u001b[0;34m,\u001b[0m \u001b[0myte\u001b[0m\u001b[0;34m,\u001b[0m \u001b[0mxgb_preds\u001b[0m\u001b[0;34m)\u001b[0m\u001b[0;34m\u001b[0m\u001b[0m\n",
      "\u001b[0;32m<ipython-input-543-d424c285a9de>\u001b[0m in \u001b[0;36mget_error_summary\u001b[0;34m(test_df, true, preds, features)\u001b[0m\n\u001b[1;32m      3\u001b[0m     \u001b[0merror_summary\u001b[0m \u001b[0;34m=\u001b[0m \u001b[0;34m{\u001b[0m\u001b[0;34m}\u001b[0m\u001b[0;34m\u001b[0m\u001b[0m\n\u001b[1;32m      4\u001b[0m \u001b[0;34m\u001b[0m\u001b[0m\n\u001b[0;32m----> 5\u001b[0;31m     \u001b[0mgr\u001b[0m \u001b[0;34m=\u001b[0m \u001b[0mtest_df\u001b[0m\u001b[0;34m[\u001b[0m\u001b[0mmask\u001b[0m\u001b[0;34m]\u001b[0m\u001b[0;34m.\u001b[0m\u001b[0mgroupby\u001b[0m\u001b[0;34m(\u001b[0m\u001b[0mfeatures\u001b[0m\u001b[0;34m)\u001b[0m\u001b[0;34m.\u001b[0m\u001b[0msize\u001b[0m\u001b[0;34m(\u001b[0m\u001b[0;34m)\u001b[0m\u001b[0;34m\u001b[0m\u001b[0m\n\u001b[0m\u001b[1;32m      6\u001b[0m \u001b[0;34m\u001b[0m\u001b[0m\n\u001b[1;32m      7\u001b[0m     \u001b[0;32mfor\u001b[0m \u001b[0midx\u001b[0m \u001b[0;32min\u001b[0m \u001b[0mgr\u001b[0m\u001b[0;34m.\u001b[0m\u001b[0mindex\u001b[0m\u001b[0;34m.\u001b[0m\u001b[0mvalues\u001b[0m\u001b[0;34m:\u001b[0m\u001b[0;34m\u001b[0m\u001b[0m\n",
      "\u001b[0;32m/home/abhishek/anaconda3/lib/python3.5/site-packages/pandas/core/generic.py\u001b[0m in \u001b[0;36mgroupby\u001b[0;34m(self, by, axis, level, as_index, sort, group_keys, squeeze, **kwargs)\u001b[0m\n\u001b[1;32m   3776\u001b[0m         return groupby(self, by=by, axis=axis, level=level, as_index=as_index,\n\u001b[1;32m   3777\u001b[0m                        \u001b[0msort\u001b[0m\u001b[0;34m=\u001b[0m\u001b[0msort\u001b[0m\u001b[0;34m,\u001b[0m \u001b[0mgroup_keys\u001b[0m\u001b[0;34m=\u001b[0m\u001b[0mgroup_keys\u001b[0m\u001b[0;34m,\u001b[0m \u001b[0msqueeze\u001b[0m\u001b[0;34m=\u001b[0m\u001b[0msqueeze\u001b[0m\u001b[0;34m,\u001b[0m\u001b[0;34m\u001b[0m\u001b[0m\n\u001b[0;32m-> 3778\u001b[0;31m                        **kwargs)\n\u001b[0m\u001b[1;32m   3779\u001b[0m \u001b[0;34m\u001b[0m\u001b[0m\n\u001b[1;32m   3780\u001b[0m     \u001b[0;32mdef\u001b[0m \u001b[0masfreq\u001b[0m\u001b[0;34m(\u001b[0m\u001b[0mself\u001b[0m\u001b[0;34m,\u001b[0m \u001b[0mfreq\u001b[0m\u001b[0;34m,\u001b[0m \u001b[0mmethod\u001b[0m\u001b[0;34m=\u001b[0m\u001b[0;32mNone\u001b[0m\u001b[0;34m,\u001b[0m \u001b[0mhow\u001b[0m\u001b[0;34m=\u001b[0m\u001b[0;32mNone\u001b[0m\u001b[0;34m,\u001b[0m \u001b[0mnormalize\u001b[0m\u001b[0;34m=\u001b[0m\u001b[0;32mFalse\u001b[0m\u001b[0;34m)\u001b[0m\u001b[0;34m:\u001b[0m\u001b[0;34m\u001b[0m\u001b[0m\n",
      "\u001b[0;32m/home/abhishek/anaconda3/lib/python3.5/site-packages/pandas/core/groupby.py\u001b[0m in \u001b[0;36mgroupby\u001b[0;34m(obj, by, **kwds)\u001b[0m\n\u001b[1;32m   1425\u001b[0m         \u001b[0;32mraise\u001b[0m \u001b[0mTypeError\u001b[0m\u001b[0;34m(\u001b[0m\u001b[0;34m'invalid type: %s'\u001b[0m \u001b[0;34m%\u001b[0m \u001b[0mtype\u001b[0m\u001b[0;34m(\u001b[0m\u001b[0mobj\u001b[0m\u001b[0;34m)\u001b[0m\u001b[0;34m)\u001b[0m\u001b[0;34m\u001b[0m\u001b[0m\n\u001b[1;32m   1426\u001b[0m \u001b[0;34m\u001b[0m\u001b[0m\n\u001b[0;32m-> 1427\u001b[0;31m     \u001b[0;32mreturn\u001b[0m \u001b[0mklass\u001b[0m\u001b[0;34m(\u001b[0m\u001b[0mobj\u001b[0m\u001b[0;34m,\u001b[0m \u001b[0mby\u001b[0m\u001b[0;34m,\u001b[0m \u001b[0;34m**\u001b[0m\u001b[0mkwds\u001b[0m\u001b[0;34m)\u001b[0m\u001b[0;34m\u001b[0m\u001b[0m\n\u001b[0m\u001b[1;32m   1428\u001b[0m \u001b[0;34m\u001b[0m\u001b[0m\n\u001b[1;32m   1429\u001b[0m \u001b[0;34m\u001b[0m\u001b[0m\n",
      "\u001b[0;32m/home/abhishek/anaconda3/lib/python3.5/site-packages/pandas/core/groupby.py\u001b[0m in \u001b[0;36m__init__\u001b[0;34m(self, obj, keys, axis, level, grouper, exclusions, selection, as_index, sort, group_keys, squeeze, **kwargs)\u001b[0m\n\u001b[1;32m    352\u001b[0m                                                     \u001b[0mlevel\u001b[0m\u001b[0;34m=\u001b[0m\u001b[0mlevel\u001b[0m\u001b[0;34m,\u001b[0m\u001b[0;34m\u001b[0m\u001b[0m\n\u001b[1;32m    353\u001b[0m                                                     \u001b[0msort\u001b[0m\u001b[0;34m=\u001b[0m\u001b[0msort\u001b[0m\u001b[0;34m,\u001b[0m\u001b[0;34m\u001b[0m\u001b[0m\n\u001b[0;32m--> 354\u001b[0;31m                                                     mutated=self.mutated)\n\u001b[0m\u001b[1;32m    355\u001b[0m \u001b[0;34m\u001b[0m\u001b[0m\n\u001b[1;32m    356\u001b[0m         \u001b[0mself\u001b[0m\u001b[0;34m.\u001b[0m\u001b[0mobj\u001b[0m \u001b[0;34m=\u001b[0m \u001b[0mobj\u001b[0m\u001b[0;34m\u001b[0m\u001b[0m\n",
      "\u001b[0;32m/home/abhishek/anaconda3/lib/python3.5/site-packages/pandas/core/groupby.py\u001b[0m in \u001b[0;36m_get_grouper\u001b[0;34m(obj, key, axis, level, sort, mutated)\u001b[0m\n\u001b[1;32m   2381\u001b[0m \u001b[0;34m\u001b[0m\u001b[0m\n\u001b[1;32m   2382\u001b[0m         \u001b[0;32melif\u001b[0m \u001b[0mis_in_axis\u001b[0m\u001b[0;34m(\u001b[0m\u001b[0mgpr\u001b[0m\u001b[0;34m)\u001b[0m\u001b[0;34m:\u001b[0m  \u001b[0;31m# df.groupby('name')\u001b[0m\u001b[0;34m\u001b[0m\u001b[0m\n\u001b[0;32m-> 2383\u001b[0;31m             \u001b[0min_axis\u001b[0m\u001b[0;34m,\u001b[0m \u001b[0mname\u001b[0m\u001b[0;34m,\u001b[0m \u001b[0mgpr\u001b[0m \u001b[0;34m=\u001b[0m \u001b[0;32mTrue\u001b[0m\u001b[0;34m,\u001b[0m \u001b[0mgpr\u001b[0m\u001b[0;34m,\u001b[0m \u001b[0mobj\u001b[0m\u001b[0;34m[\u001b[0m\u001b[0mgpr\u001b[0m\u001b[0;34m]\u001b[0m\u001b[0;34m\u001b[0m\u001b[0m\n\u001b[0m\u001b[1;32m   2384\u001b[0m             \u001b[0mexclusions\u001b[0m\u001b[0;34m.\u001b[0m\u001b[0mappend\u001b[0m\u001b[0;34m(\u001b[0m\u001b[0mname\u001b[0m\u001b[0;34m)\u001b[0m\u001b[0;34m\u001b[0m\u001b[0m\n\u001b[1;32m   2385\u001b[0m \u001b[0;34m\u001b[0m\u001b[0m\n",
      "\u001b[0;32m/home/abhishek/anaconda3/lib/python3.5/site-packages/pandas/core/frame.py\u001b[0m in \u001b[0;36m__getitem__\u001b[0;34m(self, key)\u001b[0m\n\u001b[1;32m   1995\u001b[0m             \u001b[0;32mreturn\u001b[0m \u001b[0mself\u001b[0m\u001b[0;34m.\u001b[0m\u001b[0m_getitem_multilevel\u001b[0m\u001b[0;34m(\u001b[0m\u001b[0mkey\u001b[0m\u001b[0;34m)\u001b[0m\u001b[0;34m\u001b[0m\u001b[0m\n\u001b[1;32m   1996\u001b[0m         \u001b[0;32melse\u001b[0m\u001b[0;34m:\u001b[0m\u001b[0;34m\u001b[0m\u001b[0m\n\u001b[0;32m-> 1997\u001b[0;31m             \u001b[0;32mreturn\u001b[0m \u001b[0mself\u001b[0m\u001b[0;34m.\u001b[0m\u001b[0m_getitem_column\u001b[0m\u001b[0;34m(\u001b[0m\u001b[0mkey\u001b[0m\u001b[0;34m)\u001b[0m\u001b[0;34m\u001b[0m\u001b[0m\n\u001b[0m\u001b[1;32m   1998\u001b[0m \u001b[0;34m\u001b[0m\u001b[0m\n\u001b[1;32m   1999\u001b[0m     \u001b[0;32mdef\u001b[0m \u001b[0m_getitem_column\u001b[0m\u001b[0;34m(\u001b[0m\u001b[0mself\u001b[0m\u001b[0;34m,\u001b[0m \u001b[0mkey\u001b[0m\u001b[0;34m)\u001b[0m\u001b[0;34m:\u001b[0m\u001b[0;34m\u001b[0m\u001b[0m\n",
      "\u001b[0;32m/home/abhishek/anaconda3/lib/python3.5/site-packages/pandas/core/frame.py\u001b[0m in \u001b[0;36m_getitem_column\u001b[0;34m(self, key)\u001b[0m\n\u001b[1;32m   2002\u001b[0m         \u001b[0;31m# get column\u001b[0m\u001b[0;34m\u001b[0m\u001b[0;34m\u001b[0m\u001b[0m\n\u001b[1;32m   2003\u001b[0m         \u001b[0;32mif\u001b[0m \u001b[0mself\u001b[0m\u001b[0;34m.\u001b[0m\u001b[0mcolumns\u001b[0m\u001b[0;34m.\u001b[0m\u001b[0mis_unique\u001b[0m\u001b[0;34m:\u001b[0m\u001b[0;34m\u001b[0m\u001b[0m\n\u001b[0;32m-> 2004\u001b[0;31m             \u001b[0;32mreturn\u001b[0m \u001b[0mself\u001b[0m\u001b[0;34m.\u001b[0m\u001b[0m_get_item_cache\u001b[0m\u001b[0;34m(\u001b[0m\u001b[0mkey\u001b[0m\u001b[0;34m)\u001b[0m\u001b[0;34m\u001b[0m\u001b[0m\n\u001b[0m\u001b[1;32m   2005\u001b[0m \u001b[0;34m\u001b[0m\u001b[0m\n\u001b[1;32m   2006\u001b[0m         \u001b[0;31m# duplicate columns & possible reduce dimensionality\u001b[0m\u001b[0;34m\u001b[0m\u001b[0;34m\u001b[0m\u001b[0m\n",
      "\u001b[0;32m/home/abhishek/anaconda3/lib/python3.5/site-packages/pandas/core/generic.py\u001b[0m in \u001b[0;36m_get_item_cache\u001b[0;34m(self, item)\u001b[0m\n\u001b[1;32m   1348\u001b[0m         \u001b[0mres\u001b[0m \u001b[0;34m=\u001b[0m \u001b[0mcache\u001b[0m\u001b[0;34m.\u001b[0m\u001b[0mget\u001b[0m\u001b[0;34m(\u001b[0m\u001b[0mitem\u001b[0m\u001b[0;34m)\u001b[0m\u001b[0;34m\u001b[0m\u001b[0m\n\u001b[1;32m   1349\u001b[0m         \u001b[0;32mif\u001b[0m \u001b[0mres\u001b[0m \u001b[0;32mis\u001b[0m \u001b[0;32mNone\u001b[0m\u001b[0;34m:\u001b[0m\u001b[0;34m\u001b[0m\u001b[0m\n\u001b[0;32m-> 1350\u001b[0;31m             \u001b[0mvalues\u001b[0m \u001b[0;34m=\u001b[0m \u001b[0mself\u001b[0m\u001b[0;34m.\u001b[0m\u001b[0m_data\u001b[0m\u001b[0;34m.\u001b[0m\u001b[0mget\u001b[0m\u001b[0;34m(\u001b[0m\u001b[0mitem\u001b[0m\u001b[0;34m)\u001b[0m\u001b[0;34m\u001b[0m\u001b[0m\n\u001b[0m\u001b[1;32m   1351\u001b[0m             \u001b[0mres\u001b[0m \u001b[0;34m=\u001b[0m \u001b[0mself\u001b[0m\u001b[0;34m.\u001b[0m\u001b[0m_box_item_values\u001b[0m\u001b[0;34m(\u001b[0m\u001b[0mitem\u001b[0m\u001b[0;34m,\u001b[0m \u001b[0mvalues\u001b[0m\u001b[0;34m)\u001b[0m\u001b[0;34m\u001b[0m\u001b[0m\n\u001b[1;32m   1352\u001b[0m             \u001b[0mcache\u001b[0m\u001b[0;34m[\u001b[0m\u001b[0mitem\u001b[0m\u001b[0;34m]\u001b[0m \u001b[0;34m=\u001b[0m \u001b[0mres\u001b[0m\u001b[0;34m\u001b[0m\u001b[0m\n",
      "\u001b[0;32m/home/abhishek/anaconda3/lib/python3.5/site-packages/pandas/core/internals.py\u001b[0m in \u001b[0;36mget\u001b[0;34m(self, item, fastpath)\u001b[0m\n\u001b[1;32m   3288\u001b[0m \u001b[0;34m\u001b[0m\u001b[0m\n\u001b[1;32m   3289\u001b[0m             \u001b[0;32mif\u001b[0m \u001b[0;32mnot\u001b[0m \u001b[0misnull\u001b[0m\u001b[0;34m(\u001b[0m\u001b[0mitem\u001b[0m\u001b[0;34m)\u001b[0m\u001b[0;34m:\u001b[0m\u001b[0;34m\u001b[0m\u001b[0m\n\u001b[0;32m-> 3290\u001b[0;31m                 \u001b[0mloc\u001b[0m \u001b[0;34m=\u001b[0m \u001b[0mself\u001b[0m\u001b[0;34m.\u001b[0m\u001b[0mitems\u001b[0m\u001b[0;34m.\u001b[0m\u001b[0mget_loc\u001b[0m\u001b[0;34m(\u001b[0m\u001b[0mitem\u001b[0m\u001b[0;34m)\u001b[0m\u001b[0;34m\u001b[0m\u001b[0m\n\u001b[0m\u001b[1;32m   3291\u001b[0m             \u001b[0;32melse\u001b[0m\u001b[0;34m:\u001b[0m\u001b[0;34m\u001b[0m\u001b[0m\n\u001b[1;32m   3292\u001b[0m                 \u001b[0mindexer\u001b[0m \u001b[0;34m=\u001b[0m \u001b[0mnp\u001b[0m\u001b[0;34m.\u001b[0m\u001b[0marange\u001b[0m\u001b[0;34m(\u001b[0m\u001b[0mlen\u001b[0m\u001b[0;34m(\u001b[0m\u001b[0mself\u001b[0m\u001b[0;34m.\u001b[0m\u001b[0mitems\u001b[0m\u001b[0;34m)\u001b[0m\u001b[0;34m)\u001b[0m\u001b[0;34m[\u001b[0m\u001b[0misnull\u001b[0m\u001b[0;34m(\u001b[0m\u001b[0mself\u001b[0m\u001b[0;34m.\u001b[0m\u001b[0mitems\u001b[0m\u001b[0;34m)\u001b[0m\u001b[0;34m]\u001b[0m\u001b[0;34m\u001b[0m\u001b[0m\n",
      "\u001b[0;32m/home/abhishek/anaconda3/lib/python3.5/site-packages/pandas/indexes/base.py\u001b[0m in \u001b[0;36mget_loc\u001b[0;34m(self, key, method, tolerance)\u001b[0m\n\u001b[1;32m   1945\u001b[0m                 \u001b[0;32mreturn\u001b[0m \u001b[0mself\u001b[0m\u001b[0;34m.\u001b[0m\u001b[0m_engine\u001b[0m\u001b[0;34m.\u001b[0m\u001b[0mget_loc\u001b[0m\u001b[0;34m(\u001b[0m\u001b[0mkey\u001b[0m\u001b[0;34m)\u001b[0m\u001b[0;34m\u001b[0m\u001b[0m\n\u001b[1;32m   1946\u001b[0m             \u001b[0;32mexcept\u001b[0m \u001b[0mKeyError\u001b[0m\u001b[0;34m:\u001b[0m\u001b[0;34m\u001b[0m\u001b[0m\n\u001b[0;32m-> 1947\u001b[0;31m                 \u001b[0;32mreturn\u001b[0m \u001b[0mself\u001b[0m\u001b[0;34m.\u001b[0m\u001b[0m_engine\u001b[0m\u001b[0;34m.\u001b[0m\u001b[0mget_loc\u001b[0m\u001b[0;34m(\u001b[0m\u001b[0mself\u001b[0m\u001b[0;34m.\u001b[0m\u001b[0m_maybe_cast_indexer\u001b[0m\u001b[0;34m(\u001b[0m\u001b[0mkey\u001b[0m\u001b[0;34m)\u001b[0m\u001b[0;34m)\u001b[0m\u001b[0;34m\u001b[0m\u001b[0m\n\u001b[0m\u001b[1;32m   1948\u001b[0m \u001b[0;34m\u001b[0m\u001b[0m\n\u001b[1;32m   1949\u001b[0m         \u001b[0mindexer\u001b[0m \u001b[0;34m=\u001b[0m \u001b[0mself\u001b[0m\u001b[0;34m.\u001b[0m\u001b[0mget_indexer\u001b[0m\u001b[0;34m(\u001b[0m\u001b[0;34m[\u001b[0m\u001b[0mkey\u001b[0m\u001b[0;34m]\u001b[0m\u001b[0;34m,\u001b[0m \u001b[0mmethod\u001b[0m\u001b[0;34m=\u001b[0m\u001b[0mmethod\u001b[0m\u001b[0;34m,\u001b[0m \u001b[0mtolerance\u001b[0m\u001b[0;34m=\u001b[0m\u001b[0mtolerance\u001b[0m\u001b[0;34m)\u001b[0m\u001b[0;34m\u001b[0m\u001b[0m\n",
      "\u001b[0;32mpandas/index.pyx\u001b[0m in \u001b[0;36mpandas.index.IndexEngine.get_loc (pandas/index.c:4154)\u001b[0;34m()\u001b[0m\n",
      "\u001b[0;32mpandas/index.pyx\u001b[0m in \u001b[0;36mpandas.index.IndexEngine.get_loc (pandas/index.c:4018)\u001b[0;34m()\u001b[0m\n",
      "\u001b[0;32mpandas/hashtable.pyx\u001b[0m in \u001b[0;36mpandas.hashtable.PyObjectHashTable.get_item (pandas/hashtable.c:12368)\u001b[0;34m()\u001b[0m\n",
      "\u001b[0;32mpandas/hashtable.pyx\u001b[0m in \u001b[0;36mpandas.hashtable.PyObjectHashTable.get_item (pandas/hashtable.c:12322)\u001b[0;34m()\u001b[0m\n",
      "\u001b[0;31mKeyError\u001b[0m: 'Gender'"
     ]
    }
   ],
   "source": [
    "log_summary = get_error_summary(Xte, yte, log_preds)\n",
    "rf_summary = get_error_summary(Xte, yte, rf_preds)\n",
    "etr_summary = get_error_summary(Xte, yte, etr_preds)\n",
    "xgb_summary = get_error_summary(Xte, yte, xgb_preds)"
   ]
  },
  {
   "cell_type": "code",
   "execution_count": 509,
   "metadata": {
    "collapsed": true
   },
   "outputs": [
    {
     "data": {
      "text/plain": [
       "{(0, 0): 10,\n",
       " (0, 1): 7,\n",
       " (0, 2): 34,\n",
       " (0, 3): 62,\n",
       " (0, 4): 138,\n",
       " (0, 5): 14,\n",
       " (1, 0): 15,\n",
       " (1, 1): 6,\n",
       " (1, 2): 57,\n",
       " (1, 3): 144,\n",
       " (1, 4): 231,\n",
       " (1, 5): 11}"
      ]
     },
     "execution_count": 509,
     "metadata": {},
     "output_type": "execute_result"
    }
   ],
   "source": [
    "log_summary"
   ]
  },
  {
   "cell_type": "code",
   "execution_count": 441,
   "metadata": {
    "collapsed": false
   },
   "outputs": [
    {
     "data": {
      "text/plain": [
       "{(0, 0): 9,\n",
       " (0, 1): 7,\n",
       " (0, 2): 34,\n",
       " (0, 3): 60,\n",
       " (0, 4): 134,\n",
       " (0, 5): 14,\n",
       " (1, 0): 15,\n",
       " (1, 1): 6,\n",
       " (1, 2): 58,\n",
       " (1, 3): 145,\n",
       " (1, 4): 241,\n",
       " (1, 5): 11}"
      ]
     },
     "execution_count": 441,
     "metadata": {},
     "output_type": "execute_result"
    }
   ],
   "source": [
    "rf_summary"
   ]
  },
  {
   "cell_type": "code",
   "execution_count": 442,
   "metadata": {
    "collapsed": false
   },
   "outputs": [
    {
     "data": {
      "text/plain": [
       "{(0, 0): 10,\n",
       " (0, 1): 7,\n",
       " (0, 2): 34,\n",
       " (0, 3): 60,\n",
       " (0, 4): 137,\n",
       " (0, 5): 13,\n",
       " (1, 0): 14,\n",
       " (1, 1): 5,\n",
       " (1, 2): 57,\n",
       " (1, 3): 143,\n",
       " (1, 4): 239,\n",
       " (1, 5): 16}"
      ]
     },
     "execution_count": 442,
     "metadata": {},
     "output_type": "execute_result"
    }
   ],
   "source": [
    "etr_summary"
   ]
  },
  {
   "cell_type": "code",
   "execution_count": 443,
   "metadata": {
    "collapsed": false
   },
   "outputs": [
    {
     "data": {
      "text/plain": [
       "{(0, 0): 8,\n",
       " (0, 1): 7,\n",
       " (0, 2): 33,\n",
       " (0, 3): 60,\n",
       " (0, 4): 135,\n",
       " (0, 5): 13,\n",
       " (1, 0): 17,\n",
       " (1, 1): 4,\n",
       " (1, 2): 59,\n",
       " (1, 3): 145,\n",
       " (1, 4): 244,\n",
       " (1, 5): 13}"
      ]
     },
     "execution_count": 443,
     "metadata": {},
     "output_type": "execute_result"
    }
   ],
   "source": [
    "xgb_summary"
   ]
  },
  {
   "cell_type": "markdown",
   "metadata": {},
   "source": [
    "** So it is proving to be difficult to get gender type 2 and household type 5 correct in general **"
   ]
  },
  {
   "cell_type": "code",
   "execution_count": 444,
   "metadata": {
    "collapsed": false
   },
   "outputs": [
    {
     "data": {
      "text/plain": [
       "Gender  HouseholdStatus\n",
       "0       0                   27\n",
       "        1                   12\n",
       "        2                   93\n",
       "        3                  184\n",
       "        4                  354\n",
       "        5                   36\n",
       "1       0                   42\n",
       "        1                   10\n",
       "        2                  132\n",
       "        3                  339\n",
       "        4                  577\n",
       "        5                   32\n",
       "dtype: int64"
      ]
     },
     "execution_count": 444,
     "metadata": {},
     "output_type": "execute_result"
    }
   ],
   "source": [
    "Xte.groupby(['Gender', 'HouseholdStatus']).size()"
   ]
  },
  {
   "cell_type": "markdown",
   "metadata": {},
   "source": [
    "** Reason might be that this is the most common pair **"
   ]
  },
  {
   "cell_type": "markdown",
   "metadata": {},
   "source": [
    "** Lets see whether predictions of these models are correlated or not **"
   ]
  },
  {
   "cell_type": "code",
   "execution_count": 510,
   "metadata": {
    "collapsed": false
   },
   "outputs": [
    {
     "data": {
      "text/html": [
       "<div>\n",
       "<table border=\"1\" class=\"dataframe\">\n",
       "  <thead>\n",
       "    <tr style=\"text-align: right;\">\n",
       "      <th>col_0</th>\n",
       "      <th>0</th>\n",
       "      <th>1</th>\n",
       "      <th>All</th>\n",
       "    </tr>\n",
       "    <tr>\n",
       "      <th>row_0</th>\n",
       "      <th></th>\n",
       "      <th></th>\n",
       "      <th></th>\n",
       "    </tr>\n",
       "  </thead>\n",
       "  <tbody>\n",
       "    <tr>\n",
       "      <th>0</th>\n",
       "      <td>0.355822</td>\n",
       "      <td>0.027748</td>\n",
       "      <td>0.383569</td>\n",
       "    </tr>\n",
       "    <tr>\n",
       "      <th>1</th>\n",
       "      <td>0.037541</td>\n",
       "      <td>0.578890</td>\n",
       "      <td>0.616431</td>\n",
       "    </tr>\n",
       "    <tr>\n",
       "      <th>All</th>\n",
       "      <td>0.393362</td>\n",
       "      <td>0.606638</td>\n",
       "      <td>1.000000</td>\n",
       "    </tr>\n",
       "  </tbody>\n",
       "</table>\n",
       "</div>"
      ],
      "text/plain": [
       "col_0         0         1       All\n",
       "row_0                              \n",
       "0      0.355822  0.027748  0.383569\n",
       "1      0.037541  0.578890  0.616431\n",
       "All    0.393362  0.606638  1.000000"
      ]
     },
     "execution_count": 510,
     "metadata": {},
     "output_type": "execute_result"
    }
   ],
   "source": [
    "pd.crosstab(log_preds, rf_preds, margins=True, normalize=True)"
   ]
  },
  {
   "cell_type": "code",
   "execution_count": 511,
   "metadata": {
    "collapsed": false
   },
   "outputs": [
    {
     "data": {
      "text/html": [
       "<div>\n",
       "<table border=\"1\" class=\"dataframe\">\n",
       "  <thead>\n",
       "    <tr style=\"text-align: right;\">\n",
       "      <th>col_0</th>\n",
       "      <th>0</th>\n",
       "      <th>1</th>\n",
       "      <th>All</th>\n",
       "    </tr>\n",
       "    <tr>\n",
       "      <th>row_0</th>\n",
       "      <th></th>\n",
       "      <th></th>\n",
       "      <th></th>\n",
       "    </tr>\n",
       "  </thead>\n",
       "  <tbody>\n",
       "    <tr>\n",
       "      <th>0</th>\n",
       "      <td>0.372144</td>\n",
       "      <td>0.009249</td>\n",
       "      <td>0.381393</td>\n",
       "    </tr>\n",
       "    <tr>\n",
       "      <th>1</th>\n",
       "      <td>0.021219</td>\n",
       "      <td>0.597388</td>\n",
       "      <td>0.618607</td>\n",
       "    </tr>\n",
       "    <tr>\n",
       "      <th>All</th>\n",
       "      <td>0.393362</td>\n",
       "      <td>0.606638</td>\n",
       "      <td>1.000000</td>\n",
       "    </tr>\n",
       "  </tbody>\n",
       "</table>\n",
       "</div>"
      ],
      "text/plain": [
       "col_0         0         1       All\n",
       "row_0                              \n",
       "0      0.372144  0.009249  0.381393\n",
       "1      0.021219  0.597388  0.618607\n",
       "All    0.393362  0.606638  1.000000"
      ]
     },
     "execution_count": 511,
     "metadata": {},
     "output_type": "execute_result"
    }
   ],
   "source": [
    "pd.crosstab(etr_preds, rf_preds, margins=True, normalize=True)"
   ]
  },
  {
   "cell_type": "code",
   "execution_count": 512,
   "metadata": {
    "collapsed": false
   },
   "outputs": [
    {
     "data": {
      "text/html": [
       "<div>\n",
       "<table border=\"1\" class=\"dataframe\">\n",
       "  <thead>\n",
       "    <tr style=\"text-align: right;\">\n",
       "      <th>col_0</th>\n",
       "      <th>0</th>\n",
       "      <th>1</th>\n",
       "      <th>All</th>\n",
       "    </tr>\n",
       "    <tr>\n",
       "      <th>row_0</th>\n",
       "      <th></th>\n",
       "      <th></th>\n",
       "      <th></th>\n",
       "    </tr>\n",
       "  </thead>\n",
       "  <tbody>\n",
       "    <tr>\n",
       "      <th>0</th>\n",
       "      <td>0.346572</td>\n",
       "      <td>0.036997</td>\n",
       "      <td>0.383569</td>\n",
       "    </tr>\n",
       "    <tr>\n",
       "      <th>1</th>\n",
       "      <td>0.034820</td>\n",
       "      <td>0.581610</td>\n",
       "      <td>0.616431</td>\n",
       "    </tr>\n",
       "    <tr>\n",
       "      <th>All</th>\n",
       "      <td>0.381393</td>\n",
       "      <td>0.618607</td>\n",
       "      <td>1.000000</td>\n",
       "    </tr>\n",
       "  </tbody>\n",
       "</table>\n",
       "</div>"
      ],
      "text/plain": [
       "col_0         0         1       All\n",
       "row_0                              \n",
       "0      0.346572  0.036997  0.383569\n",
       "1      0.034820  0.581610  0.616431\n",
       "All    0.381393  0.618607  1.000000"
      ]
     },
     "execution_count": 512,
     "metadata": {},
     "output_type": "execute_result"
    }
   ],
   "source": [
    "pd.crosstab(log_preds, etr_preds, margins=True, normalize=True)"
   ]
  },
  {
   "cell_type": "code",
   "execution_count": 513,
   "metadata": {
    "collapsed": false
   },
   "outputs": [
    {
     "data": {
      "text/html": [
       "<div>\n",
       "<table border=\"1\" class=\"dataframe\">\n",
       "  <thead>\n",
       "    <tr style=\"text-align: right;\">\n",
       "      <th>col_0</th>\n",
       "      <th>0</th>\n",
       "      <th>1</th>\n",
       "      <th>All</th>\n",
       "    </tr>\n",
       "    <tr>\n",
       "      <th>row_0</th>\n",
       "      <th></th>\n",
       "      <th></th>\n",
       "      <th></th>\n",
       "    </tr>\n",
       "  </thead>\n",
       "  <tbody>\n",
       "    <tr>\n",
       "      <th>0</th>\n",
       "      <td>0.335691</td>\n",
       "      <td>0.047878</td>\n",
       "      <td>0.383569</td>\n",
       "    </tr>\n",
       "    <tr>\n",
       "      <th>1</th>\n",
       "      <td>0.027748</td>\n",
       "      <td>0.588683</td>\n",
       "      <td>0.616431</td>\n",
       "    </tr>\n",
       "    <tr>\n",
       "      <th>All</th>\n",
       "      <td>0.363439</td>\n",
       "      <td>0.636561</td>\n",
       "      <td>1.000000</td>\n",
       "    </tr>\n",
       "  </tbody>\n",
       "</table>\n",
       "</div>"
      ],
      "text/plain": [
       "col_0         0         1       All\n",
       "row_0                              \n",
       "0      0.335691  0.047878  0.383569\n",
       "1      0.027748  0.588683  0.616431\n",
       "All    0.363439  0.636561  1.000000"
      ]
     },
     "execution_count": 513,
     "metadata": {},
     "output_type": "execute_result"
    }
   ],
   "source": [
    "pd.crosstab(log_preds, xgb_preds, margins=True, normalize=True)"
   ]
  },
  {
   "cell_type": "code",
   "execution_count": 514,
   "metadata": {
    "collapsed": false
   },
   "outputs": [
    {
     "data": {
      "text/html": [
       "<div>\n",
       "<table border=\"1\" class=\"dataframe\">\n",
       "  <thead>\n",
       "    <tr style=\"text-align: right;\">\n",
       "      <th>col_0</th>\n",
       "      <th>0</th>\n",
       "      <th>1</th>\n",
       "      <th>All</th>\n",
       "    </tr>\n",
       "    <tr>\n",
       "      <th>row_0</th>\n",
       "      <th></th>\n",
       "      <th></th>\n",
       "      <th></th>\n",
       "    </tr>\n",
       "  </thead>\n",
       "  <tbody>\n",
       "    <tr>\n",
       "      <th>0</th>\n",
       "      <td>0.352013</td>\n",
       "      <td>0.041349</td>\n",
       "      <td>0.393362</td>\n",
       "    </tr>\n",
       "    <tr>\n",
       "      <th>1</th>\n",
       "      <td>0.011425</td>\n",
       "      <td>0.595212</td>\n",
       "      <td>0.606638</td>\n",
       "    </tr>\n",
       "    <tr>\n",
       "      <th>All</th>\n",
       "      <td>0.363439</td>\n",
       "      <td>0.636561</td>\n",
       "      <td>1.000000</td>\n",
       "    </tr>\n",
       "  </tbody>\n",
       "</table>\n",
       "</div>"
      ],
      "text/plain": [
       "col_0         0         1       All\n",
       "row_0                              \n",
       "0      0.352013  0.041349  0.393362\n",
       "1      0.011425  0.595212  0.606638\n",
       "All    0.363439  0.636561  1.000000"
      ]
     },
     "execution_count": 514,
     "metadata": {},
     "output_type": "execute_result"
    }
   ],
   "source": [
    "pd.crosstab(rf_preds, xgb_preds, margins=True, normalize=True)"
   ]
  },
  {
   "cell_type": "code",
   "execution_count": 515,
   "metadata": {
    "collapsed": false
   },
   "outputs": [
    {
     "data": {
      "text/html": [
       "<div>\n",
       "<table border=\"1\" class=\"dataframe\">\n",
       "  <thead>\n",
       "    <tr style=\"text-align: right;\">\n",
       "      <th>col_0</th>\n",
       "      <th>0</th>\n",
       "      <th>1</th>\n",
       "      <th>All</th>\n",
       "    </tr>\n",
       "    <tr>\n",
       "      <th>row_0</th>\n",
       "      <th></th>\n",
       "      <th></th>\n",
       "      <th></th>\n",
       "    </tr>\n",
       "  </thead>\n",
       "  <tbody>\n",
       "    <tr>\n",
       "      <th>0</th>\n",
       "      <td>0.340044</td>\n",
       "      <td>0.041349</td>\n",
       "      <td>0.381393</td>\n",
       "    </tr>\n",
       "    <tr>\n",
       "      <th>1</th>\n",
       "      <td>0.023395</td>\n",
       "      <td>0.595212</td>\n",
       "      <td>0.618607</td>\n",
       "    </tr>\n",
       "    <tr>\n",
       "      <th>All</th>\n",
       "      <td>0.363439</td>\n",
       "      <td>0.636561</td>\n",
       "      <td>1.000000</td>\n",
       "    </tr>\n",
       "  </tbody>\n",
       "</table>\n",
       "</div>"
      ],
      "text/plain": [
       "col_0         0         1       All\n",
       "row_0                              \n",
       "0      0.340044  0.041349  0.381393\n",
       "1      0.023395  0.595212  0.618607\n",
       "All    0.363439  0.636561  1.000000"
      ]
     },
     "execution_count": 515,
     "metadata": {},
     "output_type": "execute_result"
    }
   ],
   "source": [
    "pd.crosstab(etr_preds, xgb_preds, margins=True, normalize=True)"
   ]
  },
  {
   "cell_type": "code",
   "execution_count": 516,
   "metadata": {
    "collapsed": false
   },
   "outputs": [],
   "source": [
    "def majority_voting(preds, n_examples, ytest=None):\n",
    "    final_preds = []\n",
    "    for i in range(n_examples):\n",
    "        model_preds = []\n",
    "        for j in range(len(preds)):\n",
    "            model_preds.append(preds[j][i])\n",
    "        \n",
    "        bin_count = np.bincount(model_preds)\n",
    "        final_preds.append(np.argmax(bin_count))\n",
    "    \n",
    "    if ytest is not None:\n",
    "        print('Accuracy of majority voting ensemble: %f'%(accuracy_score(ytest, final_preds)))\n",
    "    return final_preds"
   ]
  },
  {
   "cell_type": "code",
   "execution_count": 545,
   "metadata": {
    "collapsed": false
   },
   "outputs": [
    {
     "name": "stdout",
     "output_type": "stream",
     "text": [
      "Accuracy of majority voting ensemble: 0.601741\n"
     ]
    }
   ],
   "source": [
    "_ = majority_voting([log_preds, rf_preds, etr_preds, xgb_preds], len(yte), yte)"
   ]
  },
  {
   "cell_type": "markdown",
   "metadata": {},
   "source": [
    "#### Full Training"
   ]
  },
  {
   "cell_type": "code",
   "execution_count": 518,
   "metadata": {
    "collapsed": true
   },
   "outputs": [],
   "source": [
    "log.fit(X, y)\n",
    "log_preds = log.predict(Xtest)\n",
    "\n",
    "rf.fit(X, y)\n",
    "rf_preds  = rf.predict(Xtest)\n",
    "\n",
    "etr.fit(X, y)\n",
    "etr_preds = etr.predict(Xtest)\n",
    "\n",
    "xgb_est.fit(X, y)\n",
    "xgb_preds = xgb_est.predict(Xtest)\n",
    "\n",
    "predictions = majority_voting([log_preds, rf_preds, etr_preds, xgb_preds], len(Xtest))"
   ]
  },
  {
   "cell_type": "code",
   "execution_count": 519,
   "metadata": {
    "collapsed": false
   },
   "outputs": [],
   "source": [
    "prediction_labels = map(lambda x: 'Democrat' if x == 1 else 'Republican', predictions)"
   ]
  },
  {
   "cell_type": "code",
   "execution_count": 520,
   "metadata": {
    "collapsed": false
   },
   "outputs": [],
   "source": [
    "sub['Predictions'] = list(prediction_labels)"
   ]
  },
  {
   "cell_type": "markdown",
   "metadata": {},
   "source": [
    "* Logistic Regression - Public : 0.61638\tPrivate: 0.60632\n",
    "* Ensemble Model ( Logistic, Random Forest, Extra Trees ) - Public : 0.62356\tPrivate : 0.62213\n",
    "* Ensemble with -999 filled in for missing values - Public: 0.62069 Private: 0.63218"
   ]
  },
  {
   "cell_type": "code",
   "execution_count": 521,
   "metadata": {
    "collapsed": true
   },
   "outputs": [],
   "source": [
    "sub.to_csv('../submissions/HouseholdGendercombined.csv', index=False)"
   ]
  },
  {
   "cell_type": "code",
   "execution_count": null,
   "metadata": {
    "collapsed": true
   },
   "outputs": [],
   "source": []
  }
 ],
 "metadata": {
  "kernelspec": {
   "display_name": "Python [Root]",
   "language": "python",
   "name": "Python [Root]"
  },
  "language_info": {
   "codemirror_mode": {
    "name": "ipython",
    "version": 3
   },
   "file_extension": ".py",
   "mimetype": "text/x-python",
   "name": "python",
   "nbconvert_exporter": "python",
   "pygments_lexer": "ipython3",
   "version": "3.5.2"
  }
 },
 "nbformat": 4,
 "nbformat_minor": 0
}
